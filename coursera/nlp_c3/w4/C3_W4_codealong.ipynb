{
 "metadata": {
  "language_info": {
   "codemirror_mode": {
    "name": "ipython",
    "version": 3
   },
   "file_extension": ".py",
   "mimetype": "text/x-python",
   "name": "python",
   "nbconvert_exporter": "python",
   "pygments_lexer": "ipython3",
   "version": "3.7.3-final"
  },
  "orig_nbformat": 2,
  "kernelspec": {
   "name": "python3",
   "display_name": "Python 3",
   "language": "python"
  }
 },
 "nbformat": 4,
 "nbformat_minor": 2,
 "cells": [
  {
   "cell_type": "code",
   "execution_count": 1,
   "metadata": {},
   "outputs": [
    {
     "output_type": "stream",
     "name": "stderr",
     "text": [
      "WARNING:root:Argument blacklist is deprecated. Please use denylist.\n",
      "WARNING:root:Argument blacklist is deprecated. Please use denylist.\n",
      "WARNING:root:Argument blacklist is deprecated. Please use denylist.\n",
      "WARNING:root:Argument blacklist is deprecated. Please use denylist.\n",
      "WARNING:root:Argument blacklist is deprecated. Please use denylist.\n",
      "WARNING:root:Argument blacklist is deprecated. Please use denylist.\n",
      "WARNING:root:Argument blacklist is deprecated. Please use denylist.\n",
      "WARNING:root:Argument blacklist is deprecated. Please use denylist.\n",
      "WARNING:root:Argument blacklist is deprecated. Please use denylist.\n",
      "WARNING:root:Argument blacklist is deprecated. Please use denylist.\n",
      "WARNING:root:Argument blacklist is deprecated. Please use denylist.\n",
      "WARNING:root:Argument blacklist is deprecated. Please use denylist.\n",
      "WARNING:root:Argument blacklist is deprecated. Please use denylist.\n",
      "WARNING:root:Argument blacklist is deprecated. Please use denylist.\n",
      "WARNING:root:Argument blacklist is deprecated. Please use denylist.\n",
      "WARNING:root:Argument blacklist is deprecated. Please use denylist.\n",
      "WARNING:root:Argument blacklist is deprecated. Please use denylist.\n",
      "WARNING:root:Argument blacklist is deprecated. Please use denylist.\n",
      "WARNING:root:Argument blacklist is deprecated. Please use denylist.\n",
      "WARNING:root:Argument blacklist is deprecated. Please use denylist.\n",
      "WARNING:root:Argument blacklist is deprecated. Please use denylist.\n",
      "WARNING:root:Argument blacklist is deprecated. Please use denylist.\n",
      "WARNING:root:Argument blacklist is deprecated. Please use denylist.\n",
      "WARNING:root:Argument blacklist is deprecated. Please use denylist.\n",
      "WARNING:root:Argument blacklist is deprecated. Please use denylist.\n",
      "WARNING:absl:No GPU/TPU found, falling back to CPU. (Set TF_CPP_MIN_LOG_LEVEL=0 and rerun for more info.)\n"
     ]
    }
   ],
   "source": [
    "import trax\n",
    "from trax import layers as tl\n",
    "import trax.fastmath.numpy as np\n",
    "import numpy\n",
    "\n",
    "# Setting random seeds\n",
    "trax.supervised.trainer_lib.init_random_number_generators(10)\n",
    "numpy.random.seed(10)"
   ]
  },
  {
   "cell_type": "code",
   "execution_count": 2,
   "metadata": {},
   "outputs": [],
   "source": [
    "def normalize(x):\n",
    "    return x / np.sqrt(np.sum(x * x, axis=-1, keepdims=True))\n",
    "\n",
    "# Denominator can be replaced by np.linalg.norm(x, axis=-1, keepdims=True) for the same result"
   ]
  },
  {
   "cell_type": "code",
   "execution_count": 3,
   "metadata": {},
   "outputs": [
    {
     "output_type": "stream",
     "name": "stdout",
     "text": [
      "The tensor is of type: <class 'numpy.ndarray'>\n and looks like this: [[0.77132064 0.02075195 0.63364823 0.74880388 0.49850701]\n [0.22479665 0.19806286 0.76053071 0.16911084 0.08833981]]\n"
     ]
    }
   ],
   "source": [
    "tensor = numpy.random.random((2,5))\n",
    "print(f'The tensor is of type: {type(tensor)}\\n and looks like this: {tensor}')"
   ]
  },
  {
   "cell_type": "code",
   "execution_count": 10,
   "metadata": {},
   "outputs": [],
   "source": [
    "# Siamese model layers: Serial combination of\n",
    "# Embedding\n",
    "# LSTMCell\n",
    "# Mean\n",
    "# Fn\n",
    "# Parallel\n",
    "\n",
    "vocab_size = 500\n",
    "model_dimension = 128\n",
    "\n",
    "LSTM = tl.Serial(\n",
    "    tl.Embedding(vocab_size=vocab_size, d_feature=model_dimension),\n",
    "    tl.LSTM(model_dimension),\n",
    "    tl.Mean(axis=1),\n",
    "    tl.Fn('Noarmlize', lambda x: normalize(x))\n",
    ")\n",
    "\n",
    "Siamese = tl.Parallel(LSTM, LSTM)"
   ]
  },
  {
   "cell_type": "code",
   "execution_count": 11,
   "metadata": {},
   "outputs": [
    {
     "output_type": "stream",
     "name": "stdout",
     "text": [
      "[Serial[\n  Embedding_500_128\n  LSTM_128\n  Mean\n  Noarmlize\n], Serial[\n  Embedding_500_128\n  LSTM_128\n  Mean\n  Noarmlize\n]]\n"
     ]
    }
   ],
   "source": [
    "print(Siamese.sublayers)"
   ]
  },
  {
   "source": [
    "# Modified Triplet Loss"
   ],
   "cell_type": "markdown",
   "metadata": {}
  },
  {
   "cell_type": "code",
   "execution_count": 18,
   "metadata": {},
   "outputs": [
    {
     "output_type": "stream",
     "name": "stdout",
     "text": [
      "0.5309942440535915\n"
     ]
    }
   ],
   "source": [
    "# In this notebook  you'll see how to calculate the full triplet loss, step by step\n",
    "import numpy as np\n",
    "\n",
    "# Similarity scores\n",
    "v1 = np.array([1, 2, 3], dtype=float)\n",
    "v2 = np.array([-1, -1, 3.5])\n",
    "\n",
    "def cosine_similarity(v1, v2):\n",
    "    numerator = np.dot(v1, v2)\n",
    "    denominator = np.sqrt(np.dot(v1, v1)) * np.sqrt(np.dot(v2, v2))\n",
    "    return numerator / denominator\n",
    "\n",
    "print(cosine_similarity(v1, v2))"
   ]
  },
  {
   "cell_type": "code",
   "execution_count": 20,
   "metadata": {},
   "outputs": [
    {
     "output_type": "stream",
     "name": "stdout",
     "text": [
      "-- Inputs --\nv1 :\n[[ 1  2  3]\n [ 9  8  7]\n [-1 -4 -2]\n [ 1 -7  2]] \n\nv2 :\n[[ 3.969074   -0.15960977 -0.95545656]\n [ 5.51325541  8.53214033 11.76993466]\n [ 1.24738251 -0.65475557 -1.80170157]\n [ 3.79599275 -7.54249598  3.22640837]] \n\nTrue\noutputs\noption 1: loop\n[[ 0.0512523   0.9950823  -0.63888057 -0.04759565]\n [ 0.48776666  0.9247955  -0.20792352 -0.02852344]\n [-0.07582989 -0.88679041  0.47468256  0.48091866]\n [ 0.10576754 -0.26846188  0.13252315  0.94913706]]\n[[ 0.0512523   0.9950823  -0.63888057 -0.04759565]\n [ 0.48776666  0.9247955  -0.20792352 -0.02852344]\n [-0.07582989 -0.88679041  0.47468256  0.48091866]\n [ 0.10576754 -0.26846188  0.13252315  0.94913706]]\nTrue\n"
     ]
    }
   ],
   "source": [
    "# 2 bateches of vectors\n",
    "# Input data\n",
    "print(\"-- Inputs --\")\n",
    "v1_1 = np.array([1, 2, 3])\n",
    "v1_2 = np.array([9, 8, 7])\n",
    "v1_3 = np.array([-1, -4, -2])\n",
    "v1_4 = np.array([1, -7, 2])\n",
    "v1 = np.vstack([v1_1, v1_2, v1_3, v1_4])\n",
    "print(\"v1 :\")\n",
    "print(v1, \"\\n\")\n",
    "v2_1 = v1_1 + np.random.normal(0, 2, 3)  # add some noise to create approximate duplicate\n",
    "v2_2 = v1_2 + np.random.normal(0, 2, 3)\n",
    "v2_3 = v1_3 + np.random.normal(0, 2, 3)\n",
    "v2_4 = v1_4 + np.random.normal(0, 2, 3)\n",
    "v2 = np.vstack([v2_1, v2_2, v2_3, v2_4])\n",
    "print(\"v2 :\")\n",
    "print(v2, \"\\n\")\n",
    "\n",
    "b = len(v1)\n",
    "print(b==len(v2))\n",
    "\n",
    "print('outputs')\n",
    "sim_1 = np.zeros([b,b])\n",
    "for row in range(0, sim_1.shape[0]):\n",
    "    for col in range(0, sim_1.shape[1]):\n",
    "        sim_1[row, col] = cosine_similarity(v1[row], v2[col])\n",
    "\n",
    "print('option 1: loop')\n",
    "print(sim_1)\n",
    "\n",
    "def norm(x):\n",
    "    return x / np.sqrt(np.sum(x * x, axis=1, keepdims=True))\n",
    "\n",
    "sim_2 = np.dot(norm(v1), norm(v2).T)\n",
    "\n",
    "print(sim_2)\n",
    "print(np.allclose(sim_1, sim_2))"
   ]
  },
  {
   "cell_type": "code",
   "execution_count": 28,
   "metadata": {},
   "outputs": [
    {
     "output_type": "stream",
     "name": "stdout",
     "text": [
      "sim (4, 4)\n[[ 0.9 -0.8  0.3 -0.5]\n [-0.4  0.5  0.1 -0.1]\n [ 0.3  0.1 -0.4 -0.8]\n [-0.5 -0.2 -0.7  0.5]]\nsim_ap :\n[ 0.9  0.5 -0.4  0.5]\n[[ 0.9  0.   0.   0. ]\n [ 0.   0.5  0.   0. ]\n [ 0.   0.  -0.4  0. ]\n [ 0.   0.   0.   0.5]]\nsim_an:\n[[ 0.  -0.8  0.3 -0.5]\n [-0.4  0.   0.1 -0.1]\n [ 0.3  0.1  0.  -0.8]\n [-0.5 -0.2 -0.7  0. ]]\n-- outputs --\nmean_neg :\n[[-0.33333333]\n [-0.13333333]\n [-0.13333333]\n [-0.46666667]]\n[[ 0.9]\n [ 0.5]\n [-0.4]\n [ 0.5]]\nmask_1\n[[ True False False False]\n [False  True False False]\n [False False  True False]\n [False False False  True]]\nmask_2\n[[False False False False]\n [False False False False]\n [ True  True  True False]\n [False False False False]]\nmask_overall\n[[ True False False False]\n [False  True False False]\n [ True  True  True False]\n [False False False  True]]\nsim_an_masked\n[[-2.  -0.8  0.3 -0.5]\n [-0.4 -2.   0.1 -0.1]\n [-2.  -2.  -2.  -0.8]\n [-0.5 -0.2 -0.7 -2. ]]\nclosest_neg :\n[[ 0.3]\n [ 0.1]\n [-0.8]\n [-0.2]] \n\n"
     ]
    }
   ],
   "source": [
    "# Hardcoded matrix of similarity scores\n",
    "sim_hardcoded = np.array(\n",
    "    [\n",
    "        [0.9, -0.8, 0.3, -0.5],\n",
    "        [-0.4, 0.5, 0.1, -0.1],\n",
    "        [0.3, 0.1, -0.4, -0.8],\n",
    "        [-0.5, -0.2, -0.7, 0.5],\n",
    "    ]\n",
    ")\n",
    "\n",
    "sim = sim_hardcoded\n",
    "b=sim.shape[0]\n",
    "\n",
    "print('sim', sim.shape)\n",
    "print(sim)\n",
    "\n",
    "# Positives\n",
    "sim_ap = np.diag(sim)\n",
    "print('sim_ap :')\n",
    "print(sim_ap)\n",
    "print(np.diag(sim_ap))\n",
    "\n",
    "# Negatives\n",
    "sim_an =  sim - np.diag(sim_ap)\n",
    "print('sim_an:')\n",
    "print(sim_an)\n",
    "\n",
    "print('-- outputs --')\n",
    "mean_neg = np.sum(sim_an, axis=1, keepdims=True) / (b-1)\n",
    "print('mean_neg :')\n",
    "print(mean_neg)\n",
    "\n",
    "mask_1 = np.identity(b) == 1\n",
    "print(sim_ap.reshape(b,1))\n",
    "mask_2 = sim_an > sim_ap.reshape(b,1)\n",
    "print('mask_1')\n",
    "print(mask_1)\n",
    "print('mask_2')\n",
    "print(mask_2)\n",
    "mask = mask_1 | mask_2\n",
    "print('mask_overall')\n",
    "print(mask)\n",
    "\n",
    "sim_an_masked = np.copy(sim_an)         # create a copy to preserve sim_an\n",
    "sim_an_masked[mask] = -2\n",
    "print('sim_an_masked')\n",
    "print(sim_an_masked)\n",
    "\n",
    "closest_neg = np.max(sim_an_masked, axis=1, keepdims=True)\n",
    "print(\"closest_neg :\")\n",
    "print(closest_neg, \"\\n\")"
   ]
  },
  {
   "cell_type": "code",
   "execution_count": 29,
   "metadata": {},
   "outputs": [
    {
     "output_type": "stream",
     "name": "stdout",
     "text": [
      "loss full\n[[0.        ]\n [0.        ]\n [0.51666667]\n [0.        ]]\n0.5166666666666667\n"
     ]
    }
   ],
   "source": [
    "# Loss functions\n",
    "alpha = 0.25\n",
    "l_1 = np.maximum(mean_neg - sim_ap.reshape(b,1) +  alpha, 0)\n",
    "l_2 = np.maximum(closest_neg - sim_ap.reshape(b, 1) + alpha, 0)\n",
    "l_full = l_1 + l_2\n",
    "cost = np.sum(l_full)\n",
    "\n",
    "print('loss full')\n",
    "print(l_full)\n",
    "print(cost)"
   ]
  },
  {
   "source": [
    "# Evaluate a Siamese Model"
   ],
   "cell_type": "markdown",
   "metadata": {}
  },
  {
   "cell_type": "code",
   "execution_count": null,
   "metadata": {},
   "outputs": [],
   "source": []
  }
 ]
}