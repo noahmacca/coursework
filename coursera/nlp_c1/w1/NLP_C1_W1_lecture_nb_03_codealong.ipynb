{
 "metadata": {
  "language_info": {
   "codemirror_mode": {
    "name": "ipython",
    "version": 3
   },
   "file_extension": ".py",
   "mimetype": "text/x-python",
   "name": "python",
   "nbconvert_exporter": "python",
   "pygments_lexer": "ipython3",
   "version": "3.7.3-final"
  },
  "orig_nbformat": 2,
  "kernelspec": {
   "name": "python3",
   "display_name": "Python 3"
  }
 },
 "nbformat": 4,
 "nbformat_minor": 2,
 "cells": [
  {
   "source": [
    "# Visualizing tweets and the Logistic Regression model\n",
    "\n",
    "Objectives: Visualize and interpret the logistic regression model\n",
    "Steps:\n",
    "* Plot tweets in a scatter plot using their positive and negative sums\n",
    "* Plot the output of the logistic regression model in the asme plot as a solid line"
   ],
   "cell_type": "markdown",
   "metadata": {}
  },
  {
   "cell_type": "code",
   "execution_count": null,
   "metadata": {},
   "outputs": [],
   "source": [
    "import nltk\n",
    "from os import getcwd\n",
    "import pandas as pd\n",
    "from nltk.corpus import twitter_samples\n",
    "import matplotlib.pyplot as plt\n",
    "import numpy as np\n",
    "\n",
    "from utils import process_tweet, build_freqs"
   ]
  },
  {
   "cell_type": "code",
   "execution_count": null,
   "metadata": {},
   "outputs": [],
   "source": [
    "# Load NLTK sample dataset as before\n",
    "all_positive_tweets = twitter_samples.strings('positive_tweets.json')\n",
    "all_negative_tweets = twitter_samples.strings('negative_tweets.json')\n",
    "\n",
    "tweets = all_positive_tweets + all_negative_tweets ## Concatenate the lists. \n",
    "labels = np.append(np.ones((len(all_positive_tweets),1)), np.zeros((len(all_negative_tweets),1)), axis = 0)"
   ]
  },
  {
   "cell_type": "code",
   "execution_count": null,
   "metadata": {},
   "outputs": [],
   "source": [
    "# Get training subset of data\n",
    "train_size = 4000\n",
    "train_x = all_positive_tweets[:train_size] + all_negative_tweets[:train_size]\n",
    "print('number of tweets in training set:', len(train_x))"
   ]
  },
  {
   "cell_type": "code",
   "execution_count": null,
   "metadata": {},
   "outputs": [],
   "source": [
    "# Load features\n",
    "data = pd.read_csv('logistic_features.csv')\n",
    "data.head()"
   ]
  },
  {
   "cell_type": "code",
   "execution_count": null,
   "metadata": {},
   "outputs": [],
   "source": [
    "# Convert to numpy arrays\n",
    "X = data[['bias', 'positive', 'negative']].values\n",
    "Y = data['sentiment'].values\n",
    "\n",
    "print(X.shape)\n",
    "print(X)"
   ]
  },
  {
   "cell_type": "code",
   "execution_count": null,
   "metadata": {},
   "outputs": [],
   "source": [
    "# Load a pretrained Logistic Regression model\n",
    "theta = [7e-08, 0.0005239, -0.00055517]"
   ]
  },
  {
   "cell_type": "code",
   "execution_count": null,
   "metadata": {},
   "outputs": [],
   "source": [
    "# Plot samples in a scatter plot. Theta represents a plane that splits our feature space into two parts. Samples located over that plane are considered positive, and samples under the plane negative. We'rd in 3-space, with dimensions [bias, positive_sum, negative_sum], where bias=1. Can remove bias and have 2D\n",
    "\n",
    "fig, ax = plt.subplots(figsize=(8,8))\n",
    "colors=['red', 'green']\n",
    "\n",
    "ax.scatter(X[:,1], X[:,2], c=[colors[int(k)] for k in Y], s=0.1)\n",
    "plt.xlabel('pos');\n",
    "plt.ylabel('neg');\n",
    "\n",
    "# Now draw a gray line to show the cutoff of the classifier.\n",
    "\n",
    "# Equation for the separation plane\n",
    "def neg(theta, pos):\n",
    "    return (-theta[0] - pos * theta[1]) / theta[2]\n",
    "\n",
    "# Equation for the direction fo the sentiments change\n",
    "def direction(theta, pos):\n",
    "    return pos * theta[2] / theta[1]\n",
    "\n",
    "maxpos = np.max(X[:,1])\n",
    "offset = 5000\n",
    "\n",
    "ax.plot([0, maxpos], [neg(theta, 0), neg(theta, maxpos)], color='gray')\n",
    "\n",
    "ax.arrow(offset, neg(theta, offset), offset, direction(theta, offset), head_width=500, head_length=500, fc='g', ec='g')\n",
    "\n",
    "ax.arrow(offset, neg(theta, offset), -offset, -direction(theta, offset), head_width=500, head_length=500, fc='r', ec='r')\n",
    "\n",
    "plt.show()\n"
   ]
  },
  {
   "cell_type": "code",
   "execution_count": null,
   "metadata": {},
   "outputs": [],
   "source": []
  }
 ]
}