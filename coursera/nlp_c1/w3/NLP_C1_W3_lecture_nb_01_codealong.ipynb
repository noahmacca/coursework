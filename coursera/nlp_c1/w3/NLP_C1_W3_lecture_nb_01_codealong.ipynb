{
 "metadata": {
  "language_info": {
   "codemirror_mode": {
    "name": "ipython",
    "version": 3
   },
   "file_extension": ".py",
   "mimetype": "text/x-python",
   "name": "python",
   "nbconvert_exporter": "python",
   "pygments_lexer": "ipython3",
   "version": "3.7.3-final"
  },
  "orig_nbformat": 2,
  "kernelspec": {
   "name": "python3",
   "display_name": "Python 3"
  }
 },
 "nbformat": 4,
 "nbformat_minor": 2,
 "cells": [
  {
   "cell_type": "code",
   "execution_count": 1,
   "metadata": {},
   "outputs": [],
   "source": [
    "import numpy as np"
   ]
  },
  {
   "cell_type": "code",
   "execution_count": 2,
   "metadata": {},
   "outputs": [],
   "source": [
    "alist = [1, 2, 3, 4, 5]\n",
    "narray = np.array([1, 2, 3, 4])"
   ]
  },
  {
   "cell_type": "code",
   "execution_count": 3,
   "metadata": {},
   "outputs": [
    {
     "output_type": "stream",
     "name": "stdout",
     "text": [
      "[1, 2, 3, 4, 5]\n[1 2 3 4]\n<class 'list'>\n<class 'numpy.ndarray'>\n"
     ]
    }
   ],
   "source": [
    "print(alist)\n",
    "print(narray)\n",
    "\n",
    "print(type(alist))\n",
    "print(type(narray))"
   ]
  },
  {
   "cell_type": "code",
   "execution_count": 4,
   "metadata": {},
   "outputs": [
    {
     "output_type": "stream",
     "name": "stdout",
     "text": [
      "[2 4 6 8]\n[1, 2, 3, 4, 5, 1, 2, 3, 4, 5]\n"
     ]
    }
   ],
   "source": [
    "print(narray + narray)\n",
    "print(alist + alist)"
   ]
  },
  {
   "cell_type": "code",
   "execution_count": 5,
   "metadata": {},
   "outputs": [
    {
     "output_type": "stream",
     "name": "stdout",
     "text": [
      "[ 3  6  9 12]\n[1, 2, 3, 4, 5, 1, 2, 3, 4, 5, 1, 2, 3, 4, 5]\n"
     ]
    }
   ],
   "source": [
    "print(narray * 3)\n",
    "print(alist * 3)"
   ]
  },
  {
   "cell_type": "code",
   "execution_count": 6,
   "metadata": {},
   "outputs": [
    {
     "output_type": "stream",
     "name": "stdout",
     "text": [
      "[[1 2 3 4]\n [1 2 3 4]\n [1 2 3 4]]\n[[1 2 3 4 5]\n [1 2 3 4 5]\n [1 2 3 4 5]]\n[[1 2 3 4]\n [1 1 1 1]\n [1 2 3 4]]\n"
     ]
    }
   ],
   "source": [
    "npmatrix1 = np.array([narray, narray, narray])\n",
    "npmatrix2 = np.array([alist, alist, alist])\n",
    "npmatrix3 = np.array([narray, [1, 1, 1, 1], narray])\n",
    "\n",
    "print(npmatrix1)\n",
    "print(npmatrix2)\n",
    "print(npmatrix3)"
   ]
  },
  {
   "cell_type": "code",
   "execution_count": 7,
   "metadata": {},
   "outputs": [
    {
     "output_type": "stream",
     "name": "stdout",
     "text": [
      "[[1 2]\n [3 4]]\n[[2 4]\n [6 8]]\n"
     ]
    }
   ],
   "source": [
    "okmatrix = np.array([[1, 2], [3, 4]])\n",
    "print(okmatrix)\n",
    "print(okmatrix * 2)"
   ]
  },
  {
   "cell_type": "code",
   "execution_count": 8,
   "metadata": {},
   "outputs": [
    {
     "output_type": "stream",
     "name": "stdout",
     "text": [
      "[list([1, 2]) list([3, 4]) list([5, 6, 7])]\n[list([1, 2, 1, 2]) list([3, 4, 3, 4]) list([5, 6, 7, 5, 6, 7])]\n"
     ]
    }
   ],
   "source": [
    "badmatrix = np.array([[1, 2], [3, 4], [5, 6, 7]])\n",
    "print(badmatrix)\n",
    "print(badmatrix * 2)"
   ]
  },
  {
   "cell_type": "code",
   "execution_count": 9,
   "metadata": {},
   "outputs": [
    {
     "output_type": "stream",
     "name": "stdout",
     "text": [
      "[[3 5]\n [7 9]]\n"
     ]
    }
   ],
   "source": [
    "result = okmatrix * 2 + 1\n",
    "print(result)"
   ]
  },
  {
   "cell_type": "code",
   "execution_count": 10,
   "metadata": {},
   "outputs": [
    {
     "output_type": "stream",
     "name": "stdout",
     "text": [
      "[[2 4]\n [6 8]]\n"
     ]
    }
   ],
   "source": [
    "result1 = okmatrix + okmatrix\n",
    "print(result1)"
   ]
  },
  {
   "cell_type": "code",
   "execution_count": 11,
   "metadata": {},
   "outputs": [
    {
     "output_type": "stream",
     "name": "stdout",
     "text": [
      "[[0 0]\n [0 0]]\n"
     ]
    }
   ],
   "source": [
    "result2 = okmatrix - okmatrix\n",
    "print(result2)"
   ]
  },
  {
   "cell_type": "code",
   "execution_count": 13,
   "metadata": {},
   "outputs": [
    {
     "output_type": "stream",
     "name": "stdout",
     "text": [
      "[[ 1  4]\n [ 9 16]]\n"
     ]
    }
   ],
   "source": [
    "print(okmatrix * okmatrix)"
   ]
  },
  {
   "cell_type": "code",
   "execution_count": 14,
   "metadata": {},
   "outputs": [
    {
     "output_type": "stream",
     "name": "stdout",
     "text": [
      "Original matrix 3 x 2\n[[1 2]\n [3 4]\n [5 6]]\nTransposed matrix 2 x 3\n[[1 3 5]\n [2 4 6]]\n"
     ]
    }
   ],
   "source": [
    "matrix3x2 = np.array([[1, 2], [3, 4], [5, 6]]) # Define a 3x2 matrix\n",
    "print('Original matrix 3 x 2')\n",
    "print(matrix3x2)\n",
    "print('Transposed matrix 2 x 3')\n",
    "print(matrix3x2.T)"
   ]
  },
  {
   "cell_type": "code",
   "execution_count": 15,
   "metadata": {},
   "outputs": [
    {
     "output_type": "stream",
     "name": "stdout",
     "text": [
      "[1 2 3 4]\n[1 2 3 4]\n"
     ]
    }
   ],
   "source": [
    "nparray = np.array([1, 2, 3, 4])\n",
    "print(nparray)\n",
    "print(nparray.T)"
   ]
  },
  {
   "cell_type": "code",
   "execution_count": 16,
   "metadata": {},
   "outputs": [
    {
     "output_type": "stream",
     "name": "stdout",
     "text": [
      "[[1 2 3 4]]\n[[1]\n [2]\n [3]\n [4]]\n"
     ]
    }
   ],
   "source": [
    "nparray = np.array([[1, 2, 3, 4]])\n",
    "print(nparray)\n",
    "print(nparray.T)"
   ]
  },
  {
   "cell_type": "code",
   "execution_count": 17,
   "metadata": {},
   "outputs": [
    {
     "output_type": "stream",
     "name": "stdout",
     "text": [
      "5.477225575051661\n5.477225575051661\n"
     ]
    }
   ],
   "source": [
    "nparray1 = np.array([1, 2, 3, 4])\n",
    "norm1 = np.linalg.norm(nparray1)\n",
    "\n",
    "nparray2 = np.array([[1, 2], [3, 4]])\n",
    "norm2 = np.linalg.norm(nparray2)\n",
    "\n",
    "print(norm1)\n",
    "print(norm2)"
   ]
  },
  {
   "cell_type": "code",
   "execution_count": 18,
   "metadata": {},
   "outputs": [
    {
     "output_type": "stream",
     "name": "stdout",
     "text": [
      "[3.74165739 3.74165739]\n[1.41421356 2.82842712 4.24264069]\n"
     ]
    }
   ],
   "source": [
    "# axis=0 means norm of each column, axis=1 meant norm of each row\n",
    "nparray2 = np.array([[1,1], [2,2], [3,3]])\n",
    "\n",
    "normByCols = np.linalg.norm(nparray2, axis=0)\n",
    "normByRows = np.linalg.norm(nparray2, axis=1)\n",
    "\n",
    "print(normByCols)\n",
    "print(normByRows)"
   ]
  },
  {
   "cell_type": "code",
   "execution_count": 19,
   "metadata": {},
   "outputs": [
    {
     "output_type": "stream",
     "name": "stdout",
     "text": [
      "38\n38\n38\n38\n"
     ]
    }
   ],
   "source": [
    "# Dot product\n",
    "nparray1 = np.array([0, 1, 2, 3])\n",
    "nparray2 = np.array([4, 5, 6, 7])\n",
    "\n",
    "flavor1 = np.dot(nparray1, nparray2) # accepts arrays and lists without problems\n",
    "print(flavor1)\n",
    "\n",
    "flavor2 = np.sum(nparray1 * nparray2)\n",
    "print(flavor2)\n",
    "\n",
    "flavor3 = nparray1 @ nparray2\n",
    "print(flavor3)\n",
    "\n",
    "flavor4 = 0\n",
    "for a, b in zip(nparray1, nparray2):\n",
    "    flavor4 += a * b\n",
    "\n",
    "print(flavor4)\n",
    "\n",
    "# norm is square root of the dot product of the vector with itself, so we can do sqrt(a•a)"
   ]
  },
  {
   "cell_type": "code",
   "execution_count": 21,
   "metadata": {},
   "outputs": [
    {
     "output_type": "stream",
     "name": "stdout",
     "text": [
      "[ 6 -6]\n[0 0 0]\n[ 2. -2.]\n[0. 0. 0.]\n"
     ]
    }
   ],
   "source": [
    "# sums, means by rows or columns\n",
    "# axis=0 means sum the elements of each column\n",
    "# axis=1 means sum elements of each row together\n",
    "\n",
    "nparray2 = np.array([[1, -1], [2, -2], [3, -3]])\n",
    "print(np.sum(nparray2, axis=0))\n",
    "print(np.sum(nparray2, axis=1))\n",
    "print(np.mean(nparray2, axis=0))\n",
    "print(np.mean(nparray2, axis=1))"
   ]
  },
  {
   "cell_type": "code",
   "execution_count": 22,
   "metadata": {},
   "outputs": [
    {
     "output_type": "stream",
     "name": "stdout",
     "text": [
      "Original matrix\n[[1 1]\n [2 2]\n [3 3]]\nCentered by columns matrix\n[[-1. -1.]\n [ 0.  0.]\n [ 1.  1.]]\nNew mean by column\n[0. 0.]\n"
     ]
    }
   ],
   "source": [
    "# center columns of a matrix: remove the column mean from each element within the column. Sum by columns of a centered matrix is always 0\n",
    "\n",
    "nparray2 = np.array([[1, 1], [2, 2], [3, 3]]) # Define a 3 x 2 matrix. \n",
    "\n",
    "nparrayCentered = nparray2 - np.mean(nparray2, axis=0) # Remove the mean for each column\n",
    "\n",
    "print('Original matrix')\n",
    "print(nparray2)\n",
    "print('Centered by columns matrix')\n",
    "print(nparrayCentered)\n",
    "\n",
    "print('New mean by column')\n",
    "print(nparrayCentered.mean(axis=0))\n",
    "\n",
    "# This process does not apply to row centering!"
   ]
  },
  {
   "cell_type": "code",
   "execution_count": 23,
   "metadata": {},
   "outputs": [
    {
     "output_type": "stream",
     "name": "stdout",
     "text": [
      "Original matrix\n[[1 3]\n [2 4]\n [3 5]]\nCentered by columns matrix\n[[-1.  1.]\n [-1.  1.]\n [-1.  1.]]\nNew mean by rows\n[0. 0. 0.]\n"
     ]
    }
   ],
   "source": [
    "nparray2 = np.array([[1, 3], [2, 4], [3, 5]]) # Define a 3 x 2 matrix. \n",
    "\n",
    "nparrayCentered = nparray2.T - np.mean(nparray2, axis=1) # Remove the mean for each row\n",
    "nparrayCentered = nparrayCentered.T # Transpose back the result\n",
    "\n",
    "print('Original matrix')\n",
    "print(nparray2)\n",
    "print('Centered by columns matrix')\n",
    "print(nparrayCentered)\n",
    "\n",
    "print('New mean by rows')\n",
    "print(nparrayCentered.mean(axis=1))"
   ]
  },
  {
   "cell_type": "code",
   "execution_count": 24,
   "metadata": {},
   "outputs": [
    {
     "output_type": "stream",
     "name": "stdout",
     "text": [
      "3.0  ==  3.0\n"
     ]
    }
   ],
   "source": [
    "nparray2 = np.array([[1, 3], [2, 4], [3, 5]]) # Define a 3 x 2 matrix. \n",
    "\n",
    "mean1 = np.mean(nparray2) # Static way\n",
    "mean2 = nparray2.mean()   # Dinamic way\n",
    "\n",
    "print(mean1, ' == ', mean2)"
   ]
  }
 ]
}