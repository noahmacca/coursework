{
 "cells": [
  {
   "cell_type": "markdown",
   "metadata": {},
   "source": [
    "# Regression example\n",
    "- Boston housing prices; predicting a continuous value instead of a discrete label\n",
    "- only 404 training and 102 test samples\n",
    "- Features are on different scales"
   ]
  },
  {
   "cell_type": "code",
   "execution_count": 1,
   "metadata": {},
   "outputs": [
    {
     "name": "stderr",
     "output_type": "stream",
     "text": [
      "Using TensorFlow backend.\n"
     ]
    },
    {
     "name": "stdout",
     "output_type": "stream",
     "text": [
      "Downloading data from https://s3.amazonaws.com/keras-datasets/boston_housing.npz\n",
      "57344/57026 [==============================] - 0s 2us/step\n"
     ]
    }
   ],
   "source": [
    "from keras.datasets import boston_housing\n",
    "\n",
    "(train_data, train_targets), (test_data, test_targets) = boston_housing.load_data()"
   ]
  },
  {
   "cell_type": "code",
   "execution_count": 3,
   "metadata": {},
   "outputs": [
    {
     "data": {
      "text/plain": [
       "(102, 13)"
      ]
     },
     "execution_count": 3,
     "metadata": {},
     "output_type": "execute_result"
    }
   ],
   "source": [
    "test_data.shape"
   ]
  },
  {
   "cell_type": "code",
   "execution_count": 4,
   "metadata": {},
   "outputs": [
    {
     "data": {
      "text/plain": [
       "array([15.2, 42.3, 50. , 21.1, 17.7, 18.5, 11.3, 15.6, 15.6, 14.4, 12.1,\n",
       "       17.9, 23.1, 19.9, 15.7,  8.8, 50. , 22.5, 24.1, 27.5, 10.9, 30.8,\n",
       "       32.9, 24. , 18.5, 13.3, 22.9, 34.7, 16.6, 17.5, 22.3, 16.1, 14.9,\n",
       "       23.1, 34.9, 25. , 13.9, 13.1, 20.4, 20. , 15.2, 24.7, 22.2, 16.7,\n",
       "       12.7, 15.6, 18.4, 21. , 30.1, 15.1, 18.7,  9.6, 31.5, 24.8, 19.1,\n",
       "       22. , 14.5, 11. , 32. , 29.4, 20.3, 24.4, 14.6, 19.5, 14.1, 14.3,\n",
       "       15.6, 10.5,  6.3, 19.3, 19.3, 13.4, 36.4, 17.8, 13.5, 16.5,  8.3,\n",
       "       14.3, 16. , 13.4, 28.6, 43.5, 20.2, 22. , 23. , 20.7, 12.5, 48.5,\n",
       "       14.6, 13.4, 23.7, 50. , 21.7, 39.8, 38.7, 22.2, 34.9, 22.5, 31.1,\n",
       "       28.7, 46. , 41.7, 21. , 26.6, 15. , 24.4, 13.3, 21.2, 11.7, 21.7,\n",
       "       19.4, 50. , 22.8, 19.7, 24.7, 36.2, 14.2, 18.9, 18.3, 20.6, 24.6,\n",
       "       18.2,  8.7, 44. , 10.4, 13.2, 21.2, 37. , 30.7, 22.9, 20. , 19.3,\n",
       "       31.7, 32. , 23.1, 18.8, 10.9, 50. , 19.6,  5. , 14.4, 19.8, 13.8,\n",
       "       19.6, 23.9, 24.5, 25. , 19.9, 17.2, 24.6, 13.5, 26.6, 21.4, 11.9,\n",
       "       22.6, 19.6,  8.5, 23.7, 23.1, 22.4, 20.5, 23.6, 18.4, 35.2, 23.1,\n",
       "       27.9, 20.6, 23.7, 28. , 13.6, 27.1, 23.6, 20.6, 18.2, 21.7, 17.1,\n",
       "        8.4, 25.3, 13.8, 22.2, 18.4, 20.7, 31.6, 30.5, 20.3,  8.8, 19.2,\n",
       "       19.4, 23.1, 23. , 14.8, 48.8, 22.6, 33.4, 21.1, 13.6, 32.2, 13.1,\n",
       "       23.4, 18.9, 23.9, 11.8, 23.3, 22.8, 19.6, 16.7, 13.4, 22.2, 20.4,\n",
       "       21.8, 26.4, 14.9, 24.1, 23.8, 12.3, 29.1, 21. , 19.5, 23.3, 23.8,\n",
       "       17.8, 11.5, 21.7, 19.9, 25. , 33.4, 28.5, 21.4, 24.3, 27.5, 33.1,\n",
       "       16.2, 23.3, 48.3, 22.9, 22.8, 13.1, 12.7, 22.6, 15. , 15.3, 10.5,\n",
       "       24. , 18.5, 21.7, 19.5, 33.2, 23.2,  5. , 19.1, 12.7, 22.3, 10.2,\n",
       "       13.9, 16.3, 17. , 20.1, 29.9, 17.2, 37.3, 45.4, 17.8, 23.2, 29. ,\n",
       "       22. , 18. , 17.4, 34.6, 20.1, 25. , 15.6, 24.8, 28.2, 21.2, 21.4,\n",
       "       23.8, 31. , 26.2, 17.4, 37.9, 17.5, 20. ,  8.3, 23.9,  8.4, 13.8,\n",
       "        7.2, 11.7, 17.1, 21.6, 50. , 16.1, 20.4, 20.6, 21.4, 20.6, 36.5,\n",
       "        8.5, 24.8, 10.8, 21.9, 17.3, 18.9, 36.2, 14.9, 18.2, 33.3, 21.8,\n",
       "       19.7, 31.6, 24.8, 19.4, 22.8,  7.5, 44.8, 16.8, 18.7, 50. , 50. ,\n",
       "       19.5, 20.1, 50. , 17.2, 20.8, 19.3, 41.3, 20.4, 20.5, 13.8, 16.5,\n",
       "       23.9, 20.6, 31.5, 23.3, 16.8, 14. , 33.8, 36.1, 12.8, 18.3, 18.7,\n",
       "       19.1, 29. , 30.1, 50. , 50. , 22. , 11.9, 37.6, 50. , 22.7, 20.8,\n",
       "       23.5, 27.9, 50. , 19.3, 23.9, 22.6, 15.2, 21.7, 19.2, 43.8, 20.3,\n",
       "       33.2, 19.9, 22.5, 32.7, 22. , 17.1, 19. , 15. , 16.1, 25.1, 23.7,\n",
       "       28.7, 37.2, 22.6, 16.4, 25. , 29.8, 22.1, 17.4, 18.1, 30.3, 17.5,\n",
       "       24.7, 12.6, 26.5, 28.7, 13.3, 10.4, 24.4, 23. , 20. , 17.8,  7. ,\n",
       "       11.8, 24.4, 13.8, 19.4, 25.2, 19.4, 19.4, 29.1])"
      ]
     },
     "execution_count": 4,
     "metadata": {},
     "output_type": "execute_result"
    }
   ],
   "source": [
    "train_targets"
   ]
  },
  {
   "cell_type": "code",
   "execution_count": 5,
   "metadata": {},
   "outputs": [],
   "source": [
    "mean = train_data.mean(axis=0)\n",
    "train_data -= mean\n",
    "std = train_data.std(axis=0)\n",
    "train_data/=std\n",
    "\n",
    "test_data -= mean\n",
    "test_data /= std"
   ]
  },
  {
   "cell_type": "code",
   "execution_count": 7,
   "metadata": {},
   "outputs": [],
   "source": [
    "# Traina  very small network with two hidden layers, each with 64 units. Small networks mitigate overfitting\n",
    "from keras import models\n",
    "from keras import layers\n",
    "\n",
    "def build_model():\n",
    "    model = models.Sequential()\n",
    "    model.add(layers.Dense(64, activation='relu', input_shape=(train_data.shape[1],)))\n",
    "    model.add(layers.Dense(64, activation='relu'))\n",
    "    model.add(layers.Dense(1))\n",
    "    model.compile(optimizer='rmsprop', loss='mse', metrics=['mae'])\n",
    "    return model\n",
    "\n",
    "# last layer being linear (no activation function) means the network can predict values in any range\n",
    "# mse loss function means 'mean squared error', the square of the difference between the predi tions and the targets\n",
    "# mae is the 'mean absolute error', the absoute value of the difference between the predictions and the targets"
   ]
  },
  {
   "cell_type": "code",
   "execution_count": 8,
   "metadata": {},
   "outputs": [],
   "source": [
    "# Use k-fold cross-validation when the validation scores might have a high variance with regard to the validation split\n",
    "# (e.g. from having a small amount of data)\n",
    "import numpy as np\n",
    "k=4\n",
    "num_val_samples = len(train_data) // k\n",
    "num_epochs = 100\n",
    "all_scores = []"
   ]
  },
  {
   "cell_type": "code",
   "execution_count": 10,
   "metadata": {},
   "outputs": [
    {
     "name": "stdout",
     "output_type": "stream",
     "text": [
      "processing fold # 0\n",
      "processing fold # 1\n",
      "processing fold # 2\n",
      "processing fold # 3\n"
     ]
    }
   ],
   "source": [
    "for i in range(k):\n",
    "    print('processing fold #', i)\n",
    "    val_data = train_data[i * num_val_samples: (i+1) * num_val_samples]\n",
    "    val_targets = train_targets[i * num_val_samples: (i+1) * num_val_samples]\n",
    "    \n",
    "    partial_train_data = np.concatenate(\n",
    "        [train_data[:i * num_val_samples],\n",
    "        train_data[(i+1) * num_val_samples:]],\n",
    "        axis=0\n",
    "    )\n",
    "    partial_train_targets = np.concatenate(\n",
    "        [train_targets[:i * num_val_samples],\n",
    "        train_targets[(i+1) * num_val_samples:]],\n",
    "        axis=0\n",
    "    )\n",
    "    \n",
    "    model = build_model()\n",
    "    model.fit(partial_train_data, partial_train_targets, epochs=num_epochs, batch_size=1, verbose=0)\n",
    "    val_mse, val_mae = model.evaluate(val_data, val_targets, verbose=0)\n",
    "    all_scores.append(val_mae)"
   ]
  },
  {
   "cell_type": "code",
   "execution_count": 17,
   "metadata": {},
   "outputs": [
    {
     "data": {
      "text/plain": [
       "[2.129034951181695, 2.1307857673947175, 2.8914956196699992, 2.2987992320910537]"
      ]
     },
     "execution_count": 17,
     "metadata": {},
     "output_type": "execute_result"
    }
   ],
   "source": [
    "all_scores"
   ]
  },
  {
   "cell_type": "code",
   "execution_count": 27,
   "metadata": {},
   "outputs": [
    {
     "name": "stdout",
     "output_type": "stream",
     "text": [
      "processing fold # 0\n",
      "processing fold # 1\n",
      "processing fold # 2\n",
      "processing fold # 3\n"
     ]
    }
   ],
   "source": [
    "num_epochs = 150\n",
    "all_mae_histories = []\n",
    "\n",
    "for i in range(k):\n",
    "    print('processing fold #', i)\n",
    "    val_data = train_data[i * num_val_samples: (i+1) * num_val_samples]\n",
    "    val_targets = train_targets[i * num_val_samples: (i+1) * num_val_samples]\n",
    "    \n",
    "    partial_train_data = np.concatenate(\n",
    "        [train_data[:i * num_val_samples],\n",
    "        train_data[(i+1) * num_val_samples:]],\n",
    "        axis=0\n",
    "    )\n",
    "    partial_train_targets = np.concatenate(\n",
    "        [train_targets[:i * num_val_samples],\n",
    "        train_targets[(i+1) * num_val_samples:]],\n",
    "        axis=0\n",
    "    )\n",
    "    \n",
    "    model = build_model()\n",
    "    history = model.fit(partial_train_data, partial_train_targets, epochs=num_epochs, batch_size=1, verbose=0)\n",
    "    all_mae_histories.append(history.history['mean_absolute_error'])\n",
    "    "
   ]
  },
  {
   "cell_type": "code",
   "execution_count": 28,
   "metadata": {},
   "outputs": [
    {
     "data": {
      "text/plain": [
       "dict_keys(['loss', 'mean_absolute_error'])"
      ]
     },
     "execution_count": 28,
     "metadata": {},
     "output_type": "execute_result"
    }
   ],
   "source": [
    "history.history.keys()"
   ]
  },
  {
   "cell_type": "code",
   "execution_count": 29,
   "metadata": {},
   "outputs": [
    {
     "data": {
      "text/plain": [
       "[10.406537598902636,\n",
       " 3.645441683212129,\n",
       " 2.9927628299977522,\n",
       " 2.728326685751232,\n",
       " 2.543567678715923,\n",
       " 2.4541263946212166,\n",
       " 2.3734189917152078,\n",
       " 2.3101930421571133,\n",
       " 2.2537600844606707,\n",
       " 2.2164586251324945,\n",
       " 2.1776957639766605,\n",
       " 2.147705942097277,\n",
       " 2.097628372337165,\n",
       " 2.100185430876099,\n",
       " 2.0953135311406834,\n",
       " 2.0455946851484845,\n",
       " 2.066416012965413,\n",
       " 1.9954386536437685,\n",
       " 2.0047199135959737,\n",
       " 1.9745426838940912,\n",
       " 1.9444974664807715,\n",
       " 1.9374709695872694,\n",
       " 1.9234665541759024,\n",
       " 1.8927041905941349,\n",
       " 1.8996208886502206,\n",
       " 1.8732578252801801,\n",
       " 1.8975091838207183,\n",
       " 1.8616095816734994,\n",
       " 1.847884195669256,\n",
       " 1.83967790174799,\n",
       " 1.8048893880135943,\n",
       " 1.8162765058353791,\n",
       " 1.790982426983295,\n",
       " 1.771163819253248,\n",
       " 1.7428311630837596,\n",
       " 1.7481133977178693,\n",
       " 1.7408011162241692,\n",
       " 1.7470474113332162,\n",
       " 1.7361040965165242,\n",
       " 1.7251823475652008,\n",
       " 1.7253803325564947,\n",
       " 1.6804794014090358,\n",
       " 1.7040652727136516,\n",
       " 1.674258278148009,\n",
       " 1.6663240784465678,\n",
       " 1.614837192072727,\n",
       " 1.6637771908599552,\n",
       " 1.6461300869586053,\n",
       " 1.6260125849506641,\n",
       " 1.627411977686111,\n",
       " 1.5971201693657602,\n",
       " 1.6103867040608977,\n",
       " 1.58728552966228,\n",
       " 1.5789326919187414,\n",
       " 1.5783697590969576,\n",
       " 1.5996263353738063,\n",
       " 1.5681371976046672,\n",
       " 1.5710026143801095,\n",
       " 1.5537739998043174,\n",
       " 1.519322402013017,\n",
       " 1.5329334228345661,\n",
       " 1.5350435618126745,\n",
       " 1.501349172969856,\n",
       " 1.4877945186674792,\n",
       " 1.493775217446557,\n",
       " 1.4735144213481313,\n",
       " 1.5005396954690662,\n",
       " 1.47573454112503,\n",
       " 1.497129997011065,\n",
       " 1.4669747993890994,\n",
       " 1.4649303805316636,\n",
       " 1.4136902369288327,\n",
       " 1.4149011808260048,\n",
       " 1.45435495128726,\n",
       " 1.4396056619414404,\n",
       " 1.4326186209621996,\n",
       " 1.4018573572139927,\n",
       " 1.427528740549245,\n",
       " 1.4093841025144747,\n",
       " 1.3900647505675212,\n",
       " 1.4062597704405833,\n",
       " 1.3865619590967007,\n",
       " 1.3992996451878312,\n",
       " 1.3717243604534137,\n",
       " 1.3887429646532923,\n",
       " 1.3906476857638594,\n",
       " 1.3243162569039724,\n",
       " 1.383047011425786,\n",
       " 1.359752449462123,\n",
       " 1.354813747280108,\n",
       " 1.3299245755664586,\n",
       " 1.3404170977007046,\n",
       " 1.3257345574917179,\n",
       " 1.3382548904261573,\n",
       " 1.3235221086162152,\n",
       " 1.313489324975722,\n",
       " 1.3420987335762176,\n",
       " 1.3319454570808031,\n",
       " 1.310794466202802,\n",
       " 1.3159202046126814,\n",
       " 1.3043601558153386,\n",
       " 1.3138691692462454,\n",
       " 1.2951550499440814,\n",
       " 1.2946519953976372,\n",
       " 1.298460599219445,\n",
       " 1.29256275109332,\n",
       " 1.2777412368519472,\n",
       " 1.278671376382557,\n",
       " 1.262771753588132,\n",
       " 1.2361331316504147,\n",
       " 1.2694671175660868,\n",
       " 1.277494268055403,\n",
       " 1.2604525388270715,\n",
       " 1.243780014538529,\n",
       " 1.240966555702411,\n",
       " 1.228128445423869,\n",
       " 1.2471738841273998,\n",
       " 1.2368422557811927,\n",
       " 1.2140952993934304,\n",
       " 1.2179364772519656,\n",
       " 1.2342910778404461,\n",
       " 1.1854443243234463,\n",
       " 1.220560631736277,\n",
       " 1.1932504226272256,\n",
       " 1.1823848224315707,\n",
       " 1.1919623094029945,\n",
       " 1.1813920934995015,\n",
       " 1.2029568318880037,\n",
       " 1.1888352618752533,\n",
       " 1.167436118763272,\n",
       " 1.174570636780742,\n",
       " 1.1819034622053897,\n",
       " 1.1691713976387932,\n",
       " 1.1926753442279576,\n",
       " 1.1814471327825742,\n",
       " 1.1668020693382415,\n",
       " 1.1701318422953286,\n",
       " 1.1582802595085044,\n",
       " 1.1582415042930705,\n",
       " 1.1519406176242892,\n",
       " 1.1671682430966066,\n",
       " 1.1516400725141218,\n",
       " 1.1263404085297788,\n",
       " 1.1253042106974636,\n",
       " 1.1365991520016105,\n",
       " 1.1624435052619908,\n",
       " 1.12843917226634,\n",
       " 1.1257622700319825,\n",
       " 1.1073779924081104,\n",
       " 1.1316389710989723]"
      ]
     },
     "execution_count": 29,
     "metadata": {},
     "output_type": "execute_result"
    }
   ],
   "source": [
    "average_mae_history = [\n",
    "    np.mean([x[i] for x in all_mae_histories]) for i in range(num_epochs)]\n",
    "\n",
    "average_mae_history"
   ]
  },
  {
   "cell_type": "code",
   "execution_count": 30,
   "metadata": {},
   "outputs": [
    {
     "data": {
      "image/png": "[encoded data removed]",
      "text/plain": [
       "<Figure size 432x288 with 1 Axes>"
      ]
     },
     "metadata": {
      "needs_background": "light"
     },
     "output_type": "display_data"
    }
   ],
   "source": [
    "import matplotlib.pyplot as plt\n",
    "\n",
    "plt.plot(range(1, len(average_mae_history) + 1), average_mae_history)\n",
    "plt.xlabel('Epochs')\n",
    "plt.ylabel('Validation MAE')\n",
    "plt.show()"
   ]
  },
  {
   "cell_type": "code",
   "execution_count": 31,
   "metadata": {},
   "outputs": [
    {
     "name": "stdout",
     "output_type": "stream",
     "text": [
      "102/102 [==============================] - 0s 3ms/step\n"
     ]
    },
    {
     "data": {
      "text/plain": [
       "2.762699847127877"
      ]
     },
     "execution_count": 31,
     "metadata": {},
     "output_type": "execute_result"
    }
   ],
   "source": [
    "model = build_model()\n",
    "model.fit(train_data, train_targets, epochs=80, batch_size=16, verbose=0)\n",
    "test_mse_score, test_mae_score = model.evaluate(test_data, test_targets)\n",
    "test_mae_score"
   ]
  },
  {
   "cell_type": "code",
   "execution_count": null,
   "metadata": {},
   "outputs": [],
   "source": []
  }
 ],
 "metadata": {
  "kernelspec": {
   "display_name": "Python 3",
   "language": "python",
   "name": "python3"
  },
  "language_info": {
   "codemirror_mode": {
    "name": "ipython",
    "version": 3
   },
   "file_extension": ".py",
   "mimetype": "text/x-python",
   "name": "python",
   "nbconvert_exporter": "python",
   "pygments_lexer": "ipython3",
   "version": "3.6.9"
  }
 },
 "nbformat": 4,
 "nbformat_minor": 2
}
