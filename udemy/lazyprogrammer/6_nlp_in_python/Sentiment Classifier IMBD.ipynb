{
 "cells": [
  {
   "cell_type": "code",
   "execution_count": 1,
   "metadata": {},
   "outputs": [
    {
     "name": "stderr",
     "output_type": "stream",
     "text": [
      "Using TensorFlow backend.\n"
     ]
    }
   ],
   "source": [
    "import numpy as np\n",
    "from keras.datasets import imdb\n",
    "\n",
    "(train_data, train_labels), (test_data, test_labels) = imdb.load_data(num_words=10000)"
   ]
  },
  {
   "cell_type": "code",
   "execution_count": 2,
   "metadata": {},
   "outputs": [],
   "source": [
    "word_index = imdb.get_word_index()\n",
    "reverse_word_index = dict(\n",
    "    [(value, key) for (key, value) in word_index.items()])"
   ]
  },
  {
   "cell_type": "code",
   "execution_count": 3,
   "metadata": {},
   "outputs": [
    {
     "data": {
      "text/plain": [
       "\"? this film was just brilliant casting location scenery story direction everyone's really suited the part they played and you could just imagine being there robert ? is an amazing actor and now the same being director ? father came from the same scottish island as myself so i loved the fact there was a real connection with this film the witty remarks throughout the film were great it was just brilliant so much that i bought the film as soon as it was released for ? and would recommend it to everyone to watch and the fly fishing was amazing really cried at the end it was so sad and you know what they say if you cry at a film it must have been good and this definitely was also ? to the two little boy's that played the ? of norman and paul they were just brilliant children are often left out of the ? list i think because the stars that play them all grown up are such a big profile for the whole film but these children are amazing and should be praised for what they have done don't you think the whole story was so lovely because it was true and was someone's life after all that was shared with us all\""
      ]
     },
     "execution_count": 3,
     "metadata": {},
     "output_type": "execute_result"
    }
   ],
   "source": [
    "decoded_review = ' '.join(\n",
    "    [reverse_word_index.get(i-3, '?') for i in train_data[0]])\n",
    "decoded_review"
   ]
  },
  {
   "cell_type": "code",
   "execution_count": 4,
   "metadata": {},
   "outputs": [],
   "source": [
    "import numpy as np\n",
    "\n",
    "def vectorize_sequences(sequences, dimension=10000):\n",
    "    results = np.zeros((len(sequences), dimension))\n",
    "    for i, sequence in enumerate(sequences):\n",
    "        results[i, sequence] = 1\n",
    "    return results\n",
    "\n",
    "x_train = vectorize_sequences(train_data)\n",
    "x_test = vectorize_sequences(test_data)"
   ]
  },
  {
   "cell_type": "code",
   "execution_count": 5,
   "metadata": {},
   "outputs": [],
   "source": [
    "y_train = np.asarray(train_labels).astype('float32')\n",
    "y_test = np.asarray(test_labels).astype('float32')"
   ]
  },
  {
   "cell_type": "code",
   "execution_count": 22,
   "metadata": {},
   "outputs": [
    {
     "name": "stdout",
     "output_type": "stream",
     "text": [
      "Train on 25000 samples, validate on 25000 samples\n",
      "Epoch 1/20\n",
      "25000/25000 [==============================] - 3s 130us/step - loss: 0.1305 - acc: 0.8279 - val_loss: 0.1038 - val_acc: 0.8632\n",
      "Epoch 2/20\n",
      "25000/25000 [==============================] - 3s 103us/step - loss: 0.0707 - acc: 0.9147 - val_loss: 0.0858 - val_acc: 0.8861\n",
      "Epoch 3/20\n",
      "25000/25000 [==============================] - 3s 102us/step - loss: 0.0554 - acc: 0.9326 - val_loss: 0.0918 - val_acc: 0.8753\n",
      "Epoch 4/20\n",
      "25000/25000 [==============================] - 3s 102us/step - loss: 0.0456 - acc: 0.9460 - val_loss: 0.0881 - val_acc: 0.8798\n",
      "Epoch 5/20\n",
      "25000/25000 [==============================] - 3s 102us/step - loss: 0.0402 - acc: 0.9528 - val_loss: 0.0902 - val_acc: 0.8780\n",
      "Epoch 6/20\n",
      "25000/25000 [==============================] - 3s 103us/step - loss: 0.0336 - acc: 0.9629 - val_loss: 0.0989 - val_acc: 0.8684\n",
      "Epoch 7/20\n",
      "25000/25000 [==============================] - 3s 103us/step - loss: 0.0311 - acc: 0.9654 - val_loss: 0.0974 - val_acc: 0.8702\n",
      "Epoch 8/20\n",
      "25000/25000 [==============================] - 3s 103us/step - loss: 0.0262 - acc: 0.9731 - val_loss: 0.1073 - val_acc: 0.8588\n",
      "Epoch 9/20\n",
      "25000/25000 [==============================] - 3s 102us/step - loss: 0.0239 - acc: 0.9749 - val_loss: 0.1009 - val_acc: 0.8697\n",
      "Epoch 10/20\n",
      "25000/25000 [==============================] - 3s 103us/step - loss: 0.0209 - acc: 0.9793 - val_loss: 0.1070 - val_acc: 0.8609\n",
      "Epoch 11/20\n",
      "25000/25000 [==============================] - 3s 103us/step - loss: 0.0191 - acc: 0.9814 - val_loss: 0.1113 - val_acc: 0.8571\n",
      "Epoch 12/20\n",
      "25000/25000 [==============================] - 3s 104us/step - loss: 0.0177 - acc: 0.9820 - val_loss: 0.1070 - val_acc: 0.8654\n",
      "Epoch 13/20\n",
      "25000/25000 [==============================] - 3s 102us/step - loss: 0.0153 - acc: 0.9859 - val_loss: 0.1098 - val_acc: 0.8623\n",
      "Epoch 14/20\n",
      "25000/25000 [==============================] - 3s 103us/step - loss: 0.0137 - acc: 0.9869 - val_loss: 0.1118 - val_acc: 0.8600\n",
      "Epoch 15/20\n",
      "25000/25000 [==============================] - 3s 102us/step - loss: 0.0125 - acc: 0.9886 - val_loss: 0.1172 - val_acc: 0.8551\n",
      "Epoch 16/20\n",
      "25000/25000 [==============================] - 3s 103us/step - loss: 0.0111 - acc: 0.9904 - val_loss: 0.1159 - val_acc: 0.8581\n",
      "Epoch 17/20\n",
      "25000/25000 [==============================] - 3s 107us/step - loss: 0.0099 - acc: 0.9910 - val_loss: 0.1165 - val_acc: 0.8578\n",
      "Epoch 18/20\n",
      "25000/25000 [==============================] - 3s 108us/step - loss: 0.0103 - acc: 0.9896 - val_loss: 0.1181 - val_acc: 0.8562\n",
      "Epoch 19/20\n",
      "25000/25000 [==============================] - 3s 106us/step - loss: 0.0086 - acc: 0.9919 - val_loss: 0.1188 - val_acc: 0.8560\n",
      "Epoch 20/20\n",
      "25000/25000 [==============================] - 3s 110us/step - loss: 0.0078 - acc: 0.9930 - val_loss: 0.1203 - val_acc: 0.8551\n"
     ]
    }
   ],
   "source": [
    "from keras import models\n",
    "from keras import layers\n",
    "\n",
    "model = models.Sequential()\n",
    "model.add(layers.Dense(64, activation='relu', input_shape=(10000,)))\n",
    "model.add(layers.Dense(1, activation='sigmoid'))\n",
    "\n",
    "model.compile(optimizer='rmsprop',\n",
    "             loss='mse',\n",
    "             metrics=['accuracy'])\n",
    "\n",
    "history = model.fit(\n",
    "    x_train,\n",
    "    y_train,\n",
    "    epochs=20,\n",
    "    batch_size=512,\n",
    "    validation_data=(x_test, y_test)\n",
    ")"
   ]
  },
  {
   "cell_type": "code",
   "execution_count": 7,
   "metadata": {},
   "outputs": [],
   "source": [
    "# n = 1000\n",
    "# x_val = x_train[:n]\n",
    "# partial_x_train = x_train[n:]\n",
    "# y_val = y_train[:n]\n",
    "# partial_y_train = y_train[n:]"
   ]
  },
  {
   "cell_type": "code",
   "execution_count": 23,
   "metadata": {},
   "outputs": [
    {
     "data": {
      "text/plain": [
       "dict_keys(['val_loss', 'val_acc', 'loss', 'acc'])"
      ]
     },
     "execution_count": 23,
     "metadata": {},
     "output_type": "execute_result"
    }
   ],
   "source": [
    "history.history.keys()"
   ]
  },
  {
   "cell_type": "code",
   "execution_count": 24,
   "metadata": {},
   "outputs": [
    {
     "data": {
      "text/plain": [
       "[<matplotlib.lines.Line2D at 0x6335e85f8>]"
      ]
     },
     "execution_count": 24,
     "metadata": {},
     "output_type": "execute_result"
    },
    {
     "data": {
      "image/png": "[encoded data removed]",
      "text/plain": [
       "<Figure size 432x288 with 1 Axes>"
      ]
     },
     "metadata": {
      "needs_background": "light"
     },
     "output_type": "display_data"
    }
   ],
   "source": [
    "import matplotlib.pyplot as plt\n",
    "\n",
    "plt.plot([1, 2, 3], [1, 3, 2])"
   ]
  },
  {
   "cell_type": "code",
   "execution_count": 25,
   "metadata": {},
   "outputs": [],
   "source": [
    "history_dict = history.history\n",
    "loss_values = history_dict['loss']\n",
    "val_loss_values = history_dict['val_loss']\n",
    "acc = history_dict['acc']\n",
    "\n",
    "# plt.plot([i for i in range(len(loss_values))], loss_values, 'bo', label='Training loss')"
   ]
  },
  {
   "cell_type": "code",
   "execution_count": 27,
   "metadata": {},
   "outputs": [
    {
     "data": {
      "image/png": "[encoded data removed]",
      "text/plain": [
       "<Figure size 432x288 with 1 Axes>"
      ]
     },
     "metadata": {
      "needs_background": "light"
     },
     "output_type": "display_data"
    }
   ],
   "source": [
    "plt.plot([i for i in range(len(loss_values))], loss_values, 'bo', label='Training loss')\n",
    "plt.plot(range(1, len(val_loss_values) + 1), val_loss_values, 'b', label='Validation loss')\n",
    "plt.legend()\n",
    "plt.xlabel('Epochs')\n",
    "plt.ylabel('Loss')\n",
    "plt.show()"
   ]
  },
  {
   "cell_type": "code",
   "execution_count": null,
   "metadata": {},
   "outputs": [],
   "source": []
  }
 ],
 "metadata": {
  "kernelspec": {
   "display_name": "Python 3",
   "language": "python",
   "name": "python3"
  },
  "language_info": {
   "codemirror_mode": {
    "name": "ipython",
    "version": 3
   },
   "file_extension": ".py",
   "mimetype": "text/x-python",
   "name": "python",
   "nbconvert_exporter": "python",
   "pygments_lexer": "ipython3",
   "version": "3.6.9"
  }
 },
 "nbformat": 4,
 "nbformat_minor": 2
}
