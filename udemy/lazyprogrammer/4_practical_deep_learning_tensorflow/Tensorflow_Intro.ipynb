{
 "cells": [
  {
   "cell_type": "markdown",
   "metadata": {},
   "source": [
    "# Basics"
   ]
  },
  {
   "cell_type": "code",
   "execution_count": 1,
   "metadata": {
    "collapsed": true
   },
   "outputs": [],
   "source": [
    "import numpy as np\n",
    "import tensorflow as tf"
   ]
  },
  {
   "cell_type": "code",
   "execution_count": 2,
   "metadata": {
    "collapsed": true
   },
   "outputs": [],
   "source": [
    "A = tf.placeholder(tf.float32, shape=(5,5), name='A')\n",
    "v = tf.placeholder(tf.float32)"
   ]
  },
  {
   "cell_type": "code",
   "execution_count": 3,
   "metadata": {
    "collapsed": true
   },
   "outputs": [],
   "source": [
    "w = tf.matmul(A, v)"
   ]
  },
  {
   "cell_type": "code",
   "execution_count": 4,
   "metadata": {
    "collapsed": false
   },
   "outputs": [
    {
     "name": "stdout",
     "output_type": "stream",
     "text": [
      "[[ 1.47648025]\n",
      " [ 2.91600657]\n",
      " [ 0.19459173]\n",
      " [-0.90879875]\n",
      " [ 1.47210813]] <class 'numpy.ndarray'>\n"
     ]
    }
   ],
   "source": [
    "with tf.Session() as session:\n",
    "    output = session.run(w, feed_dict={A: np.random.randn(5,5), v: np.random.randn(5,1)})\n",
    "    print(output, type(output))"
   ]
  },
  {
   "cell_type": "code",
   "execution_count": 5,
   "metadata": {
    "collapsed": true
   },
   "outputs": [],
   "source": [
    "shape=(2,2)\n",
    "x = tf.Variable(tf.random_normal(shape))\n",
    "t = tf.Variable(0)"
   ]
  },
  {
   "cell_type": "code",
   "execution_count": 6,
   "metadata": {
    "collapsed": false
   },
   "outputs": [
    {
     "name": "stdout",
     "output_type": "stream",
     "text": [
      "WARNING:tensorflow:From <ipython-input-6-0f50547c66e8>:1: initialize_all_variables (from tensorflow.python.ops.variables) is deprecated and will be removed after 2017-03-02.\n",
      "Instructions for updating:\n",
      "Use `tf.global_variables_initializer` instead.\n"
     ]
    }
   ],
   "source": [
    "init = tf.initialize_all_variables()"
   ]
  },
  {
   "cell_type": "code",
   "execution_count": 7,
   "metadata": {
    "collapsed": false
   },
   "outputs": [
    {
     "name": "stdout",
     "output_type": "stream",
     "text": [
      "[[-1.0704788  -0.35410267]\n",
      " [ 2.56830359 -0.96897769]]\n",
      "0\n"
     ]
    }
   ],
   "source": [
    "with tf.Session() as session:\n",
    "    out = session.run(init)\n",
    "    print(x.eval())\n",
    "    print(t.eval())"
   ]
  },
  {
   "cell_type": "code",
   "execution_count": 8,
   "metadata": {
    "collapsed": true
   },
   "outputs": [],
   "source": [
    "u = tf.Variable(20.0)\n",
    "cost = u*u + u + 1\n",
    "train_op = tf.train.GradientDescentOptimizer(0.3).minimize(cost)"
   ]
  },
  {
   "cell_type": "code",
   "execution_count": 9,
   "metadata": {
    "collapsed": false
   },
   "outputs": [],
   "source": [
    "init = tf.global_variables_initializer()"
   ]
  },
  {
   "cell_type": "code",
   "execution_count": 10,
   "metadata": {
    "collapsed": false
   },
   "outputs": [
    {
     "name": "stdout",
     "output_type": "stream",
     "text": [
      "i = 0, cost 67.990, u = 7.700\n",
      "i = 1, cost 11.508, u = 2.780\n",
      "i = 2, cost 2.471, u = 0.812\n",
      "i = 3, cost 1.025, u = 0.025\n",
      "i = 4, cost 0.794, u = -0.290\n",
      "i = 5, cost 0.757, u = -0.416\n",
      "i = 6, cost 0.751, u = -0.466\n",
      "i = 7, cost 0.750, u = -0.487\n",
      "i = 8, cost 0.750, u = -0.495\n",
      "i = 9, cost 0.750, u = -0.498\n",
      "i = 10, cost 0.750, u = -0.499\n",
      "i = 11, cost 0.750, u = -0.500\n"
     ]
    }
   ],
   "source": [
    "with tf.Session() as session:\n",
    "    session.run(init)\n",
    "    for i in range(12):\n",
    "        session.run(train_op)\n",
    "        print(\"i = %d, cost %.3f, u = %.3f\" % (i, cost.eval(), u.eval()))"
   ]
  },
  {
   "cell_type": "markdown",
   "metadata": {},
   "source": [
    "# Building a neural network in tensorflow"
   ]
  },
  {
   "cell_type": "code",
   "execution_count": 11,
   "metadata": {
    "collapsed": true
   },
   "outputs": [],
   "source": [
    "import numpy as np\n",
    "import tensorflow as tf\n",
    "\n",
    "import matplotlib.pyplot as plt\n",
    "%matplotlib inline\n",
    "\n",
    "from util import get_normalized_data, y2indicator\n",
    "\n",
    "def error_rate(p, t):\n",
    "    return np.mean(p != t)"
   ]
  },
  {
   "cell_type": "code",
   "execution_count": 12,
   "metadata": {
    "collapsed": false
   },
   "outputs": [
    {
     "name": "stdout",
     "output_type": "stream",
     "text": [
      "Reading in and transforming data...\n"
     ]
    }
   ],
   "source": [
    "X, Y = get_normalized_data()"
   ]
  },
  {
   "cell_type": "code",
   "execution_count": 13,
   "metadata": {
    "collapsed": false
   },
   "outputs": [
    {
     "name": "stderr",
     "output_type": "stream",
     "text": [
      "/Users/admin/Code/udemy_courses/udemy_lazyprogrammer_courses/4_practical_deep_learning_tensorflow/util.py:104: VisibleDeprecationWarning: using a non-integer number instead of an integer will result in an error in the future\n",
      "  ind[i, y[i]] = 1\n"
     ]
    }
   ],
   "source": [
    "max_iter = 15\n",
    "print_period = 10\n",
    "\n",
    "lr = 0.00004\n",
    "reg = 0.01\n",
    "\n",
    "Xtrain = X[:-1000,]\n",
    "Ytrain = Y[:-1000]\n",
    "Xtest  = X[-1000:,]\n",
    "Ytest  = Y[-1000:]\n",
    "Ytrain_ind = y2indicator(Ytrain)\n",
    "Ytest_ind = y2indicator(Ytest)\n",
    "\n",
    "N, D = Xtrain.shape\n",
    "batch_sz = 500\n",
    "n_batches = N // batch_sz\n",
    "\n",
    "# add an extra layer just for fun\n",
    "M1 = 300\n",
    "M2 = 100\n",
    "K = 10\n",
    "W1_init = np.random.randn(D, M1) / 28\n",
    "b1_init = np.zeros(M1)\n",
    "W2_init = np.random.randn(M1, M2) / np.sqrt(M1)\n",
    "b2_init = np.zeros(M2)\n",
    "W3_init = np.random.randn(M2, K) / np.sqrt(M2)\n",
    "b3_init = np.zeros(K)\n",
    "\n",
    "X = tf.placeholder(tf.float32, shape=(None, D), name='X')\n",
    "T = tf.placeholder(tf.float32, shape=(None, K), name='T')\n",
    "W1 = tf.Variable(W1_init.astype(np.float32))\n",
    "b1 = tf.Variable(b1_init.astype(np.float32))\n",
    "W2 = tf.Variable(W2_init.astype(np.float32))\n",
    "b2 = tf.Variable(b2_init.astype(np.float32))\n",
    "W3 = tf.Variable(W3_init.astype(np.float32))\n",
    "b3 = tf.Variable(b3_init.astype(np.float32))"
   ]
  },
  {
   "cell_type": "code",
   "execution_count": 15,
   "metadata": {
    "collapsed": false
   },
   "outputs": [
    {
     "name": "stdout",
     "output_type": "stream",
     "text": [
      "WARNING:tensorflow:From <ipython-input-15-a740cdb10e7b>:12: initialize_all_variables (from tensorflow.python.ops.variables) is deprecated and will be removed after 2017-03-02.\n",
      "Instructions for updating:\n",
      "Use `tf.global_variables_initializer` instead.\n"
     ]
    }
   ],
   "source": [
    "Z1 = tf.nn.relu( tf.matmul(X, W1) + b1 )\n",
    "Z2 = tf.nn.relu( tf.matmul(Z1, W2) + b2 )\n",
    "Yish = tf.matmul(Z2, W3) + b3\n",
    "\n",
    "cost = tf.reduce_sum(tf.nn.softmax_cross_entropy_with_logits(logits=Yish, labels=T))\n",
    "\n",
    "train_op = tf.train.RMSPropOptimizer(lr, decay=0.99, momentum=0.9).minimize(cost)\n",
    "\n",
    "predict_op = tf.argmax(Yish, 1)\n",
    "\n",
    "LL = []\n",
    "init = tf.initialize_all_variables()"
   ]
  },
  {
   "cell_type": "code",
   "execution_count": 16,
   "metadata": {
    "collapsed": false
   },
   "outputs": [
    {
     "name": "stdout",
     "output_type": "stream",
     "text": [
      "Cost / err at iteration i=0, j=0: 2353.444 / 0.902\n",
      "Cost / err at iteration i=0, j=10: 1584.825 / 0.414\n",
      "Cost / err at iteration i=0, j=20: 930.404 / 0.246\n",
      "Cost / err at iteration i=0, j=30: 620.120 / 0.180\n",
      "Cost / err at iteration i=0, j=40: 503.807 / 0.136\n",
      "Cost / err at iteration i=0, j=50: 438.196 / 0.129\n",
      "Cost / err at iteration i=0, j=60: 394.349 / 0.121\n",
      "Cost / err at iteration i=0, j=70: 362.912 / 0.109\n",
      "Cost / err at iteration i=0, j=80: 344.417 / 0.104\n",
      "Cost / err at iteration i=1, j=0: 339.974 / 0.103\n",
      "Cost / err at iteration i=1, j=10: 318.337 / 0.092\n",
      "Cost / err at iteration i=1, j=20: 299.960 / 0.090\n",
      "Cost / err at iteration i=1, j=30: 287.422 / 0.083\n",
      "Cost / err at iteration i=1, j=40: 283.047 / 0.080\n",
      "Cost / err at iteration i=1, j=50: 275.899 / 0.079\n",
      "Cost / err at iteration i=1, j=60: 261.452 / 0.076\n",
      "Cost / err at iteration i=1, j=70: 255.401 / 0.071\n",
      "Cost / err at iteration i=1, j=80: 248.859 / 0.067\n",
      "Cost / err at iteration i=2, j=0: 246.790 / 0.068\n",
      "Cost / err at iteration i=2, j=10: 238.380 / 0.066\n",
      "Cost / err at iteration i=2, j=20: 228.083 / 0.071\n",
      "Cost / err at iteration i=2, j=30: 222.813 / 0.066\n",
      "Cost / err at iteration i=2, j=40: 224.209 / 0.060\n",
      "Cost / err at iteration i=2, j=50: 218.797 / 0.056\n",
      "Cost / err at iteration i=2, j=60: 208.258 / 0.059\n",
      "Cost / err at iteration i=2, j=70: 210.533 / 0.057\n",
      "Cost / err at iteration i=2, j=80: 205.492 / 0.055\n",
      "Cost / err at iteration i=3, j=0: 203.308 / 0.055\n",
      "Cost / err at iteration i=3, j=10: 198.334 / 0.052\n",
      "Cost / err at iteration i=3, j=20: 191.095 / 0.050\n",
      "Cost / err at iteration i=3, j=30: 191.154 / 0.050\n",
      "Cost / err at iteration i=3, j=40: 193.246 / 0.048\n",
      "Cost / err at iteration i=3, j=50: 188.175 / 0.050\n",
      "Cost / err at iteration i=3, j=60: 178.852 / 0.051\n",
      "Cost / err at iteration i=3, j=70: 183.736 / 0.050\n",
      "Cost / err at iteration i=3, j=80: 180.471 / 0.046\n",
      "Cost / err at iteration i=4, j=0: 178.025 / 0.046\n",
      "Cost / err at iteration i=4, j=10: 174.723 / 0.048\n",
      "Cost / err at iteration i=4, j=20: 170.110 / 0.044\n",
      "Cost / err at iteration i=4, j=30: 173.965 / 0.049\n",
      "Cost / err at iteration i=4, j=40: 176.384 / 0.050\n",
      "Cost / err at iteration i=4, j=50: 171.334 / 0.046\n",
      "Cost / err at iteration i=4, j=60: 163.235 / 0.046\n",
      "Cost / err at iteration i=4, j=70: 171.417 / 0.047\n",
      "Cost / err at iteration i=4, j=80: 168.736 / 0.047\n",
      "Cost / err at iteration i=5, j=0: 166.497 / 0.047\n",
      "Cost / err at iteration i=5, j=10: 163.778 / 0.044\n",
      "Cost / err at iteration i=5, j=20: 159.840 / 0.045\n",
      "Cost / err at iteration i=5, j=30: 165.098 / 0.046\n",
      "Cost / err at iteration i=5, j=40: 169.662 / 0.048\n",
      "Cost / err at iteration i=5, j=50: 163.370 / 0.045\n",
      "Cost / err at iteration i=5, j=60: 155.581 / 0.048\n",
      "Cost / err at iteration i=5, j=70: 160.727 / 0.044\n",
      "Cost / err at iteration i=5, j=80: 160.417 / 0.045\n",
      "Cost / err at iteration i=6, j=0: 158.158 / 0.046\n",
      "Cost / err at iteration i=6, j=10: 154.969 / 0.042\n",
      "Cost / err at iteration i=6, j=20: 152.802 / 0.043\n",
      "Cost / err at iteration i=6, j=30: 159.196 / 0.048\n",
      "Cost / err at iteration i=6, j=40: 165.714 / 0.047\n",
      "Cost / err at iteration i=6, j=50: 157.780 / 0.050\n",
      "Cost / err at iteration i=6, j=60: 151.950 / 0.047\n",
      "Cost / err at iteration i=6, j=70: 159.879 / 0.044\n",
      "Cost / err at iteration i=6, j=80: 158.760 / 0.045\n",
      "Cost / err at iteration i=7, j=0: 156.786 / 0.046\n",
      "Cost / err at iteration i=7, j=10: 153.568 / 0.041\n",
      "Cost / err at iteration i=7, j=20: 151.061 / 0.043\n",
      "Cost / err at iteration i=7, j=30: 157.736 / 0.048\n",
      "Cost / err at iteration i=7, j=40: 166.365 / 0.045\n",
      "Cost / err at iteration i=7, j=50: 156.838 / 0.047\n",
      "Cost / err at iteration i=7, j=60: 151.187 / 0.048\n",
      "Cost / err at iteration i=7, j=70: 156.353 / 0.044\n",
      "Cost / err at iteration i=7, j=80: 156.365 / 0.046\n",
      "Cost / err at iteration i=8, j=0: 154.589 / 0.046\n",
      "Cost / err at iteration i=8, j=10: 151.252 / 0.041\n",
      "Cost / err at iteration i=8, j=20: 149.916 / 0.042\n",
      "Cost / err at iteration i=8, j=30: 156.109 / 0.047\n",
      "Cost / err at iteration i=8, j=40: 167.147 / 0.047\n",
      "Cost / err at iteration i=8, j=50: 157.234 / 0.048\n",
      "Cost / err at iteration i=8, j=60: 152.049 / 0.046\n",
      "Cost / err at iteration i=8, j=70: 157.940 / 0.043\n",
      "Cost / err at iteration i=8, j=80: 157.103 / 0.040\n",
      "Cost / err at iteration i=9, j=0: 155.302 / 0.041\n",
      "Cost / err at iteration i=9, j=10: 151.411 / 0.040\n",
      "Cost / err at iteration i=9, j=20: 150.820 / 0.042\n",
      "Cost / err at iteration i=9, j=30: 155.579 / 0.046\n",
      "Cost / err at iteration i=9, j=40: 168.733 / 0.044\n",
      "Cost / err at iteration i=9, j=50: 160.878 / 0.049\n",
      "Cost / err at iteration i=9, j=60: 156.033 / 0.046\n",
      "Cost / err at iteration i=9, j=70: 160.232 / 0.042\n",
      "Cost / err at iteration i=9, j=80: 159.922 / 0.042\n",
      "Cost / err at iteration i=10, j=0: 158.361 / 0.042\n",
      "Cost / err at iteration i=10, j=10: 152.791 / 0.037\n",
      "Cost / err at iteration i=10, j=20: 152.887 / 0.042\n",
      "Cost / err at iteration i=10, j=30: 156.889 / 0.043\n",
      "Cost / err at iteration i=10, j=40: 171.316 / 0.044\n",
      "Cost / err at iteration i=10, j=50: 165.091 / 0.047\n",
      "Cost / err at iteration i=10, j=60: 157.347 / 0.042\n",
      "Cost / err at iteration i=10, j=70: 166.116 / 0.047\n",
      "Cost / err at iteration i=10, j=80: 164.314 / 0.040\n",
      "Cost / err at iteration i=11, j=0: 163.072 / 0.040\n",
      "Cost / err at iteration i=11, j=10: 158.592 / 0.040\n",
      "Cost / err at iteration i=11, j=20: 160.885 / 0.043\n",
      "Cost / err at iteration i=11, j=30: 163.891 / 0.044\n",
      "Cost / err at iteration i=11, j=40: 179.986 / 0.042\n",
      "Cost / err at iteration i=11, j=50: 173.732 / 0.047\n",
      "Cost / err at iteration i=11, j=60: 163.853 / 0.043\n",
      "Cost / err at iteration i=11, j=70: 169.450 / 0.044\n",
      "Cost / err at iteration i=11, j=80: 168.231 / 0.040\n",
      "Cost / err at iteration i=12, j=0: 166.806 / 0.039\n",
      "Cost / err at iteration i=12, j=10: 162.394 / 0.038\n",
      "Cost / err at iteration i=12, j=20: 164.672 / 0.040\n",
      "Cost / err at iteration i=12, j=30: 165.124 / 0.045\n",
      "Cost / err at iteration i=12, j=40: 179.962 / 0.043\n",
      "Cost / err at iteration i=12, j=50: 175.469 / 0.044\n",
      "Cost / err at iteration i=12, j=60: 164.452 / 0.044\n",
      "Cost / err at iteration i=12, j=70: 168.334 / 0.042\n",
      "Cost / err at iteration i=12, j=80: 171.506 / 0.041\n",
      "Cost / err at iteration i=13, j=0: 171.451 / 0.041\n",
      "Cost / err at iteration i=13, j=10: 165.885 / 0.037\n",
      "Cost / err at iteration i=13, j=20: 171.202 / 0.044\n",
      "Cost / err at iteration i=13, j=30: 170.891 / 0.043\n",
      "Cost / err at iteration i=13, j=40: 183.099 / 0.041\n",
      "Cost / err at iteration i=13, j=50: 181.387 / 0.042\n",
      "Cost / err at iteration i=13, j=60: 168.823 / 0.043\n",
      "Cost / err at iteration i=13, j=70: 171.314 / 0.042\n",
      "Cost / err at iteration i=13, j=80: 176.733 / 0.042\n",
      "Cost / err at iteration i=14, j=0: 179.132 / 0.041\n",
      "Cost / err at iteration i=14, j=10: 171.264 / 0.036\n",
      "Cost / err at iteration i=14, j=20: 177.462 / 0.046\n",
      "Cost / err at iteration i=14, j=30: 175.423 / 0.038\n",
      "Cost / err at iteration i=14, j=40: 180.799 / 0.041\n",
      "Cost / err at iteration i=14, j=50: 184.300 / 0.041\n",
      "Cost / err at iteration i=14, j=60: 174.479 / 0.041\n",
      "Cost / err at iteration i=14, j=70: 176.935 / 0.043\n",
      "Cost / err at iteration i=14, j=80: 186.239 / 0.041\n"
     ]
    }
   ],
   "source": [
    "with tf.Session() as session:\n",
    "    session.run(init)\n",
    "    \n",
    "    for i in range(max_iter):\n",
    "        for j in range(n_batches):\n",
    "            Xbatch = Xtrain[j*batch_sz:(j*batch_sz + batch_sz),]\n",
    "            Ybatch = Ytrain_ind[j*batch_sz:(j*batch_sz + batch_sz),]\n",
    "            \n",
    "            session.run(train_op, feed_dict={X: Xbatch, T: Ybatch})\n",
    "            if j % print_period == 0:\n",
    "                test_cost = session.run(cost, feed_dict={X: Xtest, T: Ytest_ind})\n",
    "                prediction = session.run(predict_op, feed_dict={X: Xtest})\n",
    "                err = error_rate(prediction, Ytest)\n",
    "                print(\"Cost / err at iteration i=%d, j=%d: %.3f / %.3f\" % (i, j, test_cost, err))\n",
    "                LL.append(test_cost)\n",
    "            "
   ]
  },
  {
   "cell_type": "code",
   "execution_count": 17,
   "metadata": {
    "collapsed": false
   },
   "outputs": [
    {
     "data": {
      "image/png": "[encoded data removed]",
      "text/plain": [
       "<matplotlib.figure.Figure at 0x1363e9c50>"
      ]
     },
     "metadata": {},
     "output_type": "display_data"
    }
   ],
   "source": [
    "plt.plot(LL)\n",
    "plt.show()"
   ]
  }
 ],
 "metadata": {
  "anaconda-cloud": {},
  "kernelspec": {
   "display_name": "Python [Root]",
   "language": "python",
   "name": "Python [Root]"
  },
  "language_info": {
   "codemirror_mode": {
    "name": "ipython",
    "version": 3
   },
   "file_extension": ".py",
   "mimetype": "text/x-python",
   "name": "python",
   "nbconvert_exporter": "python",
   "pygments_lexer": "ipython3",
   "version": "3.5.2"
  }
 },
 "nbformat": 4,
 "nbformat_minor": 0
}
