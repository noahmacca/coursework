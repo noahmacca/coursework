{
 "cells": [
  {
   "cell_type": "code",
   "execution_count": 3,
   "metadata": {
    "collapsed": true
   },
   "outputs": [],
   "source": [
    "import numpy as np\n",
    "import tensorflow as tf\n",
    "import matplotlib.pyplot as plt\n",
    "%matplotlib inline\n",
    "\n",
    "from util import get_normalized_data\n",
    "from sklearn.utils import shuffle"
   ]
  },
  {
   "cell_type": "code",
   "execution_count": 17,
   "metadata": {
    "collapsed": true
   },
   "outputs": [],
   "source": [
    "class HiddenLayer(object):\n",
    "    def __init__(self, M1, M2):\n",
    "        self.M1 = M1\n",
    "        self.M2 = M2\n",
    "        W = np.random.randn(M1, M2) / np.sqrt(M1 + M2)\n",
    "        b = np.zeros(M2)\n",
    "        self.W = tf.Variable(W.astype(np.float32))\n",
    "        self.b = tf.Variable(b.astype(np.float32))\n",
    "        self.params = [self.W, self.b]\n",
    "        \n",
    "    def forward(self, X):\n",
    "        return tf.nn.relu(tf.matmul(X, self.W) + self.b)\n",
    "    \n",
    "class ANN(object):\n",
    "    def __init__(self, hidden_layer_sizes, p_keep):\n",
    "        self.hidden_layer_sizes = hidden_layer_sizes\n",
    "        self.dropout_rates = p_keep\n",
    "    \n",
    "    def fit(self, X, Y, lr=10e-7, mu=0.99, decay=0.999, epochs=300, batch_sz=100):\n",
    "        # Make a validation set\n",
    "        X, Y = shuffle(X, Y)\n",
    "        X = X.astype(np.float32)\n",
    "        Y = Y.astype(np.int64)\n",
    "        Xvalid, Yvalid = X[-1000:], Y[-1000:]\n",
    "        X, Y = X[:-1000], Y[:-1000]\n",
    "        \n",
    "        # initialize hidden layers\n",
    "        N, D = X.shape\n",
    "        K = len(set(Y))\n",
    "        self.hidden_layers = []\n",
    "        M1 = D\n",
    "        for M2 in self.hidden_layer_sizes:\n",
    "            h = HiddenLayer(M1, M2)\n",
    "            self.hidden_layers.append(h)\n",
    "            M1 = M2\n",
    "        W = np.random.randn(M1, K) / np.sqrt(M1 + K)\n",
    "        b = np.zeros(K)\n",
    "        self.W = tf.Variable(W.astype(np.float32))\n",
    "        self.b = tf.Variable(b.astype(np.float32))\n",
    "        \n",
    "        # collect params for later use\n",
    "        self.params = [self.W, self.b]\n",
    "        for h in self.hidden_layers:\n",
    "            self.params += h.params\n",
    "        \n",
    "        # Set up functions and variables\n",
    "        inputs = tf.placeholder(tf.float32, shape=(None, D), name='inputs')\n",
    "        labels = tf.placeholder(tf.int64, shape=(None,), name='labels')\n",
    "        logits = self.forward(inputs) # define this below\n",
    "        \n",
    "        cost = tf.reduce_mean(tf.nn.sparse_softmax_cross_entropy_with_logits(logits, labels))\n",
    "        train_op = tf.train.RMSPropOptimizer(lr, decay=decay, momentum=mu).minimize(cost)\n",
    "        prediction = self.predict(inputs) # define below\n",
    "        \n",
    "        n_batches = N//batch_sz\n",
    "        costs = []\n",
    "        init = tf.global_variables_initializer()\n",
    "        with tf.Session() as session:\n",
    "            session.run(init)\n",
    "            for i in range(epochs):\n",
    "                X, Y = shuffle(X, Y)\n",
    "                for j in range(n_batches):\n",
    "                    Xbatch = X[j*batch_sz:(j*batch_sz + batch_sz)]\n",
    "                    Ybatch = Y[j*batch_sz:(j*batch_sz + batch_sz)]\n",
    "                    \n",
    "                    session.run(train_op, feed_dict={inputs: Xbatch, labels: Ybatch})\n",
    "                    \n",
    "                    if j % 20 == 0:\n",
    "                        c = session.run(cost, feed_dict={inputs: Xvalid, labels: Yvalid})\n",
    "                    p = session.run(prediction, feed_dict={inputs: Xvalid})\n",
    "                        costs.append(c)\n",
    "                        e = error_rate(Yvalid, p)\n",
    "                        print(\"I:\", i, \"j:\", j, \"nb:\", n_batches, \"cost:\", c, \"error rate:\", e)\n",
    "        plt.plot(costs)\n",
    "        \n",
    "    def forward(self, X):\n",
    "        # no need to define different functions for train and predict\n",
    "        # tf.nn.dropout takes cae of the differences for us\n",
    "        Z = X\n",
    "        Z = tf.nn.dropout(Z, self.dropout_rates[0])\n",
    "        for h, p in zip(self.hidden_layers, self.dropout_rates[1:]):\n",
    "            Z = h.forward(Z)\n",
    "            Z = tf.nn.dropout(Z, p)\n",
    "        return tf.matmul(Z, self.W) + self.b\n",
    "    \n",
    "    def predict(self, X):\n",
    "        pY = self.forward(X)\n",
    "        return tf.argmax(pY, 1)\n",
    "    \n",
    "    \n",
    "def error_rate(p, t):\n",
    "    return np.mean(p != t)\n",
    "\n",
    "def relu(a):\n",
    "    return a * (a > 0)\n",
    "        "
   ]
  },
  {
   "cell_type": "code",
   "execution_count": 5,
   "metadata": {
    "collapsed": false
   },
   "outputs": [
    {
     "name": "stdout",
     "output_type": "stream",
     "text": [
      "Reading in and transforming data...\n"
     ]
    }
   ],
   "source": [
    "X, Y = get_normalized_data()"
   ]
  },
  {
   "cell_type": "code",
   "execution_count": 20,
   "metadata": {
    "collapsed": false
   },
   "outputs": [
    {
     "name": "stdout",
     "output_type": "stream",
     "text": [
      "I: 0 j: 0 nb: 410 cost: 2.46537 error rate: 0.897\n",
      "I: 0 j: 20 nb: 410 cost: 2.37853 error rate: 0.868\n",
      "I: 0 j: 40 nb: 410 cost: 2.18948 error rate: 0.772\n",
      "I: 0 j: 60 nb: 410 cost: 1.9654 error rate: 0.588\n",
      "I: 0 j: 80 nb: 410 cost: 1.6947 error rate: 0.488\n",
      "I: 0 j: 100 nb: 410 cost: 1.47736 error rate: 0.421\n",
      "I: 0 j: 120 nb: 410 cost: 1.20806 error rate: 0.336\n",
      "I: 0 j: 140 nb: 410 cost: 1.05685 error rate: 0.309\n",
      "I: 0 j: 160 nb: 410 cost: 0.91332 error rate: 0.291\n",
      "I: 0 j: 180 nb: 410 cost: 0.790022 error rate: 0.234\n",
      "I: 0 j: 200 nb: 410 cost: 0.738162 error rate: 0.234\n",
      "I: 0 j: 220 nb: 410 cost: 0.741937 error rate: 0.224\n",
      "I: 0 j: 240 nb: 410 cost: 0.656496 error rate: 0.222\n",
      "I: 0 j: 260 nb: 410 cost: 0.669905 error rate: 0.191\n",
      "I: 0 j: 280 nb: 410 cost: 0.608381 error rate: 0.176\n",
      "I: 0 j: 300 nb: 410 cost: 0.637044 error rate: 0.173\n",
      "I: 0 j: 320 nb: 410 cost: 0.574367 error rate: 0.154\n",
      "I: 0 j: 340 nb: 410 cost: 0.557694 error rate: 0.157\n",
      "I: 0 j: 360 nb: 410 cost: 0.540171 error rate: 0.146\n",
      "I: 0 j: 380 nb: 410 cost: 0.524234 error rate: 0.133\n",
      "I: 0 j: 400 nb: 410 cost: 0.512794 error rate: 0.134\n",
      "I: 1 j: 0 nb: 410 cost: 0.506558 error rate: 0.143\n",
      "I: 1 j: 20 nb: 410 cost: 0.454409 error rate: 0.133\n",
      "I: 1 j: 40 nb: 410 cost: 0.48065 error rate: 0.131\n",
      "I: 1 j: 60 nb: 410 cost: 0.482656 error rate: 0.136\n",
      "I: 1 j: 80 nb: 410 cost: 0.433574 error rate: 0.132\n",
      "I: 1 j: 100 nb: 410 cost: 0.461603 error rate: 0.138\n",
      "I: 1 j: 120 nb: 410 cost: 0.422133 error rate: 0.135\n",
      "I: 1 j: 140 nb: 410 cost: 0.382775 error rate: 0.125\n",
      "I: 1 j: 160 nb: 410 cost: 0.434141 error rate: 0.12\n",
      "I: 1 j: 180 nb: 410 cost: 0.404195 error rate: 0.13\n",
      "I: 1 j: 200 nb: 410 cost: 0.433889 error rate: 0.117\n",
      "I: 1 j: 220 nb: 410 cost: 0.414349 error rate: 0.124\n",
      "I: 1 j: 240 nb: 410 cost: 0.396615 error rate: 0.118\n",
      "I: 1 j: 260 nb: 410 cost: 0.412666 error rate: 0.109\n",
      "I: 1 j: 280 nb: 410 cost: 0.414659 error rate: 0.12\n",
      "I: 1 j: 300 nb: 410 cost: 0.37824 error rate: 0.11\n",
      "I: 1 j: 320 nb: 410 cost: 0.37246 error rate: 0.123\n",
      "I: 1 j: 340 nb: 410 cost: 0.382971 error rate: 0.1\n",
      "I: 1 j: 360 nb: 410 cost: 0.376629 error rate: 0.116\n",
      "I: 1 j: 380 nb: 410 cost: 0.368569 error rate: 0.11\n",
      "I: 1 j: 400 nb: 410 cost: 0.371025 error rate: 0.103\n",
      "I: 2 j: 0 nb: 410 cost: 0.356033 error rate: 0.096\n",
      "I: 2 j: 20 nb: 410 cost: 0.352861 error rate: 0.095\n",
      "I: 2 j: 40 nb: 410 cost: 0.336903 error rate: 0.109\n",
      "I: 2 j: 60 nb: 410 cost: 0.365716 error rate: 0.11\n",
      "I: 2 j: 80 nb: 410 cost: 0.382909 error rate: 0.094\n",
      "I: 2 j: 100 nb: 410 cost: 0.344703 error rate: 0.111\n",
      "I: 2 j: 120 nb: 410 cost: 0.330294 error rate: 0.113\n",
      "I: 2 j: 140 nb: 410 cost: 0.364247 error rate: 0.098\n",
      "I: 2 j: 160 nb: 410 cost: 0.339266 error rate: 0.102\n",
      "I: 2 j: 180 nb: 410 cost: 0.338513 error rate: 0.101\n",
      "I: 2 j: 200 nb: 410 cost: 0.366034 error rate: 0.1\n",
      "I: 2 j: 220 nb: 410 cost: 0.357803 error rate: 0.114\n",
      "I: 2 j: 240 nb: 410 cost: 0.33085 error rate: 0.094\n",
      "I: 2 j: 260 nb: 410 cost: 0.31906 error rate: 0.09\n",
      "I: 2 j: 280 nb: 410 cost: 0.327759 error rate: 0.108\n",
      "I: 2 j: 300 nb: 410 cost: 0.347211 error rate: 0.1\n",
      "I: 2 j: 320 nb: 410 cost: 0.336376 error rate: 0.101\n",
      "I: 2 j: 340 nb: 410 cost: 0.339868 error rate: 0.085\n",
      "I: 2 j: 360 nb: 410 cost: 0.317807 error rate: 0.104\n",
      "I: 2 j: 380 nb: 410 cost: 0.327758 error rate: 0.1\n",
      "I: 2 j: 400 nb: 410 cost: 0.343115 error rate: 0.095\n"
     ]
    },
    {
     "data": {
      "image/png": "[encoded data removed]",
      "text/plain": [
       "<matplotlib.figure.Figure at 0x119bf2a20>"
      ]
     },
     "metadata": {},
     "output_type": "display_data"
    }
   ],
   "source": [
    "ann = ANN([500, 300], [0.8, 0.5, 0.5])\n",
    "ann.fit(X, Y, epochs=3, lr=50e-5, mu=0.99, decay=0.9999)"
   ]
  },
  {
   "cell_type": "markdown",
   "metadata": {},
   "source": [
    "### Again"
   ]
  },
  {
   "cell_type": "code",
   "execution_count": 37,
   "metadata": {
    "collapsed": false
   },
   "outputs": [],
   "source": [
    "import numpy as np\n",
    "import tensorflow as tf\n",
    "import matplotlib.pyplot as plt\n",
    "%matplotlib inline\n",
    "\n",
    "from util import get_normalized_data\n",
    "from sklearn.utils import shuffle"
   ]
  },
  {
   "cell_type": "code",
   "execution_count": 46,
   "metadata": {
    "collapsed": false
   },
   "outputs": [
    {
     "name": "stdout",
     "output_type": "stream",
     "text": [
      "Reading in and transforming data...\n"
     ]
    }
   ],
   "source": [
    "X, Y= get_normalized_data()"
   ]
  },
  {
   "cell_type": "code",
   "execution_count": 67,
   "metadata": {
    "collapsed": false
   },
   "outputs": [],
   "source": [
    "class HiddenLayer(object):\n",
    "    def __init__(self, M1, M2):\n",
    "        self.M1 = M1\n",
    "        self.M2 = M2\n",
    "        W = np.random.randn(M1, M2) / np.sqrt(M1 + M2)\n",
    "        b = np.zeros(M2)\n",
    "        self.W = tf.Variable(W.astype(np.float32))\n",
    "        self.b = tf.Variable(b.astype(np.float32))\n",
    "        self.params = [self.W, self.b]\n",
    "        \n",
    "    def forward(self, X):\n",
    "        return tf.nn.relu(tf.matmul(X, self.W) + self.b)\n",
    "    \n",
    "class ANN(object):\n",
    "    def __init__(self, hidden_layer_sizes, p_keep):\n",
    "        self.hidden_layer_sizes = hidden_layer_sizes\n",
    "        self.dropout_rates = p_keep\n",
    "        \n",
    "    def fit(self, X, Y, lr=10e-7, mu=0.99, decay=0.999, epochs=300, batch_sz=100):\n",
    "        # Make a validation set\n",
    "        X, Y = shuffle(X, Y)\n",
    "        X = X.astype(np.float32)\n",
    "        Y = Y.astype(np.int64)\n",
    "        Xvalid, Yvalid = X[-1000:], Y[-1000:]\n",
    "        X, Y = X[:-1000], Y[:-1000]\n",
    "        \n",
    "        # initialize hidden layers\n",
    "        N, D = X.shape\n",
    "        K = len(set(Y))\n",
    "        self.hidden_layers = []\n",
    "        M1 = D\n",
    "        for M2 in self.hidden_layer_sizes:\n",
    "            h = HiddenLayer(M1, M2)\n",
    "            self.hidden_layers.append(h)\n",
    "            M1 = M2\n",
    "        W = np.random.randn(M1, K) / np.sqrt(M1 + K)\n",
    "        b = np.zeros(K)\n",
    "        self.W = tf.Variable(W.astype(np.float32))\n",
    "        self.b = tf.Variable(b.astype(np.float32))\n",
    "        \n",
    "        # collect params for later use\n",
    "        self.params = [self.W, self.b]\n",
    "        for h in self.hidden_layers:\n",
    "            self.params += h.params\n",
    "            \n",
    "        # Set up functions and variables\n",
    "        inputs = tf.placeholder(tf.float32, shape=(None, D), name='inputs')\n",
    "        labels = tf.placeholder(tf.int64, shape=(None,), name='labels')\n",
    "        logits = self.forward(inputs)\n",
    "        \n",
    "        cost = tf.reduce_mean(tf.nn.sparse_softmax_cross_entropy_with_logits(logits, labels))\n",
    "        train_op = tf.train.RMSPropOptimizer(lr, decay=decay, momentum=mu).minimize(cost)\n",
    "        prediction = self.predict(inputs)\n",
    "        \n",
    "        n_batches = N // batch_sz\n",
    "        costs = []\n",
    "        init = tf.global_variables_initializer()\n",
    "        with tf.Session() as session:\n",
    "            session.run(init)\n",
    "            for i in range(epochs):\n",
    "                X, Y = shuffle(X, Y)\n",
    "                for j in range(n_batches):\n",
    "                    Xbatch = X[j*batch_sz:(j*batch_sz+batch_sz)]\n",
    "                    Ybatch = Y[j*batch_sz:(j*batch_sz+batch_sz)]\n",
    "                    \n",
    "                    session.run(train_op, feed_dict={inputs: Xbatch, labels: Ybatch})\n",
    "                    \n",
    "                    if j % 20 == 0:\n",
    "                        c = session.run(cost, feed_dict={inputs: Xvalid, labels: Yvalid})\n",
    "                        p = session.run(prediction, feed_dict={inputs: Xvalid})\n",
    "                        costs.append(c)\n",
    "                        e = error_rate(Yvalid, p)\n",
    "                        print(\"i:\", i, \"j:\", j, \"nb:\", n_batches, \"cost:\", c, \"error rate:\", e)\n",
    "        plt.plot(costs)\n",
    "        \n",
    "    def forward(self, X):\n",
    "        # no need to define different functions for train and predict\n",
    "        # tf.nn.dropout takes care of the differences for us\n",
    "        Z = X\n",
    "        Z = tf.nn.dropout(Z, self.dropout_rates[0])\n",
    "        for h, p in zip(self.hidden_layers, self.dropout_rates[1:]):\n",
    "            Z = h.forward(Z)\n",
    "            Z = tf.nn.dropout(Z, p)\n",
    "        return tf.matmul(Z, self.W) + self.b\n",
    "    \n",
    "    def predict(self, X):\n",
    "        pY = self.forward(X)\n",
    "        return tf.argmax(pY, 1)\n",
    "    \n",
    "\n",
    "def error_rate(p, t):\n",
    "    return np.mean(p != t)\n",
    "\n",
    "def relu(a):\n",
    "    return a * (a > 0)\n"
   ]
  },
  {
   "cell_type": "code",
   "execution_count": 68,
   "metadata": {
    "collapsed": false
   },
   "outputs": [
    {
     "name": "stdout",
     "output_type": "stream",
     "text": [
      "i: 0 j: 0 nb: 410 cost: 2.42415 error rate: 0.885\n",
      "i: 0 j: 20 nb: 410 cost: 2.2315 error rate: 0.82\n",
      "i: 0 j: 40 nb: 410 cost: 1.89259 error rate: 0.577\n",
      "i: 0 j: 60 nb: 410 cost: 1.46542 error rate: 0.409\n",
      "i: 0 j: 80 nb: 410 cost: 1.11346 error rate: 0.311\n",
      "i: 0 j: 100 nb: 410 cost: 0.884763 error rate: 0.278\n",
      "i: 0 j: 120 nb: 410 cost: 0.729267 error rate: 0.233\n",
      "i: 0 j: 140 nb: 410 cost: 0.753207 error rate: 0.218\n",
      "i: 0 j: 160 nb: 410 cost: 0.640591 error rate: 0.208\n",
      "i: 0 j: 180 nb: 410 cost: 0.613216 error rate: 0.169\n",
      "i: 0 j: 200 nb: 410 cost: 0.527146 error rate: 0.175\n",
      "i: 0 j: 220 nb: 410 cost: 0.542825 error rate: 0.15\n",
      "i: 0 j: 240 nb: 410 cost: 0.506788 error rate: 0.13\n",
      "i: 0 j: 260 nb: 410 cost: 0.487386 error rate: 0.127\n",
      "i: 0 j: 280 nb: 410 cost: 0.436766 error rate: 0.145\n",
      "i: 0 j: 300 nb: 410 cost: 0.450633 error rate: 0.129\n",
      "i: 0 j: 320 nb: 410 cost: 0.406126 error rate: 0.127\n",
      "i: 0 j: 340 nb: 410 cost: 0.402425 error rate: 0.12\n",
      "i: 0 j: 360 nb: 410 cost: 0.414929 error rate: 0.124\n",
      "i: 0 j: 380 nb: 410 cost: 0.436619 error rate: 0.118\n",
      "i: 0 j: 400 nb: 410 cost: 0.406951 error rate: 0.119\n",
      "i: 1 j: 0 nb: 410 cost: 0.384213 error rate: 0.128\n",
      "i: 1 j: 20 nb: 410 cost: 0.402145 error rate: 0.113\n",
      "i: 1 j: 40 nb: 410 cost: 0.341997 error rate: 0.112\n",
      "i: 1 j: 60 nb: 410 cost: 0.329384 error rate: 0.114\n",
      "i: 1 j: 80 nb: 410 cost: 0.34995 error rate: 0.103\n",
      "i: 1 j: 100 nb: 410 cost: 0.356316 error rate: 0.104\n",
      "i: 1 j: 120 nb: 410 cost: 0.362754 error rate: 0.11\n",
      "i: 1 j: 140 nb: 410 cost: 0.358486 error rate: 0.103\n",
      "i: 1 j: 160 nb: 410 cost: 0.353854 error rate: 0.111\n",
      "i: 1 j: 180 nb: 410 cost: 0.320658 error rate: 0.106\n",
      "i: 1 j: 200 nb: 410 cost: 0.326664 error rate: 0.102\n",
      "i: 1 j: 220 nb: 410 cost: 0.316034 error rate: 0.087\n",
      "i: 1 j: 240 nb: 410 cost: 0.308554 error rate: 0.1\n",
      "i: 1 j: 260 nb: 410 cost: 0.320016 error rate: 0.095\n",
      "i: 1 j: 280 nb: 410 cost: 0.298604 error rate: 0.097\n",
      "i: 1 j: 300 nb: 410 cost: 0.296343 error rate: 0.081\n",
      "i: 1 j: 320 nb: 410 cost: 0.297698 error rate: 0.11\n",
      "i: 1 j: 340 nb: 410 cost: 0.301108 error rate: 0.088\n",
      "i: 1 j: 360 nb: 410 cost: 0.30127 error rate: 0.082\n",
      "i: 1 j: 380 nb: 410 cost: 0.29455 error rate: 0.087\n",
      "i: 1 j: 400 nb: 410 cost: 0.300766 error rate: 0.084\n"
     ]
    },
    {
     "data": {
      "image/png": "[encoded data removed]",
      "text/plain": [
       "<matplotlib.figure.Figure at 0x2e7be7f98>"
      ]
     },
     "metadata": {},
     "output_type": "display_data"
    }
   ],
   "source": [
    "ann = ANN([500, 300], [0.8, 0.5, 0.5])\n",
    "ann.fit(X, Y, epochs=2, lr=10e-4, mu=0.99, decay=0.9999)"
   ]
  },
  {
   "cell_type": "code",
   "execution_count": null,
   "metadata": {
    "collapsed": true
   },
   "outputs": [],
   "source": []
  }
 ],
 "metadata": {
  "kernelspec": {
   "display_name": "Python [Root]",
   "language": "python",
   "name": "Python [Root]"
  },
  "language_info": {
   "codemirror_mode": {
    "name": "ipython",
    "version": 3
   },
   "file_extension": ".py",
   "mimetype": "text/x-python",
   "name": "python",
   "nbconvert_exporter": "python",
   "pygments_lexer": "ipython3",
   "version": "3.5.2"
  }
 },
 "nbformat": 4,
 "nbformat_minor": 0
}
