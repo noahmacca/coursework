{
 "cells": [
  {
   "cell_type": "markdown",
   "metadata": {
    "deletable": true,
    "editable": true
   },
   "source": [
    "Basics"
   ]
  },
  {
   "cell_type": "code",
   "execution_count": 1,
   "metadata": {
    "collapsed": true,
    "deletable": true,
    "editable": true
   },
   "outputs": [],
   "source": [
    "import numpy as np\n",
    "import tensorflow as tf"
   ]
  },
  {
   "cell_type": "code",
   "execution_count": null,
   "metadata": {
    "collapsed": true,
    "deletable": true,
    "editable": true
   },
   "outputs": [],
   "source": [
    "A = tf.placeholder(tf.float32, shape=(5,5), name='A')\n",
    "v = tf.placeholder(tf.float32)"
   ]
  },
  {
   "cell_type": "code",
   "execution_count": null,
   "metadata": {
    "collapsed": false,
    "deletable": true,
    "editable": true
   },
   "outputs": [],
   "source": [
    "w = tf.matmul(A, v)"
   ]
  },
  {
   "cell_type": "code",
   "execution_count": null,
   "metadata": {
    "collapsed": false,
    "deletable": true,
    "editable": true
   },
   "outputs": [],
   "source": [
    "with tf.Session() as session:\n",
    "    output = session.run(w, feed_dict={A: np.random.randn(5,5), v: np.random.randn(5,1)})\n",
    "    print(output, type(output))"
   ]
  },
  {
   "cell_type": "code",
   "execution_count": null,
   "metadata": {
    "collapsed": true,
    "deletable": true,
    "editable": true
   },
   "outputs": [],
   "source": [
    "shape=(2,2)\n",
    "x = tf.Variable(tf.random_normal(shape))\n",
    "t = tf.Variable(0)"
   ]
  },
  {
   "cell_type": "code",
   "execution_count": null,
   "metadata": {
    "collapsed": false,
    "deletable": true,
    "editable": true
   },
   "outputs": [],
   "source": [
    "init = tf.initialize_all_variables()"
   ]
  },
  {
   "cell_type": "code",
   "execution_count": null,
   "metadata": {
    "collapsed": false,
    "deletable": true,
    "editable": true
   },
   "outputs": [],
   "source": [
    "with tf.Session() as session:\n",
    "    out = session.run(init)\n",
    "    print(x.eval())\n",
    "    print(t.eval())"
   ]
  },
  {
   "cell_type": "code",
   "execution_count": null,
   "metadata": {
    "collapsed": true,
    "deletable": true,
    "editable": true
   },
   "outputs": [],
   "source": [
    "u = tf.Variable(20.0)\n",
    "cost = u*u + u + 1\n",
    "train_op = tf.train.GradientDescentOptimizer(0.3).minimize(cost)"
   ]
  },
  {
   "cell_type": "code",
   "execution_count": null,
   "metadata": {
    "collapsed": true,
    "deletable": true,
    "editable": true
   },
   "outputs": [],
   "source": [
    "init = tf.global_variables_initializer()"
   ]
  },
  {
   "cell_type": "code",
   "execution_count": null,
   "metadata": {
    "collapsed": false,
    "deletable": true,
    "editable": true
   },
   "outputs": [],
   "source": [
    "with tf.Session() as session:\n",
    "    session.run(init)\n",
    "    for i in range(12):\n",
    "        session.run(train_op)\n",
    "        print(\"i = %d, cost %.3f, u = %.3f\" % (i, cost.eval(), u.eval()))"
   ]
  },
  {
   "cell_type": "markdown",
   "metadata": {
    "deletable": true,
    "editable": true
   },
   "source": [
    "# Building a neural net in tensorflow"
   ]
  },
  {
   "cell_type": "code",
   "execution_count": null,
   "metadata": {
    "collapsed": true,
    "deletable": true,
    "editable": true
   },
   "outputs": [],
   "source": [
    "import numpy as np\n",
    "import tensorflow as tf\n",
    "\n",
    "import matplotlib.pyplot as plt\n",
    "%matplotlib inline\n",
    "\n",
    "from util import get_normalized_data, y2indicator"
   ]
  },
  {
   "cell_type": "code",
   "execution_count": null,
   "metadata": {
    "collapsed": false,
    "deletable": true,
    "editable": true
   },
   "outputs": [],
   "source": [
    "def error_rate(p, t):\n",
    "    return np.mean(p != t)"
   ]
  },
  {
   "cell_type": "code",
   "execution_count": null,
   "metadata": {
    "collapsed": false,
    "deletable": true,
    "editable": true
   },
   "outputs": [],
   "source": [
    "X, Y = get_normalized_data()\n",
    "\n",
    "max_iter = 15\n",
    "print_period = 10\n",
    "\n",
    "lr = 0.00004\n",
    "reg = 0.01\n",
    "\n",
    "Xtrain = X[:-1000,]\n",
    "Ytrain = Y[:-1000]\n",
    "Xtest  = X[-1000:,]\n",
    "Ytest  = Y[-1000:]\n",
    "Ytrain_ind = y2indicator(Ytrain)\n",
    "Ytest_ind = y2indicator(Ytest)\n",
    "\n",
    "\n",
    "N, D = Xtrain.shape\n",
    "batch_sz = 500\n",
    "n_batches = N // batch_sz\n",
    "\n",
    "# add an extra layer just for fun\n",
    "M1 = 300\n",
    "M2 = 25\n",
    "K = 10\n",
    "W1_init = np.random.randn(D, M1) / 28\n",
    "b1_init = np.zeros(M1)\n",
    "W2_init = np.random.randn(M1, M2) / np.sqrt(M1)\n",
    "b2_init = np.zeros(M2)\n",
    "W3_init = np.random.randn(M2, K) / np.sqrt(M2)\n",
    "b3_init = np.zeros(K)\n",
    "\n",
    "X = tf.placeholder(tf.float32, shape=(None, D), name='X')\n",
    "T = tf.placeholder(tf.float32, shape=(None, K), name='T')\n",
    "\n",
    "W1 = tf.Variable(W1_init.astype(np.float32))\n",
    "b1 = tf.Variable(b1_init.astype(np.float32))\n",
    "W2 = tf.Variable(W2_init.astype(np.float32))\n",
    "b2 = tf.Variable(b2_init.astype(np.float32))\n",
    "W3 = tf.Variable(W3_init.astype(np.float32))\n",
    "b3 = tf.Variable(b3_init.astype(np.float32))"
   ]
  },
  {
   "cell_type": "code",
   "execution_count": null,
   "metadata": {
    "collapsed": false,
    "deletable": true,
    "editable": true
   },
   "outputs": [],
   "source": [
    "Z1 = tf.nn.relu( tf.matmul(X, W1) + b1 )\n",
    "Z2 = tf.nn.relu( tf.matmul(Z1, W2) + b2 )\n",
    "Yish = tf.matmul(Z2, W3) + b3 # still needs to have softmax taken\n",
    "\n",
    "cost = tf.reduce_sum(tf.nn.softmax_cross_entropy_with_logits(Yish, T))\n",
    "\n",
    "train_op = tf.train.RMSPropOptimizer(lr, decay=0.99, momentum=0.9).minimize(cost)\n",
    "\n",
    "predict_op = tf.argmax(Yish, 1)\n",
    "\n",
    "LL = []\n",
    "init = tf.global_variables_initializer()"
   ]
  },
  {
   "cell_type": "code",
   "execution_count": null,
   "metadata": {
    "collapsed": false,
    "deletable": true,
    "editable": true
   },
   "outputs": [],
   "source": [
    "max_iter = 1\n",
    "\n",
    "with tf.Session() as session:\n",
    "    session.run(init)\n",
    "    \n",
    "    for i in range(max_iter):\n",
    "        for j in range(n_batches):\n",
    "            Xbatch = Xtrain[j*batch_sz:(j*batch_sz + batch_sz),]\n",
    "            Ybatch = Ytrain_ind[j*batch_sz:(j*batch_sz + batch_sz),]\n",
    "            \n",
    "            session.run(train_op, feed_dict={X: Xbatch, T: Ybatch})\n",
    "            if j == 0:\n",
    "                test_cost = session.run(cost, feed_dict={X: Xtest, T: Ytest_ind})\n",
    "                prediction = session.run(predict_op, feed_dict={X: Xtest})\n",
    "                err = error_rate(prediction, Ytest)\n",
    "                print(\"Cost / err at iteration i%d, j=%d: %.3f / %.3f\" % (i, j, test_cost, err))\n",
    "                LL.append(test_cost)"
   ]
  },
  {
   "cell_type": "code",
   "execution_count": null,
   "metadata": {
    "collapsed": false,
    "deletable": true,
    "editable": true
   },
   "outputs": [],
   "source": [
    "plt.plot(LL)\n",
    "plt.show()"
   ]
  },
  {
   "cell_type": "markdown",
   "metadata": {
    "deletable": true,
    "editable": true
   },
   "source": [
    "## Again"
   ]
  },
  {
   "cell_type": "code",
   "execution_count": null,
   "metadata": {
    "collapsed": false,
    "deletable": true,
    "editable": true
   },
   "outputs": [],
   "source": [
    "X, Y = get_normalized_data()\n",
    "\n",
    "max_iter = 15\n",
    "print_period = 10\n",
    "\n",
    "lr = 0.00004\n",
    "reg = 0.01\n",
    "\n",
    "Xtrain = X[:-1000,]\n",
    "Ytrain = Y[:-1000]\n",
    "Xtest  = X[-1000:,]\n",
    "Ytest  = Y[-1000:]\n",
    "Ytrain_ind = y2indicator(Ytrain)\n",
    "Ytest_ind = y2indicator(Ytest)\n",
    "\n",
    "N, D = Xtrain.shape\n",
    "batch_sz = 500\n",
    "n_batches = N // batch_sz\n",
    "\n",
    "# add an extra layer just for fun\n",
    "M1 = 300\n",
    "M2 = 100\n",
    "K = 10\n",
    "W1_init = np.random.randn(D, M1) / 28\n",
    "b1_init = np.zeros(M1)\n",
    "W2_init = np.random.randn(M1, M2) / np.sqrt(M1)\n",
    "b2_init = np.zeros(M2)\n",
    "W3_init = np.random.randn(M2, K) / np.sqrt(M2)\n",
    "b3_init = np.zeros(K)\n",
    "\n",
    "# Make those juicy tensorflow variables\n",
    "X = tf.placeholder(tf.float32, shape=(None, D), name='X')\n",
    "T = tf.placeholder(tf.float32, shape=(None, K), name='T')\n",
    "W1 = tf.Variable(W1_init.astype(np.float32))\n",
    "b1 = tf.Variable(b1_init.astype(np.float32))\n",
    "W2 = tf.Variable(W2_init.astype(np.float32))\n",
    "b2 = tf.Variable(b2_init.astype(np.float32))\n",
    "W3 = tf.Variable(W3_init.astype(np.float32))\n",
    "b3 = tf.Variable(b3_init.astype(np.float32))"
   ]
  },
  {
   "cell_type": "code",
   "execution_count": null,
   "metadata": {
    "collapsed": true,
    "deletable": true,
    "editable": true
   },
   "outputs": [],
   "source": [
    "Z1 = tf.nn.relu( tf.matmul(X, W1) + b1 )\n",
    "Z2 = tf.nn.relu( tf.matmul(Z1, W2) + b2 )\n",
    "Yish = tf.matmul(Z2, W3) + b3\n",
    "\n",
    "cost = tf.reduce_sum(tf.nn.softmax_cross_entropy_with_logits(Yish, T))\n",
    "\n",
    "train_op = tf.train.RMSPropOptimizer(lr, decay=0.99, momentum=0.9).minimize(cost)\n",
    "\n",
    "predict_op = tf.argmax(Yish, 1)\n",
    "\n",
    "LL = []\n",
    "init = tf.global_variables_initializer()"
   ]
  },
  {
   "cell_type": "code",
   "execution_count": null,
   "metadata": {
    "collapsed": false,
    "deletable": true,
    "editable": true,
    "scrolled": true
   },
   "outputs": [],
   "source": [
    "with tf.Session() as session:\n",
    "    session.run(init)\n",
    "    \n",
    "    for i in range(max_iter):\n",
    "        for j in range(n_batches):\n",
    "            Xbatch = Xtrain[j*batch_sz:(j*batch_sz + batch_sz),]\n",
    "            Ybatch = Ytrain_ind[j*batch_sz:(j*batch_sz + batch_sz),]\n",
    "            \n",
    "            session.run(train_op, feed_dict={X: Xbatch, T: Ybatch})\n",
    "            if j % print_period == 0:\n",
    "                test_cost = session.run(cost, feed_dict={X: Xtest, T: Ytest_ind})\n",
    "                prediction = session.run(predict_op, feed_dict={X: Xtest})\n",
    "                err = error_rate(prediction, Ytest)\n",
    "                print(\"Cost / err at iteration i=%d, j=%d: %.3f / %.3f\" % (i, j, test_cost, err))\n",
    "                LL.append(test_cost)"
   ]
  },
  {
   "cell_type": "code",
   "execution_count": null,
   "metadata": {
    "collapsed": false,
    "deletable": true,
    "editable": true
   },
   "outputs": [],
   "source": [
    "plt.plot(LL)\n",
    "plt.show()"
   ]
  },
  {
   "cell_type": "code",
   "execution_count": null,
   "metadata": {
    "collapsed": true,
    "deletable": true,
    "editable": true
   },
   "outputs": [],
   "source": []
  },
  {
   "cell_type": "code",
   "execution_count": 1,
   "metadata": {
    "collapsed": true,
    "deletable": true,
    "editable": true
   },
   "outputs": [],
   "source": [
    "import numpy as np\n",
    "import tensorflow as tf"
   ]
  },
  {
   "cell_type": "code",
   "execution_count": 2,
   "metadata": {
    "collapsed": true,
    "deletable": true,
    "editable": true
   },
   "outputs": [],
   "source": [
    "A = tf.placeholder(tf.float32, shape=(5,5), name='A')\n",
    "v = tf.placeholder(tf.float32)"
   ]
  },
  {
   "cell_type": "code",
   "execution_count": 3,
   "metadata": {
    "collapsed": true,
    "deletable": true,
    "editable": true
   },
   "outputs": [],
   "source": [
    "w = tf.matmul(A, v)"
   ]
  },
  {
   "cell_type": "code",
   "execution_count": 7,
   "metadata": {
    "collapsed": false,
    "deletable": true,
    "editable": true
   },
   "outputs": [
    {
     "name": "stdout",
     "output_type": "stream",
     "text": [
      "[[-1.96586955]\n",
      " [-1.9308424 ]\n",
      " [ 0.87464499]\n",
      " [-0.52165335]\n",
      " [ 3.16263342]] <class 'numpy.ndarray'>\n"
     ]
    }
   ],
   "source": [
    "with tf.Session() as session:\n",
    "    output = session.run(w, feed_dict={A: np.random.randn(5,5), v: np.random.randn(5,1)})\n",
    "    print(output, type(output))"
   ]
  },
  {
   "cell_type": "code",
   "execution_count": 8,
   "metadata": {
    "collapsed": true,
    "deletable": true,
    "editable": true
   },
   "outputs": [],
   "source": [
    "shape=(2,2)\n",
    "x = tf.Variable(tf.random_normal(shape))\n",
    "t = tf.Variable(0)"
   ]
  },
  {
   "cell_type": "code",
   "execution_count": 21,
   "metadata": {
    "collapsed": true,
    "deletable": true,
    "editable": true
   },
   "outputs": [],
   "source": [
    "init = tf.global_variables_initializer()"
   ]
  },
  {
   "cell_type": "code",
   "execution_count": 10,
   "metadata": {
    "collapsed": false,
    "deletable": true,
    "editable": true
   },
   "outputs": [
    {
     "name": "stdout",
     "output_type": "stream",
     "text": [
      "[[-0.12997872  0.71027607]\n",
      " [-0.59503478 -1.4634949 ]]\n",
      "0\n"
     ]
    }
   ],
   "source": [
    "with tf.Session() as session:\n",
    "    out = session.run(init)\n",
    "    print(x.eval())\n",
    "    print(t.eval())"
   ]
  },
  {
   "cell_type": "code",
   "execution_count": 33,
   "metadata": {
    "collapsed": true,
    "deletable": true,
    "editable": true
   },
   "outputs": [],
   "source": [
    "u = tf.Variable(20.0)\n",
    "cost = u*u + u + 1\n",
    "train_op = tf.train.GradientDescentOptimizer(0.3).minimize(cost)"
   ]
  },
  {
   "cell_type": "code",
   "execution_count": 34,
   "metadata": {
    "collapsed": false,
    "deletable": true,
    "editable": true
   },
   "outputs": [],
   "source": [
    "init = tf.global_variables_initializer()"
   ]
  },
  {
   "cell_type": "code",
   "execution_count": 35,
   "metadata": {
    "collapsed": false,
    "deletable": true,
    "editable": true,
    "scrolled": false
   },
   "outputs": [
    {
     "name": "stdout",
     "output_type": "stream",
     "text": [
      " i = 0, cost 67.990, u = 7.700\n",
      " i = 1, cost 11.508, u = 2.780\n",
      " i = 2, cost 2.471, u = 0.812\n",
      " i = 3, cost 1.025, u = 0.025\n",
      " i = 4, cost 0.794, u = -0.290\n",
      " i = 5, cost 0.757, u = -0.416\n",
      " i = 6, cost 0.751, u = -0.466\n",
      " i = 7, cost 0.750, u = -0.487\n",
      " i = 8, cost 0.750, u = -0.495\n",
      " i = 9, cost 0.750, u = -0.498\n",
      " i = 10, cost 0.750, u = -0.499\n",
      " i = 11, cost 0.750, u = -0.500\n"
     ]
    }
   ],
   "source": [
    "with tf.Session() as session:\n",
    "    session.run(init)\n",
    "    for i in range(12):\n",
    "        session.run(train_op)\n",
    "        print(\" i = %d, cost %.3f, u = %.3f\" % (i, cost.eval(), u.eval()))"
   ]
  },
  {
   "cell_type": "markdown",
   "metadata": {
    "deletable": true,
    "editable": true
   },
   "source": [
    "# Building a neural net in tensorflow"
   ]
  },
  {
   "cell_type": "code",
   "execution_count": 37,
   "metadata": {
    "collapsed": false,
    "deletable": true,
    "editable": true
   },
   "outputs": [],
   "source": [
    "import numpy as np\n",
    "import tensorflow as tf\n",
    "\n",
    "import matplotlib.pyplot as plt\n",
    "%matplotlib inline\n",
    "\n",
    "from util import get_normalized_data, y2indicator\n",
    "\n",
    "def error_rate(p, t):\n",
    "    return np.mean(p != t)"
   ]
  },
  {
   "cell_type": "code",
   "execution_count": 55,
   "metadata": {
    "collapsed": false,
    "deletable": true,
    "editable": true
   },
   "outputs": [
    {
     "name": "stdout",
     "output_type": "stream",
     "text": [
      "Reading in and transforming data...\n"
     ]
    }
   ],
   "source": [
    "X, Y = get_normalized_data()"
   ]
  },
  {
   "cell_type": "code",
   "execution_count": 56,
   "metadata": {
    "collapsed": false,
    "deletable": true,
    "editable": true
   },
   "outputs": [
    {
     "name": "stderr",
     "output_type": "stream",
     "text": [
      "/Users/admin/Code/udemy_courses/udemy_lazyprogrammer_courses/4_practical_deep_learning_tensorflow/util.py:104: VisibleDeprecationWarning: using a non-integer number instead of an integer will result in an error in the future\n",
      "  ind[i, y[i]] = 1\n"
     ]
    }
   ],
   "source": [
    "max_iter = 15\n",
    "print_period = 10\n",
    "\n",
    "lr = 0.00004\n",
    "reg = 0.01\n",
    "\n",
    "Xtrain = X[:-1000,]\n",
    "Ytrain = Y[:-1000]\n",
    "Xtest  = X[-1000:,]\n",
    "Ytest  = Y[-1000:]\n",
    "Ytrain_ind = y2indicator(Ytrain)\n",
    "Ytest_ind = y2indicator(Ytest)\n",
    "\n",
    "N, D = Xtrain.shape\n",
    "batch_sz = 500\n",
    "n_batches = N // batch_sz\n",
    "\n",
    "# Add an extra layer just for fun\n",
    "M1 = 300\n",
    "M2 = 100\n",
    "K = 10\n",
    "W1_init = np.random.randn(D, M1) / 28\n",
    "b1_init = np.zeros(M1)\n",
    "W2_init = np.random.randn(M1, M2) / np.sqrt(M1)\n",
    "b2_init = np.zeros(M2)\n",
    "W3_init = np.random.randn(M2, K) / np.sqrt(M2)\n",
    "b3_init = np.zeros(K)"
   ]
  },
  {
   "cell_type": "code",
   "execution_count": 57,
   "metadata": {
    "collapsed": true,
    "deletable": true,
    "editable": true
   },
   "outputs": [],
   "source": [
    "X = tf.placeholder(tf.float32, shape=(None, D), name='X')\n",
    "T = tf.placeholder(tf.float32, shape=(None, K), name='T')\n",
    "W1 = tf.Variable(W1_init.astype(np.float32))\n",
    "b1 = tf.Variable(b1_init.astype(np.float32))\n",
    "W2 = tf.Variable(W2_init.astype(np.float32))\n",
    "b2 = tf.Variable(b2_init.astype(np.float32))\n",
    "W3 = tf.Variable(W3_init.astype(np.float32))\n",
    "b3 = tf.Variable(b3_init.astype(np.float32))"
   ]
  },
  {
   "cell_type": "code",
   "execution_count": 58,
   "metadata": {
    "collapsed": true,
    "deletable": true,
    "editable": true
   },
   "outputs": [],
   "source": [
    "Z1 = tf.nn.relu( tf.matmul(X, W1) + b1 )\n",
    "Z2 = tf.nn.relu( tf.matmul(Z1, W2) + b2 )\n",
    "Yish = tf.matmul(Z2, W3) + b3\n",
    "\n",
    "cost = tf.reduce_sum(tf.nn.softmax_cross_entropy_with_logits(Yish, T))\n",
    "\n",
    "train_op = tf.train.RMSPropOptimizer(lr, decay=0.99, momentum=0.9).minimize(cost)\n",
    "\n",
    "predict_op = tf.argmax(Yish, 1)\n",
    "\n",
    "LL = []\n",
    "init = tf.global_variables_initializer()"
   ]
  },
  {
   "cell_type": "code",
   "execution_count": 59,
   "metadata": {
    "collapsed": false,
    "deletable": true,
    "editable": true,
    "scrolled": false
   },
   "outputs": [
    {
     "name": "stdout",
     "output_type": "stream",
     "text": [
      "Cost / err at iteration i=0, j0, 2350.984 / 0.930\n",
      "Cost / err at iteration i=0, j10, 1578.829 / 0.319\n",
      "Cost / err at iteration i=0, j20, 845.762 / 0.202\n",
      "Cost / err at iteration i=0, j30, 547.833 / 0.149\n",
      "Cost / err at iteration i=0, j40, 434.047 / 0.125\n",
      "Cost / err at iteration i=0, j50, 368.335 / 0.110\n",
      "Cost / err at iteration i=0, j60, 330.299 / 0.105\n",
      "Cost / err at iteration i=0, j70, 308.084 / 0.096\n",
      "Cost / err at iteration i=0, j80, 288.193 / 0.086\n",
      "Cost / err at iteration i=1, j0, 284.133 / 0.083\n",
      "Cost / err at iteration i=1, j10, 265.247 / 0.075\n",
      "Cost / err at iteration i=1, j20, 251.452 / 0.075\n",
      "Cost / err at iteration i=1, j30, 241.923 / 0.070\n",
      "Cost / err at iteration i=1, j40, 229.555 / 0.067\n",
      "Cost / err at iteration i=1, j50, 222.185 / 0.065\n",
      "Cost / err at iteration i=1, j60, 213.809 / 0.067\n",
      "Cost / err at iteration i=1, j70, 206.601 / 0.061\n",
      "Cost / err at iteration i=1, j80, 201.565 / 0.056\n",
      "Cost / err at iteration i=2, j0, 199.622 / 0.055\n",
      "Cost / err at iteration i=2, j10, 190.093 / 0.050\n",
      "Cost / err at iteration i=2, j20, 186.840 / 0.054\n",
      "Cost / err at iteration i=2, j30, 182.784 / 0.052\n",
      "Cost / err at iteration i=2, j40, 176.204 / 0.050\n",
      "Cost / err at iteration i=2, j50, 173.320 / 0.047\n",
      "Cost / err at iteration i=2, j60, 167.719 / 0.045\n",
      "Cost / err at iteration i=2, j70, 163.156 / 0.046\n",
      "Cost / err at iteration i=2, j80, 160.641 / 0.049\n",
      "Cost / err at iteration i=3, j0, 159.361 / 0.047\n",
      "Cost / err at iteration i=3, j10, 153.988 / 0.047\n",
      "Cost / err at iteration i=3, j20, 154.218 / 0.045\n",
      "Cost / err at iteration i=3, j30, 152.413 / 0.043\n",
      "Cost / err at iteration i=3, j40, 146.218 / 0.041\n",
      "Cost / err at iteration i=3, j50, 145.161 / 0.042\n",
      "Cost / err at iteration i=3, j60, 142.223 / 0.038\n",
      "Cost / err at iteration i=3, j70, 139.419 / 0.040\n",
      "Cost / err at iteration i=3, j80, 138.726 / 0.040\n",
      "Cost / err at iteration i=4, j0, 137.584 / 0.044\n",
      "Cost / err at iteration i=4, j10, 133.324 / 0.041\n",
      "Cost / err at iteration i=4, j20, 135.530 / 0.038\n",
      "Cost / err at iteration i=4, j30, 135.051 / 0.041\n",
      "Cost / err at iteration i=4, j40, 130.249 / 0.036\n",
      "Cost / err at iteration i=4, j50, 128.738 / 0.037\n",
      "Cost / err at iteration i=4, j60, 128.021 / 0.033\n",
      "Cost / err at iteration i=4, j70, 125.183 / 0.040\n",
      "Cost / err at iteration i=4, j80, 125.012 / 0.039\n",
      "Cost / err at iteration i=5, j0, 123.818 / 0.037\n",
      "Cost / err at iteration i=5, j10, 119.446 / 0.034\n",
      "Cost / err at iteration i=5, j20, 122.932 / 0.035\n",
      "Cost / err at iteration i=5, j30, 123.422 / 0.033\n",
      "Cost / err at iteration i=5, j40, 119.541 / 0.035\n",
      "Cost / err at iteration i=5, j50, 117.879 / 0.034\n",
      "Cost / err at iteration i=5, j60, 117.990 / 0.033\n",
      "Cost / err at iteration i=5, j70, 115.153 / 0.036\n",
      "Cost / err at iteration i=5, j80, 116.365 / 0.038\n",
      "Cost / err at iteration i=6, j0, 115.487 / 0.036\n",
      "Cost / err at iteration i=6, j10, 110.594 / 0.032\n",
      "Cost / err at iteration i=6, j20, 115.283 / 0.034\n",
      "Cost / err at iteration i=6, j30, 116.516 / 0.036\n",
      "Cost / err at iteration i=6, j40, 112.649 / 0.036\n",
      "Cost / err at iteration i=6, j50, 111.539 / 0.033\n",
      "Cost / err at iteration i=6, j60, 112.211 / 0.031\n",
      "Cost / err at iteration i=6, j70, 109.362 / 0.034\n",
      "Cost / err at iteration i=6, j80, 111.490 / 0.036\n",
      "Cost / err at iteration i=7, j0, 111.065 / 0.035\n",
      "Cost / err at iteration i=7, j10, 105.085 / 0.030\n",
      "Cost / err at iteration i=7, j20, 110.315 / 0.035\n",
      "Cost / err at iteration i=7, j30, 110.943 / 0.032\n",
      "Cost / err at iteration i=7, j40, 108.224 / 0.033\n",
      "Cost / err at iteration i=7, j50, 106.647 / 0.034\n",
      "Cost / err at iteration i=7, j60, 107.773 / 0.030\n",
      "Cost / err at iteration i=7, j70, 105.642 / 0.032\n",
      "Cost / err at iteration i=7, j80, 107.040 / 0.032\n",
      "Cost / err at iteration i=8, j0, 107.347 / 0.031\n",
      "Cost / err at iteration i=8, j10, 101.654 / 0.032\n",
      "Cost / err at iteration i=8, j20, 110.162 / 0.032\n",
      "Cost / err at iteration i=8, j30, 108.313 / 0.032\n",
      "Cost / err at iteration i=8, j40, 106.838 / 0.033\n",
      "Cost / err at iteration i=8, j50, 105.336 / 0.035\n",
      "Cost / err at iteration i=8, j60, 107.125 / 0.031\n",
      "Cost / err at iteration i=8, j70, 104.443 / 0.030\n",
      "Cost / err at iteration i=8, j80, 106.228 / 0.032\n",
      "Cost / err at iteration i=9, j0, 106.825 / 0.033\n",
      "Cost / err at iteration i=9, j10, 101.462 / 0.031\n",
      "Cost / err at iteration i=9, j20, 107.565 / 0.030\n",
      "Cost / err at iteration i=9, j30, 108.415 / 0.031\n",
      "Cost / err at iteration i=9, j40, 106.965 / 0.033\n",
      "Cost / err at iteration i=9, j50, 105.473 / 0.034\n",
      "Cost / err at iteration i=9, j60, 107.210 / 0.031\n",
      "Cost / err at iteration i=9, j70, 104.664 / 0.030\n",
      "Cost / err at iteration i=9, j80, 106.217 / 0.031\n",
      "Cost / err at iteration i=10, j0, 107.325 / 0.030\n",
      "Cost / err at iteration i=10, j10, 101.487 / 0.032\n",
      "Cost / err at iteration i=10, j20, 107.602 / 0.030\n",
      "Cost / err at iteration i=10, j30, 110.122 / 0.031\n",
      "Cost / err at iteration i=10, j40, 107.561 / 0.030\n",
      "Cost / err at iteration i=10, j50, 106.220 / 0.032\n",
      "Cost / err at iteration i=10, j60, 109.349 / 0.029\n",
      "Cost / err at iteration i=10, j70, 105.462 / 0.031\n",
      "Cost / err at iteration i=10, j80, 108.002 / 0.032\n",
      "Cost / err at iteration i=11, j0, 109.652 / 0.030\n",
      "Cost / err at iteration i=11, j10, 104.064 / 0.033\n",
      "Cost / err at iteration i=11, j20, 108.947 / 0.029\n",
      "Cost / err at iteration i=11, j30, 112.354 / 0.032\n",
      "Cost / err at iteration i=11, j40, 109.641 / 0.030\n",
      "Cost / err at iteration i=11, j50, 108.447 / 0.030\n",
      "Cost / err at iteration i=11, j60, 112.673 / 0.029\n",
      "Cost / err at iteration i=11, j70, 108.327 / 0.030\n",
      "Cost / err at iteration i=11, j80, 110.570 / 0.033\n",
      "Cost / err at iteration i=12, j0, 112.642 / 0.031\n",
      "Cost / err at iteration i=12, j10, 107.259 / 0.032\n",
      "Cost / err at iteration i=12, j20, 111.474 / 0.029\n",
      "Cost / err at iteration i=12, j30, 115.120 / 0.031\n",
      "Cost / err at iteration i=12, j40, 111.907 / 0.030\n",
      "Cost / err at iteration i=12, j50, 110.904 / 0.031\n",
      "Cost / err at iteration i=12, j60, 115.707 / 0.029\n",
      "Cost / err at iteration i=12, j70, 111.673 / 0.031\n",
      "Cost / err at iteration i=12, j80, 113.191 / 0.033\n",
      "Cost / err at iteration i=13, j0, 115.554 / 0.031\n",
      "Cost / err at iteration i=13, j10, 110.198 / 0.030\n",
      "Cost / err at iteration i=13, j20, 113.774 / 0.031\n",
      "Cost / err at iteration i=13, j30, 117.534 / 0.031\n",
      "Cost / err at iteration i=13, j40, 115.051 / 0.028\n",
      "Cost / err at iteration i=13, j50, 113.884 / 0.031\n",
      "Cost / err at iteration i=13, j60, 118.539 / 0.029\n",
      "Cost / err at iteration i=13, j70, 116.283 / 0.031\n",
      "Cost / err at iteration i=13, j80, 116.622 / 0.031\n",
      "Cost / err at iteration i=14, j0, 119.828 / 0.031\n",
      "Cost / err at iteration i=14, j10, 113.696 / 0.028\n",
      "Cost / err at iteration i=14, j20, 117.137 / 0.030\n",
      "Cost / err at iteration i=14, j30, 120.582 / 0.030\n",
      "Cost / err at iteration i=14, j40, 119.165 / 0.028\n",
      "Cost / err at iteration i=14, j50, 119.682 / 0.033\n",
      "Cost / err at iteration i=14, j60, 122.115 / 0.030\n",
      "Cost / err at iteration i=14, j70, 121.954 / 0.031\n",
      "Cost / err at iteration i=14, j80, 121.328 / 0.031\n"
     ]
    }
   ],
   "source": [
    "with tf.Session() as session:\n",
    "    session.run(init)\n",
    "    \n",
    "    for i in range(max_iter):\n",
    "        for j in range(n_batches):\n",
    "            Xbatch = Xtrain[j*batch_sz:(j*batch_sz + batch_sz),]\n",
    "            Ybatch = Ytrain_ind[j*batch_sz:(j*batch_sz + batch_sz),]\n",
    "            \n",
    "            session.run(train_op, feed_dict={X: Xbatch, T: Ybatch})\n",
    "            if j % print_period == 0:\n",
    "                test_cost = session.run(cost, feed_dict={X: Xtest, T: Ytest_ind})\n",
    "                prediction = session.run(predict_op, feed_dict={X: Xtest})\n",
    "                err = error_rate(prediction, Ytest)\n",
    "                print(\"Cost / err at iteration i=%d, j%d, %.3f / %.3f\" % (i, j, test_cost, err))\n",
    "                LL.append(test_cost)"
   ]
  },
  {
   "cell_type": "code",
   "execution_count": 63,
   "metadata": {
    "collapsed": false,
    "deletable": true,
    "editable": true
   },
   "outputs": [
    {
     "data": {
      "text/plain": [
       "[<matplotlib.lines.Line2D at 0x12cc6e9e8>]"
      ]
     },
     "execution_count": 63,
     "metadata": {},
     "output_type": "execute_result"
    },
    {
     "data": {
      "image/png": "[encoded data removed]",
      "text/plain": [
       "<matplotlib.figure.Figure at 0x12cc49c88>"
      ]
     },
     "metadata": {},
     "output_type": "display_data"
    }
   ],
   "source": [
    "plt.plot(LL)"
   ]
  },
  {
   "cell_type": "code",
   "execution_count": null,
   "metadata": {
    "collapsed": true,
    "deletable": true,
    "editable": true
   },
   "outputs": [],
   "source": []
  },
  {
   "cell_type": "markdown",
   "metadata": {
    "deletable": true,
    "editable": true
   },
   "source": [
    "# Repeat"
   ]
  },
  {
   "cell_type": "code",
   "execution_count": 2,
   "metadata": {
    "collapsed": false,
    "deletable": true,
    "editable": true
   },
   "outputs": [],
   "source": [
    "import numpy as np\n",
    "import tensorflow as tf"
   ]
  },
  {
   "cell_type": "code",
   "execution_count": 3,
   "metadata": {
    "collapsed": true,
    "deletable": true,
    "editable": true
   },
   "outputs": [],
   "source": [
    "A = tf.placeholder(tf.float32, shape=(5,5), name='A')\n",
    "v = tf.placeholder(tf.float32)"
   ]
  },
  {
   "cell_type": "code",
   "execution_count": 4,
   "metadata": {
    "collapsed": true,
    "deletable": true,
    "editable": true
   },
   "outputs": [],
   "source": [
    "w = tf.matmul(A, v)"
   ]
  },
  {
   "cell_type": "code",
   "execution_count": null,
   "metadata": {
    "collapsed": true,
    "deletable": true,
    "editable": true
   },
   "outputs": [],
   "source": [
    "with tf.Session() as session:\n",
    "    ooutput"
   ]
  },
  {
   "cell_type": "code",
   "execution_count": null,
   "metadata": {
    "collapsed": true,
    "deletable": true,
    "editable": true
   },
   "outputs": [],
   "source": []
  },
  {
   "cell_type": "code",
   "execution_count": null,
   "metadata": {
    "collapsed": true,
    "deletable": true,
    "editable": true
   },
   "outputs": [],
   "source": []
  },
  {
   "cell_type": "code",
   "execution_count": null,
   "metadata": {
    "collapsed": true,
    "deletable": true,
    "editable": true
   },
   "outputs": [],
   "source": []
  },
  {
   "cell_type": "code",
   "execution_count": null,
   "metadata": {
    "collapsed": true,
    "deletable": true,
    "editable": true
   },
   "outputs": [],
   "source": []
  },
  {
   "cell_type": "code",
   "execution_count": null,
   "metadata": {
    "collapsed": true,
    "deletable": true,
    "editable": true
   },
   "outputs": [],
   "source": []
  },
  {
   "cell_type": "code",
   "execution_count": null,
   "metadata": {
    "collapsed": true,
    "deletable": true,
    "editable": true
   },
   "outputs": [],
   "source": []
  },
  {
   "cell_type": "code",
   "execution_count": null,
   "metadata": {
    "collapsed": true,
    "deletable": true,
    "editable": true
   },
   "outputs": [],
   "source": []
  },
  {
   "cell_type": "code",
   "execution_count": null,
   "metadata": {
    "collapsed": true,
    "deletable": true,
    "editable": true
   },
   "outputs": [],
   "source": []
  },
  {
   "cell_type": "code",
   "execution_count": null,
   "metadata": {
    "collapsed": true,
    "deletable": true,
    "editable": true
   },
   "outputs": [],
   "source": []
  },
  {
   "cell_type": "code",
   "execution_count": null,
   "metadata": {
    "collapsed": true,
    "deletable": true,
    "editable": true
   },
   "outputs": [],
   "source": []
  },
  {
   "cell_type": "code",
   "execution_count": null,
   "metadata": {
    "collapsed": true,
    "deletable": true,
    "editable": true
   },
   "outputs": [],
   "source": []
  },
  {
   "cell_type": "code",
   "execution_count": null,
   "metadata": {
    "collapsed": true,
    "deletable": true,
    "editable": true
   },
   "outputs": [],
   "source": []
  },
  {
   "cell_type": "code",
   "execution_count": null,
   "metadata": {
    "collapsed": true,
    "deletable": true,
    "editable": true
   },
   "outputs": [],
   "source": []
  },
  {
   "cell_type": "code",
   "execution_count": null,
   "metadata": {
    "collapsed": true,
    "deletable": true,
    "editable": true
   },
   "outputs": [],
   "source": []
  },
  {
   "cell_type": "code",
   "execution_count": null,
   "metadata": {
    "collapsed": true,
    "deletable": true,
    "editable": true
   },
   "outputs": [],
   "source": []
  }
 ],
 "metadata": {
  "anaconda-cloud": {},
  "kernelspec": {
   "display_name": "Python 3",
   "language": "python",
   "name": "python3"
  },
  "language_info": {
   "codemirror_mode": {
    "name": "ipython",
    "version": 3
   },
   "file_extension": ".py",
   "mimetype": "text/x-python",
   "name": "python",
   "nbconvert_exporter": "python",
   "pygments_lexer": "ipython3",
   "version": "3.6.0"
  }
 },
 "nbformat": 4,
 "nbformat_minor": 0
}
