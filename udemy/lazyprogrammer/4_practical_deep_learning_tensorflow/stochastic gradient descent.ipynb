{
 "cells": [
  {
   "cell_type": "code",
   "execution_count": 1,
   "metadata": {
    "collapsed": true
   },
   "outputs": [],
   "source": [
    "# https://www.kaggle.com/c/digit-recognizer"
   ]
  },
  {
   "cell_type": "code",
   "execution_count": 2,
   "metadata": {
    "collapsed": false
   },
   "outputs": [],
   "source": [
    "import numpy as np\n",
    "import pandas as pd\n",
    "import matplotlib.pyplot as plt\n",
    "from sklearn.utils import shuffle\n",
    "from datetime import datetime\n",
    "from sklearn.decomposition import PCA\n",
    "%matplotlib inline\n",
    "\n",
    "from util import get_transformed_data, forward, error_rate, cost, gradW, gradb, y2indicator"
   ]
  },
  {
   "cell_type": "code",
   "execution_count": 3,
   "metadata": {
    "collapsed": true
   },
   "outputs": [],
   "source": [
    "# from util.py\n",
    "def get_transformed_data():\n",
    "    print(\"Reading in and transforming data...\")\n",
    "    df = pd.read_csv('./data/train.csv')\n",
    "    data = df.as_matrix().astype(np.float32)\n",
    "    np.random.shuffle(data)\n",
    "\n",
    "    X = data[:, 1:]\n",
    "    mu = X.mean(axis=0)\n",
    "    X = X - mu # center the data\n",
    "    pca = PCA()\n",
    "    Z = pca.fit_transform(X)\n",
    "    Y = data[:, 0]\n",
    "\n",
    "    plot_cumulative_variance(pca)\n",
    "\n",
    "    return Z, Y, pca, mu"
   ]
  },
  {
   "cell_type": "code",
   "execution_count": 4,
   "metadata": {
    "collapsed": true
   },
   "outputs": [],
   "source": [
    "def plot_cumulative_variance(pca):\n",
    "    P = []\n",
    "    for p in pca.explained_variance_ratio_:\n",
    "        if len(P) == 0:\n",
    "            P.append(p)\n",
    "        else:\n",
    "            P.append(p + P[-1])\n",
    "    plt.plot(P)\n",
    "    plt.show()\n",
    "    return P"
   ]
  },
  {
   "cell_type": "code",
   "execution_count": 5,
   "metadata": {
    "collapsed": false
   },
   "outputs": [
    {
     "name": "stdout",
     "output_type": "stream",
     "text": [
      "Reading in and transforming data...\n"
     ]
    },
    {
     "data": {
      "image/png": "[encoded data removed]",
      "text/plain": [
       "<matplotlib.figure.Figure at 0x1123104a8>"
      ]
     },
     "metadata": {},
     "output_type": "display_data"
    },
    {
     "name": "stdout",
     "output_type": "stream",
     "text": [
      "Performing logistic regression...\n"
     ]
    },
    {
     "name": "stderr",
     "output_type": "stream",
     "text": [
      "/Users/admin/Code/udemy_courses/udemy_lazyprogrammer_courses/4_practical_deep_learning_tensorflow/util.py:104: VisibleDeprecationWarning: using a non-integer number instead of an integer will result in an error in the future\n",
      "  ind[i, y[i]] = 1\n"
     ]
    }
   ],
   "source": [
    "X, Y, _, _ = get_transformed_data()\n",
    "X = X[:, :300]\n",
    "\n",
    "# normalize X first\n",
    "mu = X.mean(axis=0)\n",
    "std = X.std(axis=0)\n",
    "X = (X - mu) / std\n",
    "\n",
    "print(\"Performing logistic regression...\")\n",
    "Xtrain = X[:-1000,]\n",
    "Ytrain = Y[:-1000]\n",
    "Xtest = X[-1000:,]\n",
    "Ytest = Y[-1000:]\n",
    "\n",
    "N, D = Xtrain.shape\n",
    "Ytrain_ind = y2indicator(Ytrain)\n",
    "Ytest_ind = y2indicator(Ytest)"
   ]
  },
  {
   "cell_type": "code",
   "execution_count": 6,
   "metadata": {
    "collapsed": false
   },
   "outputs": [
    {
     "name": "stdout",
     "output_type": "stream",
     "text": [
      "Cost at iteration 0: 911.714813\n",
      "Error rate: 0.177\n",
      "Cost at iteration 10: 396.506741\n",
      "Error rate: 0.103\n",
      "Cost at iteration 20: 353.567009\n",
      "Error rate: 0.096\n",
      "Cost at iteration 30: 335.932214\n",
      "Error rate: 0.093\n",
      "Cost at iteration 40: 326.163744\n",
      "Error rate: 0.093\n",
      "Cost at iteration 50: 319.927299\n",
      "Error rate: 0.094\n",
      "Cost at iteration 60: 315.597912\n",
      "Error rate: 0.089\n",
      "Cost at iteration 70: 312.421753\n",
      "Error rate: 0.087\n",
      "Cost at iteration 80: 309.998637\n",
      "Error rate: 0.088\n",
      "Cost at iteration 90: 308.095121\n",
      "Error rate: 0.086\n",
      "Cost at iteration 100: 306.565216\n",
      "Error rate: 0.085\n",
      "Cost at iteration 110: 305.312642\n",
      "Error rate: 0.085\n",
      "Cost at iteration 120: 304.271209\n",
      "Error rate: 0.087\n",
      "Cost at iteration 130: 303.393876\n",
      "Error rate: 0.086\n",
      "Cost at iteration 140: 302.646292\n",
      "Error rate: 0.085\n",
      "Cost at iteration 150: 302.002806\n",
      "Error rate: 0.085\n",
      "Cost at iteration 160: 301.443891\n",
      "Error rate: 0.083\n",
      "Cost at iteration 170: 300.954444\n",
      "Error rate: 0.083\n",
      "Cost at iteration 180: 300.522612\n",
      "Error rate: 0.083\n",
      "Cost at iteration 190: 300.138981\n",
      "Error rate: 0.081\n",
      "Final error rate: 0.081\n",
      "Elapsed time for full GD: 0:00:28.523523\n"
     ]
    }
   ],
   "source": [
    "# 1. full\n",
    "W = np.random.randn(D, 10) / 28 # want weights to be small, proportional to the square of dims\n",
    "b = np.zeros(10)\n",
    "LL = []\n",
    "lr = 0.0001\n",
    "reg = 0.01\n",
    "t0 = datetime.now()\n",
    "for i in range(200):\n",
    "    p_y = forward(Xtrain, W, b)\n",
    "    \n",
    "    W += lr*(gradW(Ytrain_ind, p_y, Xtrain) - reg*W)\n",
    "    b += lr*(gradb(Ytrain_ind, p_y) - reg*b)\n",
    "    \n",
    "    p_y_test = forward(Xtest, W, b)\n",
    "    ll = cost(p_y_test, Ytest_ind)\n",
    "    LL.append(ll)\n",
    "    if i % 10 == 0:\n",
    "        err = error_rate(p_y_test, Ytest)\n",
    "        print(\"Cost at iteration %d: %.6f\" % (i, ll))\n",
    "        print(\"Error rate:\", err)\n",
    "\n",
    "p_y = forward(Xtest, W, b)\n",
    "print(\"Final error rate:\", error_rate(p_y, Ytest))\n",
    "print(\"Elapsed time for full GD:\", datetime.now() - t0)"
   ]
  },
  {
   "cell_type": "code",
   "execution_count": 7,
   "metadata": {
    "collapsed": false
   },
   "outputs": [
    {
     "name": "stdout",
     "output_type": "stream",
     "text": [
      "Cost at iteration 0: 2420.555094\n",
      "Error rate: 0.894\n",
      "Final error rate: 0.884\n",
      "Elapsed tmie for SGD: 0:00:00.946752\n"
     ]
    }
   ],
   "source": [
    "# 2. stochastic\n",
    "W = np.random.randn(D, 10) / 28\n",
    "b = np.zeros(10)\n",
    "LL_stochastic = []\n",
    "lr = 0.0001\n",
    "reg = 0.01\n",
    "\n",
    "t0 = datetime.now()\n",
    "for i in range(1): # takes very long since we're computing cost for 41k samples\n",
    "    tmpX, tmpY = shuffle(Xtrain, Ytrain_ind)\n",
    "    for n in range(min(N, 500)): # shortcut so it won't take so long...\n",
    "        x = tmpX[n,:].reshape(1,D)\n",
    "        y = tmpY[n,:].reshape(1,10)\n",
    "        p_y = forward(x, W, b)\n",
    "        \n",
    "        W += lr*(gradW(y, p_y, x) - reg*W)\n",
    "        b += lr*(gradb(y, p_y) - reg*b)\n",
    "        \n",
    "        p_y_test = forward(Xtest, W, b)\n",
    "        ll = cost(p_y_test, Ytest_ind)\n",
    "        LL_stochastic.append(ll)\n",
    "        \n",
    "        if n % (N/2) == 0:\n",
    "            err = error_rate(p_y_test, Ytest)\n",
    "            print(\"Cost at iteration %d: %.6f\" % (i, ll))\n",
    "            print(\"Error rate:\", err)\n",
    "p_y = forward(Xtest, W, b)\n",
    "print(\"Final error rate:\", error_rate(p_y, Ytest))\n",
    "print(\"Elapsed tmie for SGD:\", datetime.now() - t0) # 600 times slower!"
   ]
  },
  {
   "cell_type": "code",
   "execution_count": 8,
   "metadata": {
    "collapsed": false
   },
   "outputs": [
    {
     "name": "stdout",
     "output_type": "stream",
     "text": [
      "Cost at iteration 0: 2452.346373\n",
      "Error rate: 0.894\n",
      "Cost at iteration 0: 1593.230676\n",
      "Error rate: 0.407\n",
      "Cost at iteration 1: 1141.324492\n",
      "Error rate: 0.217\n",
      "Cost at iteration 1: 912.843168\n",
      "Error rate: 0.182\n",
      "Cost at iteration 2: 779.364326\n",
      "Error rate: 0.156\n",
      "Cost at iteration 2: 696.560283\n",
      "Error rate: 0.146\n",
      "Cost at iteration 3: 639.130917\n",
      "Error rate: 0.14\n",
      "Cost at iteration 3: 596.869919\n",
      "Error rate: 0.129\n",
      "Cost at iteration 4: 564.999160\n",
      "Error rate: 0.123\n",
      "Cost at iteration 4: 539.792366\n",
      "Error rate: 0.118\n",
      "Cost at iteration 5: 518.531743\n",
      "Error rate: 0.117\n",
      "Cost at iteration 5: 501.196450\n",
      "Error rate: 0.115\n",
      "Cost at iteration 6: 486.281557\n",
      "Error rate: 0.114\n",
      "Cost at iteration 6: 473.438990\n",
      "Error rate: 0.112\n",
      "Cost at iteration 7: 462.525882\n",
      "Error rate: 0.112\n",
      "Cost at iteration 7: 452.710984\n",
      "Error rate: 0.111\n",
      "Cost at iteration 8: 444.469949\n",
      "Error rate: 0.11\n",
      "Cost at iteration 8: 436.792588\n",
      "Error rate: 0.109\n",
      "Cost at iteration 9: 429.704439\n",
      "Error rate: 0.11\n",
      "Cost at iteration 9: 423.304166\n",
      "Error rate: 0.108\n",
      "Cost at iteration 10: 417.891359\n",
      "Error rate: 0.108\n",
      "Cost at iteration 10: 412.837851\n",
      "Error rate: 0.109\n",
      "Cost at iteration 11: 407.839782\n",
      "Error rate: 0.107\n",
      "Cost at iteration 11: 403.237420\n",
      "Error rate: 0.108\n",
      "Cost at iteration 12: 398.976187\n",
      "Error rate: 0.107\n",
      "Cost at iteration 12: 395.164470\n",
      "Error rate: 0.105\n",
      "Cost at iteration 13: 392.096602\n",
      "Error rate: 0.107\n",
      "Cost at iteration 13: 388.023799\n",
      "Error rate: 0.104\n",
      "Cost at iteration 14: 385.935382\n",
      "Error rate: 0.105\n",
      "Cost at iteration 14: 383.364952\n",
      "Error rate: 0.104\n",
      "Cost at iteration 15: 380.119702\n",
      "Error rate: 0.103\n",
      "Cost at iteration 15: 377.509310\n",
      "Error rate: 0.103\n",
      "Cost at iteration 16: 375.314874\n",
      "Error rate: 0.103\n",
      "Cost at iteration 16: 372.781932\n",
      "Error rate: 0.101\n",
      "Cost at iteration 17: 370.819787\n",
      "Error rate: 0.102\n",
      "Cost at iteration 17: 369.092057\n",
      "Error rate: 0.103\n",
      "Cost at iteration 18: 366.903853\n",
      "Error rate: 0.101\n",
      "Cost at iteration 18: 365.441713\n",
      "Error rate: 0.101\n",
      "Cost at iteration 19: 363.389456\n",
      "Error rate: 0.102\n",
      "Cost at iteration 19: 361.588316\n",
      "Error rate: 0.101\n",
      "Cost at iteration 20: 360.242663\n",
      "Error rate: 0.102\n",
      "Cost at iteration 20: 357.989098\n",
      "Error rate: 0.099\n",
      "Cost at iteration 21: 357.438274\n",
      "Error rate: 0.102\n",
      "Cost at iteration 21: 355.552155\n",
      "Error rate: 0.1\n",
      "Cost at iteration 22: 354.682080\n",
      "Error rate: 0.102\n",
      "Cost at iteration 22: 353.616000\n",
      "Error rate: 0.099\n",
      "Cost at iteration 23: 352.059596\n",
      "Error rate: 0.101\n",
      "Cost at iteration 23: 351.252712\n",
      "Error rate: 0.102\n",
      "Cost at iteration 24: 349.642316\n",
      "Error rate: 0.099\n",
      "Cost at iteration 24: 348.076153\n",
      "Error rate: 0.099\n",
      "Cost at iteration 25: 347.625088\n",
      "Error rate: 0.097\n",
      "Cost at iteration 25: 346.476197\n",
      "Error rate: 0.098\n",
      "Cost at iteration 26: 345.631698\n",
      "Error rate: 0.098\n",
      "Cost at iteration 26: 345.183972\n",
      "Error rate: 0.098\n",
      "Cost at iteration 27: 343.662378\n",
      "Error rate: 0.099\n",
      "Cost at iteration 27: 342.868072\n",
      "Error rate: 0.097\n",
      "Cost at iteration 28: 342.406163\n",
      "Error rate: 0.098\n",
      "Cost at iteration 28: 341.553045\n",
      "Error rate: 0.101\n",
      "Cost at iteration 29: 340.607689\n",
      "Error rate: 0.098\n",
      "Cost at iteration 29: 339.787728\n",
      "Error rate: 0.097\n",
      "Cost at iteration 30: 339.188503\n",
      "Error rate: 0.097\n",
      "Cost at iteration 30: 338.416035\n",
      "Error rate: 0.097\n",
      "Cost at iteration 31: 337.533850\n",
      "Error rate: 0.096\n",
      "Cost at iteration 31: 336.902838\n",
      "Error rate: 0.098\n",
      "Cost at iteration 32: 336.253558\n",
      "Error rate: 0.097\n",
      "Cost at iteration 32: 336.449548\n",
      "Error rate: 0.099\n",
      "Cost at iteration 33: 334.934919\n",
      "Error rate: 0.097\n",
      "Cost at iteration 33: 334.665870\n",
      "Error rate: 0.097\n",
      "Cost at iteration 34: 333.967814\n",
      "Error rate: 0.097\n",
      "Cost at iteration 34: 333.710633\n",
      "Error rate: 0.098\n",
      "Cost at iteration 35: 332.635031\n",
      "Error rate: 0.097\n",
      "Cost at iteration 35: 332.098538\n",
      "Error rate: 0.095\n",
      "Cost at iteration 36: 331.743961\n",
      "Error rate: 0.099\n",
      "Cost at iteration 36: 331.506351\n",
      "Error rate: 0.098\n",
      "Cost at iteration 37: 330.611720\n",
      "Error rate: 0.096\n",
      "Cost at iteration 37: 330.235722\n",
      "Error rate: 0.094\n",
      "Cost at iteration 38: 329.713212\n",
      "Error rate: 0.096\n",
      "Cost at iteration 38: 329.190530\n",
      "Error rate: 0.097\n",
      "Cost at iteration 39: 328.818606\n",
      "Error rate: 0.096\n",
      "Cost at iteration 39: 328.297523\n",
      "Error rate: 0.094\n",
      "Cost at iteration 40: 328.054677\n",
      "Error rate: 0.095\n",
      "Cost at iteration 40: 327.064837\n",
      "Error rate: 0.094\n",
      "Cost at iteration 41: 327.179908\n",
      "Error rate: 0.096\n",
      "Cost at iteration 41: 326.563970\n",
      "Error rate: 0.094\n",
      "Cost at iteration 42: 326.515150\n",
      "Error rate: 0.095\n",
      "Cost at iteration 42: 325.854950\n",
      "Error rate: 0.092\n",
      "Cost at iteration 43: 325.589715\n",
      "Error rate: 0.094\n",
      "Cost at iteration 43: 325.229729\n",
      "Error rate: 0.093\n",
      "Cost at iteration 44: 324.690384\n",
      "Error rate: 0.094\n",
      "Cost at iteration 44: 324.398095\n",
      "Error rate: 0.094\n",
      "Cost at iteration 45: 324.077463\n",
      "Error rate: 0.094\n",
      "Cost at iteration 45: 324.683001\n",
      "Error rate: 0.093\n",
      "Cost at iteration 46: 323.373283\n",
      "Error rate: 0.095\n",
      "Cost at iteration 46: 323.461319\n",
      "Error rate: 0.094\n",
      "Cost at iteration 47: 322.774531\n",
      "Error rate: 0.095\n",
      "Cost at iteration 47: 322.753108\n",
      "Error rate: 0.096\n",
      "Cost at iteration 48: 322.049890\n",
      "Error rate: 0.094\n",
      "Cost at iteration 48: 322.188825\n",
      "Error rate: 0.096\n",
      "Cost at iteration 49: 321.480699\n",
      "Error rate: 0.093\n",
      "Cost at iteration 49: 321.105228\n",
      "Error rate: 0.095\n",
      "Final error rate: 0.094\n",
      "Elapsed time for batch GD: 0:00:16.198329\n"
     ]
    }
   ],
   "source": [
    "# 3 batch\n",
    "W = np.random.randn(D, 10) / 28\n",
    "b = np.zeros(10)\n",
    "LL_batch = []\n",
    "lr = 0.0001\n",
    "reg = 0.01\n",
    "batch_sz = int(500)\n",
    "n_batches = N // batch_sz\n",
    "\n",
    "t0 = datetime.now()\n",
    "for i in range(50):\n",
    "    tmpX, tmpY = shuffle(Xtrain, Ytrain_ind)\n",
    "    for j in range(n_batches):\n",
    "        x = tmpX[j*batch_sz:(j*batch_sz + batch_sz),:]\n",
    "        y = tmpY[j*batch_sz:(j*batch_sz + batch_sz),:]\n",
    "        p_y = forward(x, W, b)\n",
    "        \n",
    "        W += lr*(gradW(y, p_y, x) - reg*W)\n",
    "        b += lr*(gradb(y, p_y) - reg*b)\n",
    "        \n",
    "        p_y_test = forward(Xtest, W, b)\n",
    "        ll = cost(p_y_test, Ytest_ind)\n",
    "        LL_batch.append(ll)\n",
    "        if j % (n_batches/2) == 0:\n",
    "            err = error_rate(p_y_test, Ytest)\n",
    "            print(\"Cost at iteration %d: %.6f\" % (i, ll))\n",
    "            print(\"Error rate:\", err)\n",
    "\n",
    "p_y = forward(Xtest, W, b)\n",
    "print(\"Final error rate:\", error_rate(p_y, Ytest))\n",
    "print(\"Elapsed time for batch GD:\", datetime.now() - t0)"
   ]
  },
  {
   "cell_type": "code",
   "execution_count": 9,
   "metadata": {
    "collapsed": false
   },
   "outputs": [
    {
     "data": {
      "image/png": "[encoded data removed]",
      "text/plain": [
       "<matplotlib.figure.Figure at 0x112772cf8>"
      ]
     },
     "metadata": {},
     "output_type": "display_data"
    }
   ],
   "source": [
    "x1 = np.linspace(0, 1, len(LL))\n",
    "plt.plot(x1, LL, label=\"full\")\n",
    "x2 = np.linspace(0, 1, len(LL_stochastic))\n",
    "plt.plot(x2, LL_stochastic, label=\"stochastic\")\n",
    "x3 = np.linspace(0, 1, len(LL_batch))\n",
    "plt.plot(x3, LL_batch, label=\"batch\")\n",
    "plt.legend()\n",
    "plt.show()\n",
    "# Full appears to converge faster than batch gradient descent, but it also ran slower"
   ]
  },
  {
   "cell_type": "markdown",
   "metadata": {},
   "source": [
    "- Full always decreases smoothly, batch and stochastic do not"
   ]
  }
 ],
 "metadata": {
  "kernelspec": {
   "display_name": "Python [Root]",
   "language": "python",
   "name": "Python [Root]"
  },
  "language_info": {
   "codemirror_mode": {
    "name": "ipython",
    "version": 3
   },
   "file_extension": ".py",
   "mimetype": "text/x-python",
   "name": "python",
   "nbconvert_exporter": "python",
   "pygments_lexer": "ipython3",
   "version": "3.5.2"
  }
 },
 "nbformat": 4,
 "nbformat_minor": 0
}
