{
 "cells": [
  {
   "cell_type": "code",
   "execution_count": null,
   "metadata": {
    "collapsed": false
   },
   "outputs": [],
   "source": [
    "import numpy as np\n",
    "import matplotlib.pyplot as plt\n",
    "%matplotlib inline\n",
    "\n",
    "from fr_util import getData\n",
    "\n",
    "label_map = ['Anger', 'Disgust', 'Fear', 'Happy', 'Sad', 'Surprise', 'Neutral']"
   ]
  },
  {
   "cell_type": "code",
   "execution_count": null,
   "metadata": {
    "collapsed": false
   },
   "outputs": [],
   "source": [
    "X, Y = getData(balance_ones=True)"
   ]
  },
  {
   "cell_type": "code",
   "execution_count": null,
   "metadata": {
    "collapsed": false
   },
   "outputs": [],
   "source": [
    "# show some of these dang images\n",
    "i = np.random.choice(7)\n",
    "x, y = X[Y==i], Y[Y==i]\n",
    "N = len(y)\n",
    "j = np.random.choice(N)\n",
    "plt.imshow(x[j].reshape(48, 48), cmap='gray')\n",
    "plt.title(label_map[y[j]]);"
   ]
  },
  {
   "cell_type": "markdown",
   "metadata": {},
   "source": [
    "# In Theano"
   ]
  },
  {
   "cell_type": "code",
   "execution_count": 1,
   "metadata": {
    "collapsed": true
   },
   "outputs": [],
   "source": [
    "import numpy as np\n",
    "import theano\n",
    "import theano.tensor as T\n",
    "import matplotlib.pyplot as plt\n",
    "%matplotlib inline\n",
    "\n",
    "from fr_util import getData, getBinaryData, error_rate, relu, init_weight_and_bias\n",
    "from sklearn.utils import shuffle"
   ]
  },
  {
   "cell_type": "code",
   "execution_count": 2,
   "metadata": {
    "collapsed": false
   },
   "outputs": [],
   "source": [
    "class HiddenLayer(object):\n",
    "    def __init__(self, M1, M2, an_id):\n",
    "        self.id = an_id\n",
    "        self.M1 = M1\n",
    "        self.M2 = M2\n",
    "        W, b = init_weight_and_bias(M1, M2)\n",
    "        self.W = theano.shared(W, 'W_%s' % self.id)\n",
    "        self.b = theano.shared(b, 'b_%s' % self.id)\n",
    "        self.params = [self.W, self.b]\n",
    "\n",
    "    def forward(self, X):\n",
    "        return relu(X.dot(self.W) + self.b)\n",
    "\n",
    "\n",
    "class ANN(object):\n",
    "    def __init__(self, hidden_layer_sizes):\n",
    "        self.hidden_layer_sizes = hidden_layer_sizes\n",
    "\n",
    "    def fit(self, X, Y, learning_rate=10e-7, mu=0.99, decay=0.999, reg=10e-12, eps=10e-10, epochs=400, batch_sz=100, show_fig=False):\n",
    "        learning_rate = np.float32(learning_rate)\n",
    "        mu = np.float32(mu)\n",
    "        decay = np.float32(decay)\n",
    "        reg = np.float32(reg)\n",
    "        eps = np.float32(eps)\n",
    "\n",
    "        # make a validation set\n",
    "        X, Y = shuffle(X, Y)\n",
    "        X = X.astype(np.float32)\n",
    "        Y = Y.astype(np.int32)\n",
    "        Xvalid, Yvalid = X[-1000:], Y[-1000:]\n",
    "        X, Y = X[:-1000], Y[:-1000]\n",
    "\n",
    "        # initialize hidden layers\n",
    "        N, D = X.shape\n",
    "        K = len(set(Y))\n",
    "        self.hidden_layers = []\n",
    "        M1 = D\n",
    "        count = 0\n",
    "        for M2 in self.hidden_layer_sizes:\n",
    "            h = HiddenLayer(M1, M2, count)\n",
    "            self.hidden_layers.append(h)\n",
    "            M1 = M2\n",
    "            count += 1\n",
    "        W, b = init_weight_and_bias(M1, K)\n",
    "        self.W = theano.shared(W, 'W_logreg')\n",
    "        self.b = theano.shared(b, 'b_logreg')\n",
    "\n",
    "        # collect params for later use\n",
    "        self.params = [self.W, self.b]\n",
    "        for h in self.hidden_layers:\n",
    "            self.params += h.params\n",
    "\n",
    "        # for momentum\n",
    "        dparams = [theano.shared(np.zeros(p.get_value().shape, dtype=np.float32)) for p in self.params]\n",
    "\n",
    "        # for rmsprop\n",
    "        cache = [theano.shared(np.zeros(p.get_value().shape, dtype=np.float32)) for p in self.params]\n",
    "\n",
    "        # set up theano functions and variables\n",
    "        thX = T.fmatrix('X')\n",
    "        thY = T.ivector('Y')\n",
    "        pY = self.forward(thX)\n",
    "\n",
    "        rcost = reg*T.sum([(p*p).sum() for p in self.params])\n",
    "        cost = -T.mean(T.log(pY[T.arange(thY.shape[0]), thY])) + rcost\n",
    "        prediction = self.predict(thX)\n",
    "\n",
    "        cost_predict_op = theano.function(inputs=[thX, thY], outputs=[cost, prediction])\n",
    "\n",
    "        updates = [\n",
    "            (c, decay*c + (np.float32(1)-decay)*T.grad(cost, p)*T.grad(cost, p)) for p, c in zip(self.params, cache)\n",
    "        ] + [\n",
    "            (p, p + mu*dp - learning_rate*T.grad(cost, p)/T.sqrt(c + eps)) for p, c, dp in zip(self.params, cache, dparams)\n",
    "        ] + [\n",
    "            (dp, mu*dp - learning_rate*T.grad(cost, p)/T.sqrt(c + eps)) for p, c, dp in zip(self.params, cache, dparams)\n",
    "        ]\n",
    "\n",
    "        # momentum only\n",
    "        # updates = [\n",
    "        #     (p, p + mu*dp - learning_rate*T.grad(cost, p)) for p, dp in zip(self.params, dparams)\n",
    "        # ] + [\n",
    "        #     (dp, mu*dp - learning_rate*T.grad(cost, p)) for p, dp in zip(self.params, dparams)\n",
    "        # ]\n",
    "\n",
    "        train_op = theano.function(\n",
    "            inputs=[thX, thY],\n",
    "            updates=updates\n",
    "        )\n",
    "\n",
    "        n_batches = N // batch_sz\n",
    "        costs = []\n",
    "        for i in range(epochs):\n",
    "            X, Y = shuffle(X, Y)\n",
    "            for j in range(n_batches):\n",
    "                Xbatch = X[j*batch_sz:(j*batch_sz+batch_sz)]\n",
    "                Ybatch = Y[j*batch_sz:(j*batch_sz+batch_sz)]\n",
    "\n",
    "                train_op(Xbatch, Ybatch)\n",
    "\n",
    "                if j % 20 == 0:\n",
    "                    c, p = cost_predict_op(Xvalid, Yvalid)\n",
    "                    costs.append(c)\n",
    "                    e = error_rate(Yvalid, p)\n",
    "                    print(\"i:\", i, \"j:\", j, \"nb:\", n_batches, \"cost:\", c, \"error rate:\", e)\n",
    "        \n",
    "        if show_fig:\n",
    "            plt.plot(costs)\n",
    "\n",
    "    def forward(self, X):\n",
    "        Z = X\n",
    "        for h in self.hidden_layers:\n",
    "            Z = h.forward(Z)\n",
    "        return T.nnet.softmax(Z.dot(self.W) + self.b)\n",
    "\n",
    "    def predict(self, X):\n",
    "        pY = self.forward(X)\n",
    "        return T.argmax(pY, axis=1)\n"
   ]
  },
  {
   "cell_type": "code",
   "execution_count": 3,
   "metadata": {
    "collapsed": false
   },
   "outputs": [],
   "source": [
    "X, Y = getData()"
   ]
  },
  {
   "cell_type": "code",
   "execution_count": 4,
   "metadata": {
    "collapsed": false
   },
   "outputs": [
    {
     "name": "stdout",
     "output_type": "stream",
     "text": [
      "i: 0 j: 0 nb: 392 cost: 1.9198087453842163 error rate: 0.779\n",
      "i: 0 j: 20 nb: 392 cost: 1.9386857748031616 error rate: 0.774\n",
      "i: 0 j: 40 nb: 392 cost: 1.907104253768921 error rate: 0.771\n",
      "i: 0 j: 60 nb: 392 cost: 1.9748119115829468 error rate: 0.852\n",
      "i: 0 j: 80 nb: 392 cost: 2.025104284286499 error rate: 0.835\n",
      "i: 0 j: 100 nb: 392 cost: 1.994652271270752 error rate: 0.831\n",
      "i: 0 j: 120 nb: 392 cost: 1.8822135925292969 error rate: 0.723\n",
      "i: 0 j: 140 nb: 392 cost: 1.8878538608551025 error rate: 0.735\n",
      "i: 0 j: 160 nb: 392 cost: 1.970933198928833 error rate: 0.818\n",
      "i: 0 j: 180 nb: 392 cost: 1.844335913658142 error rate: 0.711\n",
      "i: 0 j: 200 nb: 392 cost: 1.830924391746521 error rate: 0.714\n",
      "i: 0 j: 220 nb: 392 cost: 1.880251407623291 error rate: 0.742\n",
      "i: 0 j: 240 nb: 392 cost: 1.8093453645706177 error rate: 0.717\n",
      "i: 0 j: 260 nb: 392 cost: 1.822540521621704 error rate: 0.701\n",
      "i: 0 j: 280 nb: 392 cost: 1.8418055772781372 error rate: 0.735\n",
      "i: 0 j: 300 nb: 392 cost: 1.796783685684204 error rate: 0.704\n",
      "i: 0 j: 320 nb: 392 cost: 1.78951096534729 error rate: 0.697\n",
      "i: 0 j: 340 nb: 392 cost: 1.7729674577713013 error rate: 0.693\n",
      "i: 0 j: 360 nb: 392 cost: 1.7989767789840698 error rate: 0.715\n",
      "i: 0 j: 380 nb: 392 cost: 1.7637993097305298 error rate: 0.671\n"
     ]
    },
    {
     "data": {
      "image/png": "[encoded data removed]",
      "text/plain": [
       "<matplotlib.figure.Figure at 0x123b06d68>"
      ]
     },
     "metadata": {},
     "output_type": "display_data"
    }
   ],
   "source": [
    "# X, Y = getBinaryData()\n",
    "model = ANN([2000, 1000])\n",
    "model.fit(X, Y, show_fig=True, epochs=1)"
   ]
  }
 ],
 "metadata": {
  "kernelspec": {
   "display_name": "Python [Root]",
   "language": "python",
   "name": "Python [Root]"
  },
  "language_info": {
   "codemirror_mode": {
    "name": "ipython",
    "version": 3
   },
   "file_extension": ".py",
   "mimetype": "text/x-python",
   "name": "python",
   "nbconvert_exporter": "python",
   "pygments_lexer": "ipython3",
   "version": "3.5.2"
  }
 },
 "nbformat": 4,
 "nbformat_minor": 0
}
