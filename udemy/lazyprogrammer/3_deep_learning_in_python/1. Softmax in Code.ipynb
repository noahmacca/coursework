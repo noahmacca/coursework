{
 "cells": [
  {
   "cell_type": "code",
   "execution_count": 1,
   "metadata": {
    "collapsed": true
   },
   "outputs": [],
   "source": [
    "import numpy as np"
   ]
  },
  {
   "cell_type": "code",
   "execution_count": 2,
   "metadata": {
    "collapsed": false
   },
   "outputs": [],
   "source": [
    "a = np.random.randn(5)\n",
    "# Represents the activation at five different nodes at the output"
   ]
  },
  {
   "cell_type": "code",
   "execution_count": 3,
   "metadata": {
    "collapsed": false
   },
   "outputs": [
    {
     "data": {
      "text/plain": [
       "0.99999999999999978"
      ]
     },
     "execution_count": 3,
     "metadata": {},
     "output_type": "execute_result"
    }
   ],
   "source": [
    "# Now we want to do softmax on these numbers\n",
    "# First exponentiate\n",
    "expa = np.exp(a)\n",
    "\n",
    "# Now divide by the sum of expa\n",
    "answer = expa / expa.sum()\n",
    "answer.sum()"
   ]
  },
  {
   "cell_type": "code",
   "execution_count": 6,
   "metadata": {
    "collapsed": false
   },
   "outputs": [
    {
     "data": {
      "text/plain": [
       "array([ 1.,  1.,  1.,  1.,  1.,  1.,  1.,  1.,  1.,  1.,  1.,  1.,  1.,\n",
       "        1.,  1.,  1.,  1.,  1.,  1.,  1.,  1.,  1.,  1.,  1.,  1.,  1.,\n",
       "        1.,  1.,  1.,  1.,  1.,  1.,  1.,  1.,  1.,  1.,  1.,  1.,  1.,\n",
       "        1.,  1.,  1.,  1.,  1.,  1.,  1.,  1.,  1.,  1.,  1.,  1.,  1.,\n",
       "        1.,  1.,  1.,  1.,  1.,  1.,  1.,  1.,  1.,  1.,  1.,  1.,  1.,\n",
       "        1.,  1.,  1.,  1.,  1.,  1.,  1.,  1.,  1.,  1.,  1.,  1.,  1.,\n",
       "        1.,  1.,  1.,  1.,  1.,  1.,  1.,  1.,  1.,  1.,  1.,  1.,  1.,\n",
       "        1.,  1.,  1.,  1.,  1.,  1.,  1.,  1.,  1.])"
      ]
     },
     "execution_count": 6,
     "metadata": {},
     "output_type": "execute_result"
    }
   ],
   "source": [
    "# But we're going to be using a matrix of As\n",
    "A = np.random.randn(100,5)\n",
    "expA = np.exp(A)\n",
    "\n",
    "answer = expA / expA.sum(axis=1, keepdims=True)\n",
    "answer.sum(axis=1)"
   ]
  },
  {
   "cell_type": "code",
   "execution_count": 19,
   "metadata": {
    "collapsed": false
   },
   "outputs": [
    {
     "data": {
      "text/plain": [
       "array([[  6.71803232],\n",
       "       [  8.5750995 ],\n",
       "       [  3.91722867],\n",
       "       [  8.46030564],\n",
       "       [  4.62987441],\n",
       "       [ 12.40248272],\n",
       "       [  7.74007838],\n",
       "       [  6.08046486],\n",
       "       [ 10.50365163],\n",
       "       [  4.70920849],\n",
       "       [  5.16662105],\n",
       "       [ 10.69387062],\n",
       "       [ 11.1043549 ],\n",
       "       [ 10.84456953],\n",
       "       [ 13.41216553],\n",
       "       [  7.67069988],\n",
       "       [ 13.25197853],\n",
       "       [  8.13556008],\n",
       "       [  2.88761392],\n",
       "       [  6.66770718],\n",
       "       [  3.61303702],\n",
       "       [ 10.29100674],\n",
       "       [  4.63339344],\n",
       "       [  5.04584943],\n",
       "       [  9.72841369],\n",
       "       [  8.94644784],\n",
       "       [  6.30579973],\n",
       "       [  5.64553622],\n",
       "       [  8.74778241],\n",
       "       [  7.36500059],\n",
       "       [  9.27255322],\n",
       "       [  4.14094388],\n",
       "       [  4.40505311],\n",
       "       [  8.30714959],\n",
       "       [  3.83054148],\n",
       "       [ 10.50478285],\n",
       "       [  7.81867406],\n",
       "       [  3.70113465],\n",
       "       [  8.38964373],\n",
       "       [  8.93542357],\n",
       "       [ 12.39251789],\n",
       "       [  9.22303806],\n",
       "       [  8.12693637],\n",
       "       [ 14.9416574 ],\n",
       "       [ 11.61844635],\n",
       "       [  4.02021507],\n",
       "       [  5.25743678],\n",
       "       [ 17.07686193],\n",
       "       [  4.0904142 ],\n",
       "       [  7.86536255],\n",
       "       [  9.75674941],\n",
       "       [ 12.1432937 ],\n",
       "       [  2.73409583],\n",
       "       [  9.53060276],\n",
       "       [  3.94544317],\n",
       "       [  5.85298774],\n",
       "       [  7.4069203 ],\n",
       "       [  6.13155782],\n",
       "       [ 10.56907333],\n",
       "       [ 15.17433855],\n",
       "       [  6.83513275],\n",
       "       [  5.18544469],\n",
       "       [  5.11517247],\n",
       "       [ 12.63406117],\n",
       "       [  4.69867959],\n",
       "       [  6.92579352],\n",
       "       [ 10.60527338],\n",
       "       [ 14.43347292],\n",
       "       [ 10.54111844],\n",
       "       [  7.41630474],\n",
       "       [  3.21365732],\n",
       "       [  9.50977361],\n",
       "       [  6.87830971],\n",
       "       [  3.63232108],\n",
       "       [  9.16020153],\n",
       "       [  6.02246156],\n",
       "       [  7.63164364],\n",
       "       [  7.83163372],\n",
       "       [  2.93056515],\n",
       "       [  6.800783  ],\n",
       "       [  4.10978338],\n",
       "       [  5.51918506],\n",
       "       [  6.256093  ],\n",
       "       [  7.7820686 ],\n",
       "       [  8.97681762],\n",
       "       [  5.77416911],\n",
       "       [  6.62448379],\n",
       "       [ 10.08099699],\n",
       "       [ 14.67488986],\n",
       "       [ 17.49056906],\n",
       "       [ 10.95907369],\n",
       "       [  8.08409886],\n",
       "       [  5.40435548],\n",
       "       [  9.775339  ],\n",
       "       [ 16.84391479],\n",
       "       [  4.7271398 ],\n",
       "       [ 15.82990538],\n",
       "       [  4.13712701],\n",
       "       [  6.97293342],\n",
       "       [  7.66500786]])"
      ]
     },
     "execution_count": 19,
     "metadata": {},
     "output_type": "execute_result"
    }
   ],
   "source": [
    "expA.sum(axis=1, keepdims=True)"
   ]
  }
 ],
 "metadata": {
  "kernelspec": {
   "display_name": "Python [Root]",
   "language": "python",
   "name": "Python [Root]"
  },
  "language_info": {
   "codemirror_mode": {
    "name": "ipython",
    "version": 3
   },
   "file_extension": ".py",
   "mimetype": "text/x-python",
   "name": "python",
   "nbconvert_exporter": "python",
   "pygments_lexer": "ipython3",
   "version": "3.5.2"
  }
 },
 "nbformat": 4,
 "nbformat_minor": 0
}
