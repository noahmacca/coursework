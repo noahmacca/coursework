{
 "cells": [
  {
   "cell_type": "code",
   "execution_count": null,
   "metadata": {
    "collapsed": true
   },
   "outputs": [],
   "source": []
  },
  {
   "cell_type": "code",
   "execution_count": 1,
   "metadata": {
    "collapsed": false
   },
   "outputs": [],
   "source": [
    "# process.py\n",
    "import numpy as np\n",
    "import pandas as pd\n",
    "import matplotlib.pyplot as plt\n",
    "%matplotlib inline\n",
    "\n",
    "def get_data():\n",
    "    df = pd.read_csv('ecommerce_data.csv')\n",
    "\n",
    "    # just in case you're curious what's in it\n",
    "    # df.head()\n",
    "\n",
    "    # easier to work with numpy array\n",
    "    data = df.as_matrix()\n",
    "\n",
    "    X = data[:,:-1]\n",
    "    Y = data[:,-1]\n",
    "\n",
    "    # normalize columns 1 and 2\n",
    "    X[:,1] = (X[:,1] - X[:,1].mean()) / X[:,1].std()\n",
    "    X[:,2] = (X[:,2] - X[:,2].mean()) / X[:,2].std()\n",
    "\n",
    "    # create a new matrix X2 with the correct number of columns\n",
    "    N, D = X.shape\n",
    "    X2 = np.zeros((N, D+3))\n",
    "    X2[:,0:(D-1)] = X[:,0:(D-1)] # non-categorical\n",
    "\n",
    "    # one-hot\n",
    "    for n in range(N):\n",
    "        t = int(X[n,D-1])\n",
    "        X2[n,t+D-1] = 1\n",
    "\n",
    "    # method 2\n",
    "    # Z = np.zeros((N, 4))\n",
    "    # Z[np.arange(N), X[:,D-1].astype(np.int32)] = 1\n",
    "    # # assign: X2[:,-4:] = Z\n",
    "    # assert(np.abs(X2[:,-4:] - Z).sum() < 10e-10)\n",
    "\n",
    "    return X2, Y\n",
    "\n",
    "\n",
    "\n",
    "def get_binary_data():\n",
    "    X, Y = get_data()\n",
    "    X2 = X[Y <= 1]\n",
    "    Y2 = Y[Y <= 1]\n",
    "    return X2, Y2"
   ]
  },
  {
   "cell_type": "code",
   "execution_count": 2,
   "metadata": {
    "collapsed": false
   },
   "outputs": [
    {
     "name": "stdout",
     "output_type": "stream",
     "text": [
      "Score: 0.278\n"
     ]
    }
   ],
   "source": [
    "# ann_predict.py\n",
    "\n",
    "X, Y = get_data()\n",
    "M = 5\n",
    "D = X.shape[1]\n",
    "K = len(set(Y))\n",
    "W1 = np.random.randn(D, M)\n",
    "b1 = np.zeros(M)\n",
    "W2 = np.random.randn(M, K)\n",
    "b2 = np.zeros(K)\n",
    "\n",
    "def softmax(A):\n",
    "    expA = np.exp(A)\n",
    "    return expA / expA.sum(axis=1, keepdims=True)\n",
    "\n",
    "def forward(X, W1, b1, W2, b2):\n",
    "    Z = np.tanh(X.dot(W1) + b1)\n",
    "    return softmax(Z.dot(W2) + b2)\n",
    "\n",
    "P_Y_given_X = forward(X, W1, b1, W2, b2)\n",
    "predictions = np.argmax(P_Y_given_X, axis=1)\n",
    "\n",
    "def classification_rate(Y, P):\n",
    "    return np.mean(Y == P)\n",
    "\n",
    "print(\"Score:\", classification_rate(Y, predictions))\n",
    "\n",
    "# Next have to figure out how to train the weights to improve accuracy"
   ]
  },
  {
   "cell_type": "code",
   "execution_count": 3,
   "metadata": {
    "collapsed": true
   },
   "outputs": [],
   "source": [
    "X = np.array([[1,2]])\n",
    "W1 = np.array([[1,1], [1, 0]])\n",
    "W2 = np.array([[0, 1], [1, 1]])"
   ]
  },
  {
   "cell_type": "code",
   "execution_count": 4,
   "metadata": {
    "collapsed": false
   },
   "outputs": [
    {
     "data": {
      "text/plain": [
       "array([[ 0.26992562,  0.73007438]])"
      ]
     },
     "execution_count": 4,
     "metadata": {},
     "output_type": "execute_result"
    }
   ],
   "source": [
    "A = np.array([[0.762, 1.757]])\n",
    "softmax(A)"
   ]
  },
  {
   "cell_type": "code",
   "execution_count": 5,
   "metadata": {
    "collapsed": false,
    "scrolled": true
   },
   "outputs": [
    {
     "name": "stdout",
     "output_type": "stream",
     "text": [
      "0 0.730011794515 0.693890155306\n",
      "1000 0.086458569096 0.102201373767\n",
      "2000 0.0829029702036 0.0963009743108\n",
      "3000 0.0816342093812 0.0938521046842\n",
      "4000 0.0810197303498 0.0925255857402\n",
      "5000 0.0806707374668 0.0917001348573\n",
      "6000 0.0804519606516 0.0911422982539\n",
      "7000 0.0803053092597 0.0907440169591\n",
      "8000 0.0802021372198 0.0904482038021\n",
      "9000 0.0801268568929 0.0902218339034\n",
      "Final train classification_rate: 0.9225\n",
      "Final test classification_rate: 0.9\n"
     ]
    }
   ],
   "source": [
    "# Training logistic regression with softmax\n",
    "from sklearn.utils import shuffle\n",
    "\n",
    "def y2indicator(y, K):\n",
    "    N = len(y)\n",
    "    ind = np.zeros((N, K))\n",
    "    for i in range(N):\n",
    "        ind[i, y[i]] = 1\n",
    "    return ind\n",
    "\n",
    "X, Y = get_data()\n",
    "X, Y = shuffle(X, Y)\n",
    "Y = Y.astype(np.int32)\n",
    "D = X.shape[1]\n",
    "K = len(set(Y))\n",
    "\n",
    "Xtrain = X[:-100]\n",
    "Ytrain = Y[:-100]\n",
    "Ytrain_ind = y2indicator(Ytrain, K)\n",
    "\n",
    "Xtest = X[-100:]\n",
    "Ytest = Y[-100:]\n",
    "Ytest_ind = y2indicator(Ytest, K)\n",
    "\n",
    "W = np.random.randn(D, K)\n",
    "b = np.zeros(K)\n",
    "\n",
    "def softmax(a):\n",
    "    expA = np.exp(a)\n",
    "    return expA / expA.sum(axis=1, keepdims=True)\n",
    "\n",
    "def forward(X, W, b):\n",
    "    return softmax(X.dot(W) + b)\n",
    "\n",
    "def predict(P_Y_given_X):\n",
    "    return np.argmax(P_Y_given_X, axis=1)\n",
    "\n",
    "def classification_rate(Y, P):\n",
    "    return np.mean(Y == P)\n",
    "\n",
    "def cross_entropy(T, pY):\n",
    "    return -np.mean(T*np.log(pY))\n",
    "\n",
    "train_costs = []\n",
    "test_costs = []\n",
    "learning_rate = 0.001\n",
    "for i in range(10000):\n",
    "    pYtrain = forward(Xtrain, W, b)\n",
    "    pYtest = forward(Xtest, W, b)\n",
    "    \n",
    "    ctrain = cross_entropy(Ytrain_ind, pYtrain)\n",
    "    ctest = cross_entropy(Ytest_ind, pYtest)\n",
    "    train_costs.append(ctrain)\n",
    "    test_costs.append(ctest)\n",
    "    \n",
    "    W -= learning_rate*Xtrain.T.dot(pYtrain - Ytrain_ind)\n",
    "    b -= learning_rate*(pYtrain - Ytrain_ind).sum(axis=0)\n",
    "    if i % 1000 == 0:\n",
    "        print(i, ctrain, ctest)\n",
    "        \n",
    "print(\"Final train classification_rate:\", classification_rate(Ytrain, predict(pYtrain)))\n",
    "print(\"Final test classification_rate:\", classification_rate(Ytest, predict(pYtest)))"
   ]
  },
  {
   "cell_type": "code",
   "execution_count": 6,
   "metadata": {
    "collapsed": false
   },
   "outputs": [
    {
     "data": {
      "text/plain": [
       "[]"
      ]
     },
     "execution_count": 6,
     "metadata": {},
     "output_type": "execute_result"
    },
    {
     "data": {
      "image/png": "[encoded data removed]",
      "text/plain": [
       "<matplotlib.figure.Figure at 0x10427a7b8>"
      ]
     },
     "metadata": {},
     "output_type": "display_data"
    }
   ],
   "source": [
    "legend1, = plt.plot(train_costs, label='train cost')\n",
    "legend2, = plt.plot(test_costs, label='test cost')\n",
    "plt.legend([legend1, legend2])\n",
    "plt.plot()"
   ]
  },
  {
   "cell_type": "code",
   "execution_count": 26,
   "metadata": {
    "collapsed": false
   },
   "outputs": [
    {
     "name": "stdout",
     "output_type": "stream",
     "text": [
      "0 0.526306378623 0.552011339618\n",
      "1000 0.0372129366366 0.0593518595036\n",
      "2000 0.0209929080701 0.0413376624014\n",
      "3000 0.0156544864222 0.0428671107294\n",
      "4000 0.0130564061158 0.043899106304\n",
      "5000 0.0114048424543 0.0447225757902\n",
      "6000 0.0102486488882 0.0452588481523\n",
      "7000 0.0093892080223 0.0457753054859\n",
      "8000 0.00871639326345 0.0462500125637\n",
      "9000 0.00817104906567 0.046673214252\n",
      "Final train classification_rate: 0.99\n",
      "Final test classification_rate: 0.95\n"
     ]
    }
   ],
   "source": [
    "# Now we're going to redo this for a neural net\n",
    "import numpy as np\n",
    "import matplotlib.pyplot as plt\n",
    "\n",
    "from sklearn.utils import shuffle\n",
    "\n",
    "def y2indicator(y, K):\n",
    "    N = len(y)\n",
    "    ind = np.zeros((N, K))\n",
    "    for i in range(N):\n",
    "        ind[i, y[i]] = 1\n",
    "    return ind\n",
    "\n",
    "X, Y = get_data()\n",
    "X, Y = shuffle(X, Y)\n",
    "Y = Y.astype(np.int32)\n",
    "M = 5 # Number of hidden nodes\n",
    "D = X.shape[1]\n",
    "K = len(set(Y))\n",
    "\n",
    "# split data into train or test sets\n",
    "Xtrain = X[:-100]\n",
    "Ytrain = Y[:-100]\n",
    "Ytrain_ind = y2indicator(Ytrain, K)\n",
    "Xtest = X[-100:]\n",
    "Ytest = Y[-100:]\n",
    "Ytest_ind = y2indicator(Ytest, K)\n",
    "\n",
    "# Randomly initialize our weights\n",
    "W1 = np.random.randn(D, M)\n",
    "b1 = np.zeros(M)\n",
    "W2 = np.random.randn(M, K)\n",
    "b2 = np.zeros(K)\n",
    "\n",
    "def softmax(a):\n",
    "    expA = np.exp(a)\n",
    "    return expA / expA.sum(axis=1, keepdims=True)\n",
    "\n",
    "def forward(X, W1, b1, W2, b2):\n",
    "    # Calculate the values of the hidden nodes z\n",
    "    # Then return softmax of those values times the weights W2\n",
    "    Z = np.tanh(X.dot(W1) + b1)\n",
    "    return softmax(Z.dot(W2) + b2), Z\n",
    "\n",
    "def predict(P_Y_given_X):\n",
    "    # Returns vector for predictions of each row\n",
    "    return np.argmax(P_Y_given_X, axis=1)\n",
    "\n",
    "def classification_rate(Y, P):\n",
    "    # Compare the one-hot encoded matrices of actual vs. predicted classes\n",
    "    return np.mean(Y == P)\n",
    "\n",
    "def cross_entroy(T, pY):\n",
    "    # take the average of the product of one-hot encoded targets matrix\n",
    "    # and the log of the corresponding prediction values\n",
    "    return -np.mean(T * np.log(pY))\n",
    "\n",
    "# Now we're ready to enter our main train loop\n",
    "train_costs = []\n",
    "test_costs = []\n",
    "learning_rate = 0.001\n",
    "for i in range(10000):\n",
    "    pYtrain, Ztrain = forward(Xtrain, W1, b1, W2, b2)\n",
    "    pYtest, Ztest = forward(Xtest, W1, b1, W2, b2)\n",
    "    \n",
    "    ctrain = cross_entropy(Ytrain_ind, pYtrain)\n",
    "    ctest = cross_entropy(Ytest_ind, pYtest)\n",
    "    train_costs.append(ctrain)\n",
    "    test_costs.append(ctest)\n",
    "    \n",
    "    # now do some gradient descent\n",
    "    W2 -= learning_rate*Ztrain.T.dot(pYtrain - Ytrain_ind)\n",
    "    b2 -= learning_rate*(pYtrain - Ytrain_ind).sum()\n",
    "    dZ = (pYtrain - Ytrain_ind).dot(W2.T) * (1 - Ztrain*Ztrain) # second term is derivative of tanh\n",
    "    W1 -= learning_rate * Xtrain.T.dot(dZ)\n",
    "    b1 -= learning_rate*dZ.sum(axis=0)\n",
    "    if i % 1000 == 0:\n",
    "        print(i, ctrain, ctest)\n",
    "    \n",
    "print(\"Final train classification_rate:\", classification_rate(Ytrain, predict(pYtrain)))\n",
    "print(\"Final test classification_rate:\", classification_rate(Ytest, predict(pYtest)))\n",
    "# Should do better than the logistic regression case"
   ]
  },
  {
   "cell_type": "code",
   "execution_count": 27,
   "metadata": {
    "collapsed": false
   },
   "outputs": [
    {
     "data": {
      "text/plain": [
       "[]"
      ]
     },
     "execution_count": 27,
     "metadata": {},
     "output_type": "execute_result"
    },
    {
     "data": {
      "image/png": "[encoded data removed]",
      "text/plain": [
       "<matplotlib.figure.Figure at 0x11af85940>"
      ]
     },
     "metadata": {},
     "output_type": "display_data"
    }
   ],
   "source": [
    "legend1, = plt.plot(train_costs, label='train cost')\n",
    "legend2, = plt.plot(test_costs, label='test cost')\n",
    "plt.legend([legend1, legend2])\n",
    "plt.plot()"
   ]
  },
  {
   "cell_type": "code",
   "execution_count": null,
   "metadata": {
    "collapsed": true
   },
   "outputs": [],
   "source": []
  }
 ],
 "metadata": {
  "anaconda-cloud": {},
  "kernelspec": {
   "display_name": "Python [Root]",
   "language": "python",
   "name": "Python [Root]"
  },
  "language_info": {
   "codemirror_mode": {
    "name": "ipython",
    "version": 3
   },
   "file_extension": ".py",
   "mimetype": "text/x-python",
   "name": "python",
   "nbconvert_exporter": "python",
   "pygments_lexer": "ipython3",
   "version": "3.5.2"
  }
 },
 "nbformat": 4,
 "nbformat_minor": 0
}
