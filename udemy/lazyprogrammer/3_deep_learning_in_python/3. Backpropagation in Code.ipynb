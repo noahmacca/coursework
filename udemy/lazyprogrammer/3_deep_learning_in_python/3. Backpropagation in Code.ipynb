{
 "cells": [
  {
   "cell_type": "code",
   "execution_count": null,
   "metadata": {
    "collapsed": false
   },
   "outputs": [],
   "source": [
    "# From forward.py\n",
    "import numpy as np\n",
    "import matplotlib.pyplot as plt\n",
    "\n",
    "%matplotlib inline\n",
    "\n",
    "def forward(X, W1, b1, W2, b2):\n",
    "    Z = 1 / (1 + np.exp(-X.dot(W1) - b1))\n",
    "    A = Z.dot(W2) + b2\n",
    "    expA = np.exp(A)\n",
    "    Y = expA / expA.sum(axis=1, keepdims=True)\n",
    "    # Return z because it's required to calculate the gradient    \n",
    "    return Y, Z\n",
    "\n",
    "# determine the classification rate\n",
    "# num correct / num total\n",
    "def classification_rate(Y, P):\n",
    "    n_correct = 0\n",
    "    n_total = 0\n",
    "    for i in range(len(Y)):\n",
    "        n_total += 1\n",
    "        if Y[i] == P[i]:\n",
    "            n_correct += 1\n",
    "    return float(n_correct) / n_total"
   ]
  },
  {
   "cell_type": "code",
   "execution_count": null,
   "metadata": {
    "collapsed": false
   },
   "outputs": [],
   "source": [
    "# backprop.py\n",
    "# Create the data\n",
    "Nclass = 500\n",
    "D = 2 # dimensinoality of input\n",
    "M = 3 # hidden layer size\n",
    "K = 3 # number of classes\n",
    "\n",
    "X1 = np.random.randn(Nclass, D) + np.array([0, -2])\n",
    "X2 = np.random.randn(Nclass, D) + np.array([2, 2])\n",
    "X3 = np.random.randn(Nclass, D) + np.array([-2, 2])\n",
    "X = np.vstack([X1, X2, X3])\n",
    "\n",
    "Y = np.array([0]*Nclass + [1]*Nclass + [2]*Nclass)\n",
    "N = len(Y)\n",
    "\n",
    "T = np.zeros((N, K))\n",
    "for i in range(N):\n",
    "    T[i, Y[i]] = 1\n",
    "\n",
    "#let's see what it looks like\n",
    "plt.scatter(X[:,0], X[:,1], c=Y, s=100, alpha=0.5)"
   ]
  },
  {
   "cell_type": "code",
   "execution_count": null,
   "metadata": {
    "collapsed": false
   },
   "outputs": [],
   "source": [
    "def cost(T, Y):\n",
    "    tot = T * np.log(Y)\n",
    "    return tot.sum()\n",
    "\n",
    "# Define the derivative functions\n",
    "def derivative_w2(Z, T, Y):\n",
    "    N, K = T.shape # shape of targets\n",
    "    M = Z.shape[1] # number of hidden units\n",
    "    \n",
    "    # slow way of doing this\n",
    "#     ret1 = np.zeros((M, K))\n",
    "#     for n in range(N):\n",
    "#         form in range(M):\n",
    "#             for k in range(K):\n",
    "#                 ret1[m,k] += (T[n,k] - Y[n,k])*Z[n,m]\n",
    "                \n",
    "#     ret2 = np.zeros((M, K))\n",
    "#     for n in range(N):\n",
    "#         for k in range(K):\n",
    "#             ret2[:,k] += (T[n,k] - Y[n,k])*Z[n,:]\n",
    "    \n",
    "#     ret3 = np.zeros((M, K))\n",
    "#     for n in range(N):\n",
    "#         ret3 += np.outer(Z[n], T[n] - Y[n])\n",
    "#     assert(np.abs(ret3 - ret2).sum() < 10e-1)\n",
    "\n",
    "#     ret4 = Z.T.dot(T - Y)\n",
    "#     assert (np.abs(ret3 - ret4).sum() < 10e-10)\n",
    "    \n",
    "    return Z.T.dot(T - Y)\n",
    "\n",
    "def derivative_b2(T, Y):\n",
    "    return (T - Y).sum(axis=0)\n",
    "\n",
    "def derivative_w1(x, Z, T, Y, W2):\n",
    "    N, D = X.shape\n",
    "    M, K = W2.shape\n",
    "    \n",
    "#     # slow\n",
    "#     ret1 = np.zeros((D, M))\n",
    "#     for n in range(N):\n",
    "#         for k in range(K):\n",
    "#             for m in range(M):\n",
    "#                 for d in range(D):\n",
    "#                     ret1[d,m] += (T[n,k] - Y[n,k])*W2[m,k]*Z[n,m]*(1-Z[n,m])*X[n,d]\n",
    "\n",
    "    dZ = (T - Y).dot(W2.T) * Z * (1-Z)\n",
    "    return X.T.dot(dZ)\n",
    "\n",
    "def derivative_b1(T, Y, W2, Z):\n",
    "    return ((T - Y).dot(W2.T) * Z * (1 - Z)).sum(axis=0)"
   ]
  },
  {
   "cell_type": "code",
   "execution_count": null,
   "metadata": {
    "collapsed": false
   },
   "outputs": [],
   "source": [
    "# randomly initialize weights\n",
    "W1 = np.random.randn(D, M)\n",
    "b1 = np.random.randn(M)\n",
    "W2 = np.random.randn(M, K)\n",
    "b2 = np.random.randn(K)\n",
    "\n",
    "# Now we're going to do backprop\n",
    "learning_rate = 10e-7\n",
    "costs = []\n",
    "for epoch in range(100000):\n",
    "    output, hidden = forward(X, W1, b1, W2, b2)\n",
    "    if epoch %100 == 0:\n",
    "        c = cost(T, output)\n",
    "        P = np.argmax(output, axis=1)\n",
    "        r = classification_rate(Y, P)\n",
    "        print(\"cost:\", c, \"classification_rate\", r)\n",
    "        costs.append(c)\n",
    "    \n",
    "    # now do gradient ascent, positive instead of negative, t-y instead of y-t\n",
    "    W2 += learning_rate * derivative_w2(hidden, T, output)\n",
    "    b2 += learning_rate * derivative_b2(T, output)\n",
    "    W1 += learning_rate * derivative_w1(X, hidden, T, output, W2)\n",
    "    b1 += learning_rate * derivative_b1(T, output, W2, hidden)\n",
    "    \n",
    "    plt.plot(costs)"
   ]
  },
  {
   "cell_type": "code",
   "execution_count": null,
   "metadata": {
    "collapsed": true
   },
   "outputs": [],
   "source": []
  }
 ],
 "metadata": {
  "anaconda-cloud": {},
  "kernelspec": {
   "display_name": "Python [Root]",
   "language": "python",
   "name": "Python [Root]"
  },
  "language_info": {
   "codemirror_mode": {
    "name": "ipython",
    "version": 3
   },
   "file_extension": ".py",
   "mimetype": "text/x-python",
   "name": "python",
   "nbconvert_exporter": "python",
   "pygments_lexer": "ipython3",
   "version": "3.5.2"
  }
 },
 "nbformat": 4,
 "nbformat_minor": 0
}
