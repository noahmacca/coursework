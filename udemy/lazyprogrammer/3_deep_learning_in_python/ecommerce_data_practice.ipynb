{
 "cells": [
  {
   "cell_type": "markdown",
   "metadata": {},
   "source": [
    "### General approach to running these classifiers\n",
    "- Get data and labels ready, normalize inputs, ensure balanced classes\n",
    "- Feed in NxD training matrix into M hidden layers\n",
    "- This is done by multiplying data with DxM weight matrix and running an activation function on each element (adding bias term)\n",
    "- Feed the output of the activation into a ZxK matrix, where K is number of classes, use another activation\n",
    "- Determine dominant class for each row with softmax\n",
    "- Compare predicted classifications with known labels\n",
    "- Calculate cross-entropy!\n",
    "- Do the gradient descent step to update the Z weights\n",
    "- Using these weights and the Z activations, update the weights of the initial layer\n",
    "- Epoch complete, now do it again!"
   ]
  },
  {
   "cell_type": "code",
   "execution_count": 1,
   "metadata": {
    "collapsed": true
   },
   "outputs": [],
   "source": [
    "# Need to first load up the data\n",
    "\n",
    "import numpy as np\n",
    "import pandas as pd\n",
    "import matplotlib.pyplot as plt\n",
    "%matplotlib inline\n",
    "\n",
    "def get_data():\n",
    "    df = pd.read_csv('ecommerce_data.csv')\n",
    "    \n",
    "    data = df.as_matrix()\n",
    "    \n",
    "    X = data[:,:-1]\n",
    "    Y = data[:,-1]\n",
    "    \n",
    "    # normalize columns 1 and 2\n",
    "    X[:,1] = (X[:,1] - X[:,1].mean()) / X[:,1].std()\n",
    "    X[:,2] = (X[:,2] - X[:,2].mean()) / X[:,2].std()\n",
    "    \n",
    "    # Create a new matrix X2 with the correct number of columns\n",
    "    N, D = X.shape\n",
    "    X2 = np.zeros((N, D+3))\n",
    "    X2[:,0:(D-1)] = X[:,0:(D-1)]\n",
    "    \n",
    "    # one-hot the last categorical column\n",
    "    for i in range(N):\n",
    "        X2[i,(D-1) + X[i,D-1]] = 1\n",
    "    \n",
    "    return X2, Y\n",
    "\n",
    "def get_binary_data():\n",
    "    X, Y = get_data()\n",
    "    X2 = X[Y <= 1]\n",
    "    Y2 = Y[Y <= 1]\n",
    "    return X2, Y2"
   ]
  },
  {
   "cell_type": "code",
   "execution_count": 13,
   "metadata": {
    "collapsed": false
   },
   "outputs": [
    {
     "name": "stdout",
     "output_type": "stream",
     "text": [
      "Classification rate:  0.188\n"
     ]
    },
    {
     "name": "stderr",
     "output_type": "stream",
     "text": [
      "/Users/admin/anaconda3/lib/python3.5/site-packages/ipykernel/__main__.py:27: VisibleDeprecationWarning: using a non-integer number instead of an integer will result in an error in the future\n"
     ]
    }
   ],
   "source": [
    "# just forward evaluating a basic multi-class neural net\n",
    "\n",
    "X, Y = get_data()\n",
    "M = 5\n",
    "D = X.shape[1]\n",
    "K = len(set(Y))\n",
    "W1 = np.random.randn(D, M)\n",
    "b1 = np.zeros(M)\n",
    "W2 = np.random.randn(M, K)\n",
    "b2 = np.zeros(K)\n",
    "\n",
    "def softmax(A):\n",
    "    expA = np.exp(A)\n",
    "    return expA/expA.sum(axis=1, keepdims=True)\n",
    "\n",
    "def forward(X, W1, b1, W2, b2):\n",
    "    Z = np.tanh(X.dot(W1) + b1)\n",
    "    return softmax(Z.dot(W2) + b2)\n",
    "\n",
    "P_Y_given_X = forward(X, W1, b1, W2, b2)\n",
    "predictions = np.argmax(P_Y_given_X, axis=1)\n",
    "\n",
    "def classification_rate(predictions, actual):\n",
    "    return np.mean(predictions == actual)\n",
    "\n",
    "print(\"Classification rate: \", classification_rate(predictions, Y))\n"
   ]
  },
  {
   "cell_type": "code",
   "execution_count": 25,
   "metadata": {
    "collapsed": false
   },
   "outputs": [
    {
     "name": "stderr",
     "output_type": "stream",
     "text": [
      "/Users/admin/anaconda3/lib/python3.5/site-packages/ipykernel/__main__.py:27: VisibleDeprecationWarning: using a non-integer number instead of an integer will result in an error in the future\n"
     ]
    }
   ],
   "source": [
    "# Training logistic regression with softmax\n",
    "from sklearn.utils import shuffle\n",
    "\n",
    "def y2indicator(y, K):\n",
    "    N = len(y)\n",
    "    ind = np.zeros((N, K))\n",
    "    for i in range(N):\n",
    "        ind[i, y[i]] = 1\n",
    "    return ind\n",
    "\n",
    "X, Y = get_data()\n",
    "X, Y = shuffle(X, Y)\n",
    "Y = Y.astype(np.int32)\n",
    "D = X.shape[1]\n",
    "K = len(set(Y))\n",
    "\n",
    "Xtrain = X[:-100]\n",
    "Ytrain = Y[:-100]\n",
    "Ytrain_ind = y2indicator(Ytrain, K)"
   ]
  },
  {
   "cell_type": "code",
   "execution_count": 60,
   "metadata": {
    "collapsed": false,
    "scrolled": true
   },
   "outputs": [
    {
     "name": "stderr",
     "output_type": "stream",
     "text": [
      "/Users/admin/anaconda3/lib/python3.5/site-packages/ipykernel/__main__.py:27: VisibleDeprecationWarning: using a non-integer number instead of an integer will result in an error in the future\n"
     ]
    },
    {
     "name": "stdout",
     "output_type": "stream",
     "text": [
      "0 0.720054687838 0.704645346043\n",
      "1000 0.12189359078 0.121238680278\n",
      "2000 0.110643846628 0.101240715099\n",
      "3000 0.105446744534 0.0919370510107\n",
      "4000 0.102142041563 0.0864118742749\n",
      "5000 0.0997769185078 0.0827242829596\n",
      "6000 0.0979799090421 0.0800693551974\n",
      "7000 0.0965634920584 0.0780512525578\n",
      "8000 0.0954181292414 0.076453943082\n",
      "9000 0.0944738762311 0.075150302232\n",
      "10000 0.0936833648606 0.0740608780503\n",
      "11000 0.0930131408077 0.0731334328732\n",
      "12000 0.0924388103611 0.0723321007323\n",
      "13000 0.0919421285631 0.0716313266286\n",
      "14000 0.0915091607276 0.0710123193754\n",
      "15000 0.0911290746642 0.0704608880849\n",
      "16000 0.0907933213772 0.0699660719661\n",
      "17000 0.0904950642515 0.0695192422218\n",
      "18000 0.0902287722247 0.0691134947786\n",
      "19000 0.0899899240801 0.0687432280477\n",
      "20000 0.0897747897748 0.068403841963\n",
      "21000 0.0895802662489 0.0680915187156\n",
      "22000 0.0894037524512 0.0678030599014\n",
      "23000 0.0892430530418 0.0675357635027\n",
      "24000 0.0890963033637 0.0672873295673\n",
      "25000 0.0889619103924 0.0670557869291\n",
      "26000 0.0888385058299 0.0668394356053\n",
      "27000 0.0887249085282 0.0666368010394\n",
      "28000 0.0886200941499 0.0664465974067\n",
      "29000 0.0885231704953 0.0662676979342\n",
      "30000 0.0884333573002 0.0660991107049\n",
      "31000 0.0883499695933 0.0659399587888\n",
      "32000 0.0882724039033 0.0657894638189\n",
      "33000 0.0882001267663 0.0656469323286\n",
      "34000 0.0881326651002 0.0655117443224\n",
      "35000 0.0880695981039 0.0653833436605\n",
      "36000 0.0880105504089 0.0652612299294\n",
      "37000 0.0879551862642 0.065144951536\n",
      "38000 0.0879032045789 0.065034099813\n",
      "39000 0.0878543346795 0.064928303967\n",
      "40000 0.087808332666 0.0648272267313\n",
      "41000 0.087764978271 0.0647305606093\n",
      "42000 0.0877240721431 0.064638024618\n",
      "43000 0.0876854334904 0.0645493614532\n",
      "44000 0.0876488980306 0.0644643350161\n",
      "45000 0.0876143162012 0.0643827282451\n",
      "46000 0.0875815515942 0.0643043412127\n",
      "47000 0.0875504795821 0.0642289894473\n",
      "48000 0.0875209861101 0.0641565024516\n",
      "49000 0.0874929666306 0.0640867223888\n",
      "50000 0.0874663251614 0.0640195029172\n",
      "51000 0.0874409734526 0.0639547081512\n",
      "52000 0.0874168302454 0.0638922117346\n",
      "53000 0.0873938206145 0.0638318960122\n",
      "54000 0.0873718753808 0.0637736512861\n",
      "55000 0.0873509305874 0.0637173751488\n",
      "56000 0.0873309270306 0.0636629718818\n",
      "57000 0.0873118098399 0.0636103519144\n",
      "58000 0.0872935281006 0.0635594313336\n",
      "59000 0.087276034514 0.0635101314413\n",
      "60000 0.0872592850924 0.0634623783523\n",
      "61000 0.0872432388826 0.0634161026294\n",
      "62000 0.0872278577168 0.0633712389518\n",
      "63000 0.0872131059871 0.063327725812\n",
      "64000 0.0871989504411 0.0632855052401\n",
      "65000 0.0871853599958 0.0632445225517\n",
      "66000 0.0871723055696 0.0632047261168\n",
      "67000 0.0871597599285 0.0631660671487\n",
      "68000 0.0871476975459 0.0631284995093\n",
      "69000 0.0871360944757 0.0630919795315\n",
      "70000 0.087124928235 0.0630564658545\n",
      "71000 0.0871141776981 0.0630219192732\n",
      "72000 0.0871038229983 0.0629883025988\n",
      "73000 0.087093845439 0.0629555805301\n",
      "74000 0.0870842274111 0.0629237195348\n",
      "75000 0.0870749523178 0.0628926877395\n",
      "76000 0.0870660045054 0.0628624548278\n",
      "77000 0.0870573691989 0.0628329919461\n",
      "78000 0.0870490324437 0.0628042716161\n",
      "79000 0.087040981051 0.0627762676532\n",
      "80000 0.087033202548 0.0627489550912\n",
      "81000 0.0870256851312 0.0627223101115\n",
      "82000 0.0870184176238 0.0626963099781\n",
      "83000 0.087011389436 0.0626709329762\n",
      "84000 0.0870045905284 0.0626461583553\n",
      "85000 0.0869980113776 0.0626219662761\n",
      "86000 0.086991642945 0.0625983377607\n",
      "87000 0.0869854766471 0.062575254646\n",
      "88000 0.0869795043282 0.0625526995405\n",
      "89000 0.0869737182353 0.0625306557834\n",
      "90000 0.0869681109941 0.0625091074063\n",
      "91000 0.0869626755871 0.0624880390977\n",
      "92000 0.0869574053333 0.0624674361692\n",
      "93000 0.0869522938686 0.062447284524\n",
      "94000 0.0869473351279 0.0624275706272\n",
      "95000 0.086942523329 0.0624082814779\n",
      "96000 0.0869378529561 0.0623894045832\n",
      "97000 0.0869333187459 0.0623709279332\n",
      "98000 0.0869289156733 0.0623528399779\n",
      "99000 0.0869246389391 0.0623351296051\n",
      "Final train classificatino_rate: 0.9125\n",
      "Final test classification_rate: 0.88\n"
     ]
    }
   ],
   "source": [
    "# Now we want to train logistic regression with softmax\n",
    "from sklearn.utils import shuffle\n",
    "\n",
    "def y2indicator(y, K):\n",
    "    N = len(y)\n",
    "    ind = np.zeros((N, K))\n",
    "    for i in range(N):\n",
    "        ind[i, y[i]] = 1\n",
    "        \n",
    "    return ind\n",
    "        \n",
    "    \n",
    "# Get data, split into train and test sets\n",
    "\n",
    "# softmax\n",
    "# forward\n",
    "# predict\n",
    "# classification_rate\n",
    "# cross_entropy\n",
    "\n",
    "# loop through training, plot costs and classification rates\n",
    "\n",
    "X, Y = get_data()\n",
    "X, Y = shuffle(X, Y)\n",
    "Y = Y.astype(np.int32)\n",
    "D = X.shape[1]\n",
    "K = len(set(Y))\n",
    "\n",
    "# keep just the last 100 points for test\n",
    "Xtrain = X[:-100]\n",
    "Ytrain = Y[:-100]\n",
    "Ytrain_ind = y2indicator(Ytrain, K)\n",
    "\n",
    "Xtest = X[-100:]\n",
    "Ytest = Y[-100:]\n",
    "Ytest_ind = y2indicator(Ytest, K)\n",
    "\n",
    "W = np.random.randn(D, K)\n",
    "b = np.zeros(K)\n",
    "\n",
    "def softmax(A):\n",
    "    expA = np.exp(A)\n",
    "    return expA / expA.sum(axis=1, keepdims=True)\n",
    "\n",
    "def forward(X, W, b):\n",
    "    return softmax(X.dot(W) + b)\n",
    "\n",
    "def predict(P_Y_given_X):\n",
    "    return np.argmax(P_Y_given_X, axis=1)\n",
    "\n",
    "def classification_rate(P, Y):\n",
    "    return np.mean(Y == P)\n",
    "\n",
    "def cross_entropy(T, pY):\n",
    "    return -np.mean(T*np.log(pY))\n",
    "\n",
    "train_costs = []\n",
    "test_costs = []\n",
    "learning_rate = 0.0001\n",
    "epochs = 100000\n",
    "for i in range(epochs):\n",
    "    pYtrain = forward(Xtrain, W, b)\n",
    "    pYtest = forward(Xtest, W, b)\n",
    "    \n",
    "    ctrain = cross_entropy(Ytrain_ind, pYtrain)\n",
    "    ctest = cross_entropy(Ytest_ind, pYtest)\n",
    "    train_costs.append(ctrain)\n",
    "    test_costs.append(ctest)\n",
    "    \n",
    "    W -= learning_rate*Xtrain.T.dot(pYtrain - Ytrain_ind)\n",
    "    b -= learning_rate*(pYtrain - Ytrain_ind).sum(axis=0)\n",
    "    if i % 1000 == 0:\n",
    "        print(i, ctrain, ctest)\n",
    "        \n",
    "print(\"Final train classificatino_rate:\", classification_rate(predict(pYtrain), Ytrain))\n",
    "print(\"Final test classification_rate:\", classification_rate(predict(pYtest), Ytest))"
   ]
  },
  {
   "cell_type": "code",
   "execution_count": 59,
   "metadata": {
    "collapsed": false
   },
   "outputs": [
    {
     "data": {
      "text/plain": [
       "[]"
      ]
     },
     "execution_count": 59,
     "metadata": {},
     "output_type": "execute_result"
    },
    {
     "data": {
      "image/png": "[encoded data removed]",
      "text/plain": [
       "<matplotlib.figure.Figure at 0x109989940>"
      ]
     },
     "metadata": {},
     "output_type": "display_data"
    }
   ],
   "source": [
    "legend1, = plt.plot(train_costs, label='train cost')\n",
    "legend2, = plt.plot(test_costs, label='test cost')\n",
    "plt.legend([legend1, legend2])\n",
    "plt.plot()"
   ]
  },
  {
   "cell_type": "code",
   "execution_count": 109,
   "metadata": {
    "collapsed": false,
    "scrolled": true
   },
   "outputs": [
    {
     "name": "stderr",
     "output_type": "stream",
     "text": [
      "/Users/admin/anaconda3/lib/python3.5/site-packages/ipykernel/__main__.py:27: VisibleDeprecationWarning: using a non-integer number instead of an integer will result in an error in the future\n",
      "/Users/admin/anaconda3/lib/python3.5/site-packages/ipykernel/__main__.py:7: VisibleDeprecationWarning: using a non-integer number instead of an integer will result in an error in the future\n"
     ]
    },
    {
     "name": "stdout",
     "output_type": "stream",
     "text": [
      "0 0.898427406704 0.918650180872\n",
      "1000 0.0667255495698 0.0759144442573\n",
      "2000 0.0551437773807 0.0692588162976\n",
      "3000 0.0471378784893 0.0637843037948\n",
      "4000 0.0420460068458 0.0634696498199\n",
      "5000 0.038368043296 0.0614379362105\n",
      "6000 0.0345570303757 0.0585657696218\n",
      "7000 0.0315169195374 0.0594360033659\n",
      "8000 0.0298231906571 0.0562131362223\n",
      "9000 0.0286928951829 0.0533347998502\n",
      "Final train classification_rate: 0.955\n",
      "Final test classification_rate: 0.94\n"
     ]
    }
   ],
   "source": [
    "# Now do the same thing for a neural net!\n",
    "\n",
    "def y2indicator(Y, K):\n",
    "    N = len(Y)\n",
    "    ind = np.zeros((N, K))\n",
    "    for i in range(N):\n",
    "        ind[i,Y[i]] = 1\n",
    "    return ind\n",
    "\n",
    "# Get the data\n",
    "X, Y = get_data()\n",
    "X, Y = shuffle(X, Y)\n",
    "\n",
    "N, D = X.shape\n",
    "M = 5\n",
    "K = len(set(Y))\n",
    "\n",
    "# shuffle, split data into train or test sets\n",
    "Xtrain = X[:-100]\n",
    "Ytrain = Y[:-100]\n",
    "Ytrain_ind = y2indicator(Ytrain, K)\n",
    "\n",
    "Xtest = X[-100:]\n",
    "Ytest = Y[-100:]\n",
    "Ytest_ind = y2indicator(Ytest, K)\n",
    "\n",
    "# initialize our weights\n",
    "W1 = np.random.randn(D, M)\n",
    "b1 = np.random.randn(M)\n",
    "W2 = np.random.randn(M, K)\n",
    "b2 = np.random.randn(K)\n",
    "\n",
    "# define our functions, y2indicator, softmax, forward, predict, classification_rate, cross_entrpy\n",
    "def softmax(A):\n",
    "    expA = np.exp(A)\n",
    "    return expA / expA.sum(axis=1, keepdims=True)\n",
    "\n",
    "def forward(X, W1, b1, W2, b2):\n",
    "    Z = np.tanh(X.dot(W1) + b1)\n",
    "    return softmax(Z.dot(W2) + b2), Z\n",
    "\n",
    "def predict(P_Y_given_X):\n",
    "    return np.argmax(P_Y_given_X, axis=1)\n",
    "\n",
    "def classification_rate(pY, Y):\n",
    "    return np.mean(pY == Y)\n",
    "\n",
    "def cross_enropy(T, pY):\n",
    "    return -np.mean(T * np.log(pY))\n",
    "\n",
    "# run through training loop\n",
    "epochs = 10000\n",
    "train_costs = []\n",
    "test_costs = []\n",
    "learning_rate = 0.0005\n",
    "for i in range(epochs):\n",
    "    pYtrain, Ztrain = forward(Xtrain, W1, b1, W2, b2)\n",
    "    pYtest, Ztest = forward(Xtest, W1, b1, W2, b2)\n",
    "    \n",
    "    # see how we'll we're doing on ith epoch\n",
    "    ctrain = cross_entropy(Ytrain_ind, pYtrain)\n",
    "    ctest = cross_entropy(Ytest_ind, pYtest)\n",
    "    train_costs.append(ctrain)\n",
    "    test_costs.append(ctest)\n",
    "    \n",
    "    # Update some weights with gradient descent!!\n",
    "    W2 -= learning_rate*Ztrain.T.dot(pYtrain - Ytrain_ind)\n",
    "    b2 -= learning_rate*(pYtrain - Ytrain_ind).sum()\n",
    "    dZ = (pYtrain - Ytrain_ind).dot(W2.T) * (1 - Ztrain*Ztrain)\n",
    "    W1 -= learning_rate * Xtrain.T.dot(dZ)\n",
    "    b1 -= learning_rate*dZ.sum(axis=0)\n",
    "    if i % 1000 == 0:\n",
    "        print(i, ctrain, ctest)\n",
    "        \n",
    "print(\"Final train classification_rate:\", classification_rate(Ytrain, predict(pYtrain)))\n",
    "print(\"Final test classification_rate:\", classification_rate(Ytest, predict(pYtest)))"
   ]
  },
  {
   "cell_type": "code",
   "execution_count": 110,
   "metadata": {
    "collapsed": false
   },
   "outputs": [
    {
     "data": {
      "text/plain": [
       "[]"
      ]
     },
     "execution_count": 110,
     "metadata": {},
     "output_type": "execute_result"
    },
    {
     "data": {
      "image/png": "[encoded data removed]",
      "text/plain": [
       "<matplotlib.figure.Figure at 0x119a34898>"
      ]
     },
     "metadata": {},
     "output_type": "display_data"
    }
   ],
   "source": [
    "legend1, = plt.plot(train_costs, label='train cost')\n",
    "legend2, = plt.plot(test_costs, label='test cost')\n",
    "plt.legend([legend1, legend2])\n",
    "plt.plot()"
   ]
  },
  {
   "cell_type": "code",
   "execution_count": null,
   "metadata": {
    "collapsed": true
   },
   "outputs": [],
   "source": [
    "# Dope!!"
   ]
  }
 ],
 "metadata": {
  "anaconda-cloud": {},
  "kernelspec": {
   "display_name": "Python [Root]",
   "language": "python",
   "name": "Python [Root]"
  },
  "language_info": {
   "codemirror_mode": {
    "name": "ipython",
    "version": 3
   },
   "file_extension": ".py",
   "mimetype": "text/x-python",
   "name": "python",
   "nbconvert_exporter": "python",
   "pygments_lexer": "ipython3",
   "version": "3.5.2"
  }
 },
 "nbformat": 4,
 "nbformat_minor": 0
}
