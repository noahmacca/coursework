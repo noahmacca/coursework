{
 "cells": [
  {
   "cell_type": "code",
   "execution_count": 1,
   "metadata": {
    "collapsed": true
   },
   "outputs": [],
   "source": [
    "import numpy as np\n",
    "\n",
    "N = 100\n",
    "D = 2\n",
    "\n",
    "X = np.random.randn(N,D)"
   ]
  },
  {
   "cell_type": "code",
   "execution_count": 23,
   "metadata": {
    "collapsed": false
   },
   "outputs": [],
   "source": [
    "ones = np.array([[1]*N]).T\n",
    "Xb = np.concatenate((ones, X), axis=1)"
   ]
  },
  {
   "cell_type": "code",
   "execution_count": 7,
   "metadata": {
    "collapsed": true
   },
   "outputs": [],
   "source": [
    "w = np.random.randn(D + 1)"
   ]
  },
  {
   "cell_type": "code",
   "execution_count": 9,
   "metadata": {
    "collapsed": false
   },
   "outputs": [],
   "source": [
    "z = Xb.dot(w)"
   ]
  },
  {
   "cell_type": "code",
   "execution_count": 15,
   "metadata": {
    "collapsed": false
   },
   "outputs": [
    {
     "name": "stdout",
     "output_type": "stream",
     "text": [
      "[ 0.47259284  0.04558735  0.13059833  0.47933262  0.32391973  0.44146453\n",
      "  0.8133699   0.02862595  0.03028535  0.27270068  0.77329219  0.50163725\n",
      "  0.33733464  0.14037229  0.03421198  0.07049641  0.80819774  0.71847799\n",
      "  0.00794451  0.88031829  0.9480235   0.21293607  0.66851644  0.69351975\n",
      "  0.99149951  0.97835758  0.01317877  0.90834949  0.83509755  0.88672193\n",
      "  0.58432075  0.78028793  0.11443082  0.06020248  0.05125941  0.98571659\n",
      "  0.18944105  0.47946314  0.91266967  0.59675741  0.13229491  0.9232831\n",
      "  0.29756999  0.03643732  0.25848452  0.83848121  0.88540778  0.18862485\n",
      "  0.21462244  0.88181535  0.93735158  0.60968192  0.68596102  0.72639587\n",
      "  0.53990341  0.86260946  0.94759201  0.71837319  0.00349963  0.81300719\n",
      "  0.98729257  0.61133292  0.18914033  0.89077265  0.82166821  0.20820479\n",
      "  0.17217651  0.53938723  0.33737302  0.25002859  0.11374131  0.89369616\n",
      "  0.00809801  0.25688422  0.58791288  0.9057518   0.89568458  0.75075377\n",
      "  0.82811783  0.7268603   0.06557937  0.13750628  0.82952268  0.57064578\n",
      "  0.20163305  0.99154664  0.83837031  0.31939035  0.47506094  0.1933143\n",
      "  0.11189802  0.290491    0.71170596  0.62851591  0.46267234  0.31909723\n",
      "  0.83273427  0.2958057   0.10393753  0.66623708]\n"
     ]
    }
   ],
   "source": [
    "def sigmoid(z):\n",
    "    return 1/(1+np.exp(-z))\n",
    "    \n",
    "print(sigmoid(z))"
   ]
  }
 ],
 "metadata": {
  "anaconda-cloud": {},
  "kernelspec": {
   "display_name": "Python [Root]",
   "language": "python",
   "name": "Python [Root]"
  },
  "language_info": {
   "codemirror_mode": {
    "name": "ipython",
    "version": 3
   },
   "file_extension": ".py",
   "mimetype": "text/x-python",
   "name": "python",
   "nbconvert_exporter": "python",
   "pygments_lexer": "ipython3",
   "version": "3.5.2"
  }
 },
 "nbformat": 4,
 "nbformat_minor": 0
}
