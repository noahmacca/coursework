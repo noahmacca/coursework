{
 "cells": [
  {
   "cell_type": "code",
   "execution_count": 1,
   "metadata": {
    "collapsed": false
   },
   "outputs": [],
   "source": [
    "import numpy as np\n",
    "import matplotlib.pyplot as plt\n",
    "from sklearn.utils import shuffle\n",
    "from util import getBinaryData, sigmoid, sigmoid_cost, error_rate\n",
    "\n",
    "%matplotlib inline"
   ]
  },
  {
   "cell_type": "code",
   "execution_count": 2,
   "metadata": {
    "collapsed": false
   },
   "outputs": [],
   "source": [
    "class LogisticModel(object):\n",
    "    def __init__(self):\n",
    "        pass\n",
    "    \n",
    "    def fit(self, X, Y, learning_rate=10e-7, reg=0, epochs=120000, show_fig=False):\n",
    "        X, Y = shuffle(X, Y)\n",
    "        \n",
    "        #Split X and Y into training and validation sets\n",
    "        Xvalid, Yvalid = X[-1000:], Y[-1000:]\n",
    "        X, Y = X[:-1000], Y[:-1000]\n",
    "        \n",
    "        N, D = X.shape\n",
    "        self.W = np.random.randn(D) / np.sqrt(D)\n",
    "        self.b = 0\n",
    "        \n",
    "        costs = []\n",
    "        best_validation_error = 1\n",
    "        \n",
    "        #loop through the number of epochs\n",
    "        for i in range(epochs):\n",
    "            pY = self.forward(X)\n",
    "            \n",
    "            #gradient descent step with regularization\n",
    "            self.W -= learning_rate*(X.T.dot(pY - Y) + reg*self.W)\n",
    "            self.b -= learning_rate*((pY - Y).sum() + reg*self.b)\n",
    "            \n",
    "            if i % 20 == 0:\n",
    "                pYvalid = self.forward(Xvalid)\n",
    "                c = sigmoid_cost(Yvalid, pYvalid)\n",
    "                costs.append(c)\n",
    "                e = error_rate(Yvalid, np.round(pYvalid))\n",
    "                print (\"i:\", i, \"cost:\", c, \"error:\", e)\n",
    "                if e < best_validation_error:\n",
    "                    best_validation_error = e\n",
    "        print(\"best_validation_error:\", best_validation_error)\n",
    "        \n",
    "        if show_fig:\n",
    "            plt.plot(costs)\n",
    "            plt.show()\n",
    "            \n",
    "    def forward(self, X):\n",
    "        return sigmoid(X.dot(self.W) + self.b)\n",
    "    \n",
    "    def predict(self, X):\n",
    "        pY = self.forward(X)\n",
    "        return np.round(pY)\n",
    "    \n",
    "    def score(self, X, Y):\n",
    "        prediction = self.predict(X)\n",
    "        return 1 - error_rate(Y, prediction)"
   ]
  },
  {
   "cell_type": "code",
   "execution_count": 3,
   "metadata": {
    "collapsed": false
   },
   "outputs": [],
   "source": [
    "X, Y = getBinaryData()"
   ]
  },
  {
   "cell_type": "code",
   "execution_count": 4,
   "metadata": {
    "collapsed": false
   },
   "outputs": [],
   "source": [
    "# Now we balance the classes\n",
    "X0 = X[Y==0, :]\n",
    "X1 = X[Y==1, :]\n",
    "X1 = np.repeat(X1, 9, axis=0)\n",
    "X = np.vstack([X0, X1])\n",
    "Y = np.array([0]*len(X0) + [1]*len(X1))"
   ]
  },
  {
   "cell_type": "code",
   "execution_count": 8,
   "metadata": {
    "collapsed": false,
    "scrolled": false
   },
   "outputs": [
    {
     "name": "stdout",
     "output_type": "stream",
     "text": [
      "i: 0 cost: 696.902030278 error: 0.52\n",
      "i: 20 cost: 683.735998193 error: 0.448\n",
      "i: 40 cost: 674.024954354 error: 0.427\n",
      "i: 60 cost: 666.629244559 error: 0.412\n",
      "i: 80 cost: 660.742113986 error: 0.395\n",
      "i: 100 cost: 655.892696725 error: 0.385\n",
      "i: 120 cost: 651.790600802 error: 0.382\n",
      "i: 140 cost: 648.247606239 error: 0.38\n",
      "i: 160 cost: 645.136088477 error: 0.384\n",
      "i: 180 cost: 642.365993278 error: 0.372\n",
      "i: 200 cost: 639.871574797 error: 0.369\n",
      "i: 220 cost: 637.603452113 error: 0.359\n",
      "i: 240 cost: 635.523661501 error: 0.355\n",
      "i: 260 cost: 633.602455079 error: 0.355\n",
      "i: 280 cost: 631.816154091 error: 0.355\n",
      "i: 300 cost: 630.145662151 error: 0.351\n",
      "i: 320 cost: 628.575405969 error: 0.348\n",
      "i: 340 cost: 627.092562122 error: 0.341\n",
      "i: 360 cost: 625.686480941 error: 0.343\n",
      "i: 380 cost: 624.34824981 error: 0.341\n",
      "i: 400 cost: 623.070357319 error: 0.337\n",
      "i: 420 cost: 621.84643177 error: 0.338\n",
      "i: 440 cost: 620.671035419 error: 0.34\n",
      "i: 460 cost: 619.539501072 error: 0.338\n",
      "i: 480 cost: 618.447801256 error: 0.339\n",
      "i: 500 cost: 617.392442694 error: 0.333\n",
      "i: 520 cost: 616.370380626 error: 0.332\n",
      "i: 540 cost: 615.378948811 error: 0.332\n",
      "i: 560 cost: 614.415802011 error: 0.329\n",
      "i: 580 cost: 613.478868486 error: 0.329\n",
      "i: 600 cost: 612.566310544 error: 0.327\n",
      "i: 620 cost: 611.676491643 error: 0.324\n",
      "i: 640 cost: 610.807948812 error: 0.323\n",
      "i: 660 cost: 609.959369446 error: 0.321\n",
      "i: 680 cost: 609.129571693 error: 0.322\n",
      "i: 700 cost: 608.317487812 error: 0.321\n",
      "i: 720 cost: 607.522149997 error: 0.321\n",
      "i: 740 cost: 606.742678265 error: 0.32\n",
      "i: 760 cost: 605.978270054 error: 0.316\n",
      "i: 780 cost: 605.228191282 error: 0.315\n",
      "i: 800 cost: 604.491768614 error: 0.316\n",
      "i: 820 cost: 603.76838277 error: 0.318\n",
      "i: 840 cost: 603.057462706 error: 0.318\n",
      "i: 860 cost: 602.358480541 error: 0.317\n",
      "i: 880 cost: 601.670947128 error: 0.316\n",
      "i: 900 cost: 600.994408164 error: 0.316\n",
      "i: 920 cost: 600.328440774 error: 0.316\n",
      "i: 940 cost: 599.672650508 error: 0.314\n",
      "i: 960 cost: 599.026668672 error: 0.307\n",
      "i: 980 cost: 598.390149979 error: 0.306\n",
      "i: 1000 cost: 597.762770455 error: 0.306\n",
      "i: 1020 cost: 597.144225579 error: 0.306\n",
      "i: 1040 cost: 596.53422862 error: 0.305\n",
      "i: 1060 cost: 595.932509157 error: 0.303\n",
      "i: 1080 cost: 595.338811744 error: 0.303\n",
      "i: 1100 cost: 594.752894718 error: 0.303\n",
      "i: 1120 cost: 594.174529126 error: 0.301\n",
      "i: 1140 cost: 593.603497752 error: 0.3\n",
      "i: 1160 cost: 593.039594247 error: 0.302\n",
      "i: 1180 cost: 592.482622329 error: 0.302\n",
      "i: 1200 cost: 591.932395074 error: 0.302\n",
      "i: 1220 cost: 591.388734253 error: 0.3\n",
      "i: 1240 cost: 590.851469746 error: 0.298\n",
      "i: 1260 cost: 590.320438995 error: 0.298\n",
      "i: 1280 cost: 589.795486511 error: 0.298\n",
      "i: 1300 cost: 589.276463418 error: 0.296\n",
      "i: 1320 cost: 588.763227044 error: 0.302\n",
      "i: 1340 cost: 588.255640533 error: 0.302\n",
      "i: 1360 cost: 587.753572496 error: 0.302\n",
      "i: 1380 cost: 587.256896694 error: 0.301\n",
      "i: 1400 cost: 586.76549173 error: 0.301\n",
      "i: 1420 cost: 586.279240785 error: 0.299\n",
      "i: 1440 cost: 585.798031354 error: 0.298\n",
      "i: 1460 cost: 585.321755017 error: 0.298\n",
      "i: 1480 cost: 584.850307217 error: 0.297\n",
      "best_validation_error: 0.296\n"
     ]
    },
    {
     "data": {
      "image/png": "[encoded data removed]",
      "text/plain": [
       "<matplotlib.figure.Figure at 0x104b30ef0>"
      ]
     },
     "metadata": {},
     "output_type": "display_data"
    },
    {
     "data": {
      "text/plain": [
       "0.70149858242203322"
      ]
     },
     "execution_count": 8,
     "metadata": {},
     "output_type": "execute_result"
    }
   ],
   "source": [
    "# Now create a model\n",
    "model = LogisticModel()\n",
    "model.fit(X, Y, show_fig=True, learning_rate=10e-7, epochs=1500)\n",
    "model.score(X, Y)"
   ]
  },
  {
   "cell_type": "code",
   "execution_count": null,
   "metadata": {
    "collapsed": false
   },
   "outputs": [],
   "source": [
    "model.score(X, Y)"
   ]
  },
  {
   "cell_type": "code",
   "execution_count": null,
   "metadata": {
    "collapsed": true
   },
   "outputs": [],
   "source": []
  },
  {
   "cell_type": "code",
   "execution_count": null,
   "metadata": {
    "collapsed": true
   },
   "outputs": [],
   "source": []
  }
 ],
 "metadata": {
  "anaconda-cloud": {},
  "kernelspec": {
   "display_name": "Python [Root]",
   "language": "python",
   "name": "Python [Root]"
  },
  "language_info": {
   "codemirror_mode": {
    "name": "ipython",
    "version": 3
   },
   "file_extension": ".py",
   "mimetype": "text/x-python",
   "name": "python",
   "nbconvert_exporter": "python",
   "pygments_lexer": "ipython3",
   "version": "3.5.2"
  }
 },
 "nbformat": 4,
 "nbformat_minor": 0
}
