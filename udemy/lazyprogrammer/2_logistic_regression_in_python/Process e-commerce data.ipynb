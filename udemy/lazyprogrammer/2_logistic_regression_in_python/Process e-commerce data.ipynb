{
 "cells": [
  {
   "cell_type": "code",
   "execution_count": 4,
   "metadata": {
    "collapsed": true
   },
   "outputs": [],
   "source": [
    "import numpy as np\n",
    "import pandas as pd"
   ]
  },
  {
   "cell_type": "code",
   "execution_count": null,
   "metadata": {
    "collapsed": false
   },
   "outputs": [],
   "source": [
    "path = \"data/ecommerce_data.csv\"\n",
    "df = pd.read_csv(path)"
   ]
  },
  {
   "cell_type": "code",
   "execution_count": null,
   "metadata": {
    "collapsed": true
   },
   "outputs": [],
   "source": [
    "def get_data():\n",
    "    df = pd.read_csv('data/ecommerce_data.csv')\n",
    "    data = df.as_matrix()\n",
    "    \n",
    "    X = data[:, :-1]\n",
    "    Y = data[:, -1]\n",
    "    \n",
    "    # Normalize the numerical data\n",
    "    X[:,1] = (X[:,1] - X[:,1].mean()) / X[:,1].std()\n",
    "    X[:,2] = (X[:,2] - X[:,2].mean()) / X[:,2].std()\n",
    "    \n",
    "    N, D = X.shape\n",
    "    \n",
    "    X2 = np.zeros((N, D+3))\n",
    "    X2[:,0:(D-1)] = X[:,0:(D-1)] #D-1 + D+3 th column will hot encoded cats\n",
    "    \n",
    "    for n in range(N):\n",
    "        t = int(X[n,D-1])\n",
    "        X2[n,t+D-1] = 1\n",
    "        \n",
    "#     Z = np.zeros((n, 4))\n",
    "#     Z[np.arange(N), X[:D-1].astype(np.int32)] = 1\n",
    "#     assert(np.abs(X2[:,-4:] - Z).sum() < 10e-10)\n",
    "    \n",
    "    return X2, Y\n",
    "\n",
    "def get_binary_data():\n",
    "    # Get the data and filter is for only the classes with 0 or 1\n",
    "    X, Y = get_data()\n",
    "    X2 = X[Y <= 1]\n",
    "    Y2 = Y[Y <= 1]\n",
    "    return X2, Y2\n",
    "\n",
    "# Leaving this in a separate module"
   ]
  },
  {
   "cell_type": "code",
   "execution_count": 2,
   "metadata": {
    "collapsed": false
   },
   "outputs": [],
   "source": [
    "from process import get_binary_data\n",
    "X, Y = get_binary_data()"
   ]
  },
  {
   "cell_type": "code",
   "execution_count": 25,
   "metadata": {
    "collapsed": false
   },
   "outputs": [
    {
     "data": {
      "text/plain": [
       "array([ 1.        , -0.81697841, -0.40827769,  0.        ,  0.        ,\n",
       "        0.        ,  0.        ,  1.        ])"
      ]
     },
     "execution_count": 25,
     "metadata": {},
     "output_type": "execute_result"
    }
   ],
   "source": [
    "X[0,:]"
   ]
  },
  {
   "cell_type": "code",
   "execution_count": 57,
   "metadata": {
    "collapsed": false
   },
   "outputs": [
    {
     "name": "stdout",
     "output_type": "stream",
     "text": [
      "Score: 0.304020100503\n"
     ]
    }
   ],
   "source": [
    "D = X.shape[1]\n",
    "W = np.random.randn(D)\n",
    "b = 0\n",
    "\n",
    "def sigmoid(a):\n",
    "    return 1 / (1 + np.exp(-a))\n",
    "\n",
    "def forward(X, W, b):\n",
    "    return sigmoid(X.dot(W) + b)\n",
    "\n",
    "P_Y_given_X = forward(X, W, b)\n",
    "predictions = np.round(P_Y_given_X)\n",
    "\n",
    "def classification_rate(Y, P):\n",
    "    return np.mean(Y == P) # Will divide the number correct by the total num\n",
    "\n",
    "print(\"Score:\", classification_rate(Y, predictions))"
   ]
  },
  {
   "cell_type": "markdown",
   "metadata": {},
   "source": [
    "## checkpoint!\n",
    "- The forward() function takes all of the feature values and weights, takes the dot product, adds a zero bias, and then evaluates the sigmoid function with this final scalar value. The weights and features can be + or -, and the sigmoid will return a value between 0 and 1\n",
    "- This is an prediction! We can reference whether the true value was 0 or 1 to get accuracy.\n",
    "- Each row is a new prediction\n",
    "- Weights are randomly assigned initially and affect all predictions. We'll start updating these values soon!"
   ]
  },
  {
   "cell_type": "markdown",
   "metadata": {},
   "source": [
    "# The cross-entropy error function"
   ]
  },
  {
   "cell_type": "code",
   "execution_count": 95,
   "metadata": {
    "collapsed": false
   },
   "outputs": [
    {
     "name": "stdout",
     "output_type": "stream",
     "text": [
      "18.3289217197\n"
     ]
    }
   ],
   "source": [
    "N = 100\n",
    "D = 2\n",
    "X = np.random.randn(N,D)\n",
    "\n",
    "# Create two gaussian clouds centered at -2 and +2\n",
    "X[:50, :] = X[:50,:] - 2*np.ones((50,D))\n",
    "X[50:, :] = X[50:, :] + 2*np.ones((50,D))\n",
    "\n",
    "T = np.array([0]*50 + [1]*50) # one cloud has a target of 0, the other is 1\n",
    "\n",
    "ones = np.array([[1]*N]).T\n",
    "Xb = np.concatenate((ones, X), axis=1)\n",
    "\n",
    "# randomly initialize the weights\n",
    "w = np.random.randn(D+1)\n",
    "\n",
    "# calculate the model output\n",
    "z = Xb.dot(w)\n",
    "\n",
    "def sigmoid(z):\n",
    "    return 1/(1+np.exp(-z))\n",
    "\n",
    "Y = sigmoid(z)\n",
    "\n",
    "def cross_entropy(T, Y):\n",
    "    E = 0\n",
    "    for i in range(N):\n",
    "        if T[i] == 1:\n",
    "            E -= np.log(Y[i])\n",
    "        else:\n",
    "            E -= np.log(1 - Y[i])\n",
    "    return E\n",
    "\n",
    "print(cross_entropy(T,Y))"
   ]
  },
  {
   "cell_type": "code",
   "execution_count": 96,
   "metadata": {
    "collapsed": false
   },
   "outputs": [
    {
     "name": "stdout",
     "output_type": "stream",
     "text": [
      "0.0653223674319\n"
     ]
    }
   ],
   "source": [
    "# Use the closed form solution to logistic regression\n",
    "w = np.array([0, 4, 4])\n",
    "\n",
    "z = Xb.dot(w)\n",
    "Y = sigmoid(z)\n",
    "\n",
    "print(cross_entropy(T,Y))\n",
    "# Error is indeed much lower!"
   ]
  },
  {
   "cell_type": "markdown",
   "metadata": {},
   "source": [
    "### Visualizing the bayes solution that we just computed"
   ]
  },
  {
   "cell_type": "code",
   "execution_count": 86,
   "metadata": {
    "collapsed": false
   },
   "outputs": [
    {
     "data": {
      "image/png": "[encoded data removed]",
      "text/plain": [
       "<matplotlib.figure.Figure at 0x1185d7da0>"
      ]
     },
     "metadata": {},
     "output_type": "display_data"
    }
   ],
   "source": [
    "# y = -x\n",
    "import matplotlib.pyplot as plt\n",
    "%matplotlib inline\n",
    "plt.scatter(X[:,0], X[:,1], c=T, s=100, alpha=0.5);\n",
    "x_axis = np.linspace(-6, 6, 100)\n",
    "y_axis = -x_axis\n",
    "plt.plot(x_axis, y_axis);\n",
    "plt.show();"
   ]
  },
  {
   "cell_type": "markdown",
   "metadata": {},
   "source": [
    "### Applying gradient descent in code\n"
   ]
  },
  {
   "cell_type": "code",
   "execution_count": 204,
   "metadata": {
    "collapsed": false
   },
   "outputs": [
    {
     "name": "stdout",
     "output_type": "stream",
     "text": [
      "533.095163721\n",
      "533.095163721\n",
      "0.00265349997825\n",
      "0.00255839114562\n",
      "0.00247006732221\n",
      "0.00238783280148\n",
      "0.00231108373917\n",
      "0.00223929348342\n",
      "0.00217200062804\n",
      "0.00210879921725\n",
      "0.00204933066295\n",
      "Final w: [  0.12354785  20.99412545  21.50064963]\n"
     ]
    }
   ],
   "source": [
    "# as above\n",
    "N = 100\n",
    "D = 2\n",
    "X = np.random.randn(N,D)\n",
    "\n",
    "# Create two gaussian clouds centered at -2 and +2\n",
    "X[:50, :] = X[:50,:] - 2*np.ones((50,D))\n",
    "X[50:, :] = X[50:, :] + 2*np.ones((50,D))\n",
    "\n",
    "T = np.array([0]*50 + [1]*50) # one cloud has a target of 0, the other is 1\n",
    "\n",
    "ones = np.array([[1]*N]).T\n",
    "Xb = np.concatenate((ones, X), axis=1)\n",
    "\n",
    "# randomly initialize the weights\n",
    "w = np.random.randn(D+1)\n",
    "\n",
    "# calculate the model output\n",
    "z = Xb.dot(w)\n",
    "\n",
    "def sigmoid(z):\n",
    "    return 1/(1+np.exp(-z))\n",
    "\n",
    "Y = sigmoid(z)\n",
    "\n",
    "def cross_entropy(T, Y):\n",
    "    E = 0\n",
    "    for i in range(N):\n",
    "        if T[i] == 1:\n",
    "            E -= np.log(Y[i])\n",
    "        else:\n",
    "            E -= np.log(1 - Y[i])\n",
    "    return E\n",
    "\n",
    "print(cross_entropy(T,Y))\n",
    "\n",
    "\n",
    "# Closed form solution above provides a good baseline, \n",
    "# but using gradient descent works in general\n",
    "\n",
    "# randomly initialize the weights\n",
    "w = np.random.randn(D+1)\n",
    "\n",
    "learning_rate = 0.1\n",
    "for i in range(1000):\n",
    "    if (i % 100 == 0):\n",
    "        print(cross_entropy(T, Y))\n",
    "        \n",
    "    w += learning_rate * np.dot((T - Y).T, Xb)\n",
    "    Y = sigmoid(Xb.dot(w))\n",
    "    \n",
    "print(\"Final w:\", w)"
   ]
  },
  {
   "cell_type": "markdown",
   "metadata": {},
   "source": [
    "### applying learnings to our ecommerce example"
   ]
  },
  {
   "cell_type": "code",
   "execution_count": 196,
   "metadata": {
    "collapsed": false
   },
   "outputs": [],
   "source": [
    "import numpy as np\n",
    "import matplotlib.pyplot as plt\n",
    "\n",
    "from sklearn.utils import shuffle\n",
    "from process import get_binary_data\n",
    "\n",
    "X, Y = get_binary_data()\n",
    "X, Y = shuffle(X, Y)"
   ]
  },
  {
   "cell_type": "code",
   "execution_count": 203,
   "metadata": {
    "collapsed": false
   },
   "outputs": [
    {
     "name": "stdout",
     "output_type": "stream",
     "text": [
      "Weight vector w: [-1.9426281   1.95537497  1.12900666 -2.19024683  0.8862252   0.32583903\n",
      " -1.11308046 -0.15946496]\n",
      "0 0.858411882433 0.979631984533\n",
      "Weight vector w: [  9.65670662e-01   5.71547775e+00   3.24087746e-01   1.05961749e+00\n",
      "   4.16815383e-01  -6.40826441e-02  -4.32524077e-01  -5.59568270e-03]\n",
      "1000 0.170682842862 0.235641463264\n",
      "Weight vector w: [ 1.21392771  6.13677157  0.40452726  1.31520039  0.51180963 -0.08217598\n",
      " -0.5334623  -0.09322708]\n",
      "2000 0.169323688203 0.234480906891\n",
      "Weight vector w: [ 1.27953056  6.26460703  0.4287362   1.37939131  0.54110548 -0.08105572\n",
      " -0.56370891 -0.11735666]\n",
      "3000 0.169217840824 0.234670842818\n",
      "Weight vector w: [ 1.2998315   6.30562667  0.43653529  1.398848    0.5504008  -0.07997826\n",
      " -0.57347456 -0.12484323]\n",
      "4000 0.169207369026 0.234779683639\n",
      "Weight vector w: [ 1.30639266  6.31901453  0.439084    1.4050879   0.55341693 -0.07954951\n",
      " -0.57667034 -0.12726318]\n",
      "5000 0.169206265989 0.234819993767\n",
      "Weight vector w: [ 1.30854024  6.32340911  0.43992091  1.40712504  0.55440462 -0.07940058\n",
      " -0.57772018 -0.12805525]\n",
      "6000 0.169206147542 0.234833720689\n",
      "Weight vector w: [ 1.30924594  6.32485444  0.44019619  1.40779389  0.55472917 -0.07935074\n",
      " -0.57806552 -0.12831553]\n",
      "7000 0.169206134744 0.234838287169\n",
      "Weight vector w: [ 1.30947812  6.32533009  0.44028678  1.40801389  0.55483594 -0.07933424\n",
      " -0.57817918 -0.12840116]\n",
      "8000 0.169206133358 0.234839795466\n",
      "Weight vector w: [ 1.30955454  6.32548667  0.4403166   1.40808629  0.55487109 -0.07932881\n",
      " -0.5782166  -0.12842934]\n",
      "9000 0.169206133208 0.234840292532\n",
      "final train classification_rate: 0.969798657718\n",
      "final test classification_rate: 0.93\n"
     ]
    },
    {
     "data": {
      "image/png": "[encoded data removed]",
      "text/plain": [
       "<matplotlib.figure.Figure at 0x11977dc88>"
      ]
     },
     "metadata": {},
     "output_type": "display_data"
    }
   ],
   "source": [
    "Xtrain = X[:-100]\n",
    "Ytrain = Y[:-100]\n",
    "Xtest = X[-100:]\n",
    "Ytest = Y[-100:]\n",
    "\n",
    "D = X.shape[1]\n",
    "W = np.random.randn(D)\n",
    "b = 0\n",
    "\n",
    "def sigmoid(a):\n",
    "    return 1 / (1 + np.exp(-a))\n",
    "\n",
    "def forward(X, W, b):\n",
    "    return sigmoid(X.dot(W) + b)\n",
    "\n",
    "def classification_rate(Y, P):\n",
    "    return np.mean(Y == P)\n",
    "\n",
    "# new stuff\n",
    "def cross_entropy(T, pY):\n",
    "    return -np.mean(T*np.log(pY) + (1-T)*np.log(1-pY))\n",
    "\n",
    "train_costs = []\n",
    "test_costs = []\n",
    "learning_rate = 0.001\n",
    "\n",
    "for i in range(10000):\n",
    "    pYtrain = forward(Xtrain, W, b)\n",
    "    pYtest = forward(Xtest, W, b)\n",
    "    \n",
    "    ctrain = cross_entropy(Ytrain, pYtrain)\n",
    "    ctest = cross_entropy(Ytest, pYtest)\n",
    "    train_costs.append(ctrain)\n",
    "    test_costs.append(ctest)\n",
    "    \n",
    "    # now ready to do gradient descent\n",
    "    W -= learning_rate*Xtrain.T.dot(pYtrain - Ytrain)\n",
    "    b -= learning_rate*(pYtrain - Ytrain).sum()\n",
    "    \n",
    "    if i % 1000 == 0:\n",
    "        print (i, ctrain, ctest)\n",
    "        \n",
    "print(\"final train classification_rate:\", classification_rate(Ytrain, np.round(pYtrain)))\n",
    "print(\"final test classification_rate:\", classification_rate(Ytest, np.round(pYtest)))\n",
    "\n",
    "\n",
    "legend1, = plt.plot(train_costs, label='train cost')\n",
    "legend2, = plt.plot(test_costs, label='test cost')\n",
    "plt.legend([legend1, legend2])\n",
    "plt.show()"
   ]
  },
  {
   "cell_type": "markdown",
   "metadata": {},
   "source": [
    "### L2 Regularization"
   ]
  },
  {
   "cell_type": "code",
   "execution_count": 216,
   "metadata": {
    "collapsed": false
   },
   "outputs": [
    {
     "name": "stdout",
     "output_type": "stream",
     "text": [
      "524.0215135\n",
      "524.0215135\n",
      "0.0206545493002\n",
      "0.18414188853\n",
      "0.342283401035\n",
      "0.344616422983\n",
      "0.344599862692\n",
      "0.344598177017\n",
      "0.344598097172\n",
      "0.344598093836\n",
      "0.344598093701\n",
      "Final w: [-0.72528865  2.46707912  2.03246579]\n"
     ]
    }
   ],
   "source": [
    "# Reusing some code from last time\n",
    "N = 100\n",
    "D = 2\n",
    "X = np.random.randn(N,D)\n",
    "\n",
    "# Create two gaussian clouds centered at -2 and +2\n",
    "X[:50, :] = X[:50,:] - 2*np.ones((50,D))\n",
    "X[50:, :] = X[50:, :] + 2*np.ones((50,D))\n",
    "\n",
    "T = np.array([0]*50 + [1]*50) # one cloud has a target of 0, the other is 1\n",
    "\n",
    "ones = np.array([[1]*N]).T\n",
    "Xb = np.concatenate((ones, X), axis=1)\n",
    "\n",
    "# randomly initialize the weights\n",
    "w = np.random.randn(D+1)\n",
    "\n",
    "# calculate the model output\n",
    "z = Xb.dot(w)\n",
    "\n",
    "def sigmoid(z):\n",
    "    return 1/(1+np.exp(-z))\n",
    "\n",
    "Y = sigmoid(z)\n",
    "\n",
    "def cross_entropy(T, Y):\n",
    "    E = 0\n",
    "    for i in range(N):\n",
    "        if T[i] == 1:\n",
    "            E -= np.log(Y[i])\n",
    "        else:\n",
    "            E -= np.log(1 - Y[i])\n",
    "    return E\n",
    "\n",
    "print(cross_entropy(T,Y))\n",
    "\n",
    "\n",
    "# Closed form solution above provides a good baseline, \n",
    "# but using gradient descent works in general\n",
    "\n",
    "# randomly initialize the weights\n",
    "w = np.random.randn(D+1)\n",
    "\n",
    "learning_rate = 0.1\n",
    "for i in range(1000):\n",
    "    if (i % 100 == 0):\n",
    "        print(cross_entropy(T, Y))\n",
    "        \n",
    "    # The weights change proportionally to the magnitude of the \n",
    "    # derivative * learning rate\n",
    "    # Adding L2 regularization!!\n",
    "    w += learning_rate * (np.dot((T - Y).T, Xb) - 0.1*w)\n",
    "    Y = sigmoid(Xb.dot(w))\n",
    "    \n",
    "print(\"Final w:\", w)"
   ]
  },
  {
   "cell_type": "markdown",
   "metadata": {},
   "source": [
    "### L1 Regularization code \n",
    "- going to try and find a sparse set of weights that identify the useful dimensions of x\n"
   ]
  },
  {
   "cell_type": "code",
   "execution_count": 275,
   "metadata": {
    "collapsed": false
   },
   "outputs": [
    {
     "data": {
      "image/png": "[encoded data removed]",
      "text/plain": [
       "<matplotlib.figure.Figure at 0x11d2b6390>"
      ]
     },
     "metadata": {},
     "output_type": "display_data"
    },
    {
     "data": {
      "image/png": "[encoded data removed]",
      "text/plain": [
       "<matplotlib.figure.Figure at 0x120837198>"
      ]
     },
     "metadata": {},
     "output_type": "display_data"
    }
   ],
   "source": [
    "import numpy as np\n",
    "import matplotlib.pyplot as plt\n",
    "\n",
    "def sigmoid(z):\n",
    "    return 1 / (1 + np.exp(-z))\n",
    "\n",
    "N = 50\n",
    "D = 50 # fat matrix\n",
    "X = (np.random.random((N,D)) - 0.5)*10 #between -5 and 5\n",
    "true_w = np.array([1, 0.5, -0.5] + [0]*(D-3)) #last 47 dimensions don't effect output at all\n",
    "\n",
    "Y = np.round(sigmoid(X.dot(true_w) + np.random.randn(N)*0.5)) # + random noise\n",
    "\n",
    "# now perform gradient descent\n",
    "costs = []\n",
    "w = np.random.randn(D) / np.sqrt(D)\n",
    "learning_rate = 0.001\n",
    "l1 = 12.0 # try different values here\n",
    "\n",
    "for t in range(5000):\n",
    "    Yhat = sigmoid(X.dot(w))\n",
    "    delta = Yhat - Y\n",
    "    w = w - learning_rate*(X.T.dot(delta) + l1*np.sign(w))\n",
    "    \n",
    "    cost = -(Y*np.log(Yhat) + (1-Y)*np.log(1-Yhat)).mean() + l1*np.abs(w).mean()\n",
    "    costs.append(cost)\n",
    "    \n",
    "plt.plot(costs)\n",
    "plt.show()\n",
    "\n",
    "plt.plot(true_w, label='true w')\n",
    "plt.plot(w, label='w map')\n",
    "plt.legend()\n",
    "plt.show()"
   ]
  },
  {
   "cell_type": "code",
   "execution_count": null,
   "metadata": {
    "collapsed": true
   },
   "outputs": [],
   "source": []
  },
  {
   "cell_type": "code",
   "execution_count": null,
   "metadata": {
    "collapsed": true
   },
   "outputs": [],
   "source": []
  },
  {
   "cell_type": "code",
   "execution_count": null,
   "metadata": {
    "collapsed": true
   },
   "outputs": [],
   "source": []
  },
  {
   "cell_type": "code",
   "execution_count": null,
   "metadata": {
    "collapsed": true
   },
   "outputs": [],
   "source": []
  },
  {
   "cell_type": "code",
   "execution_count": null,
   "metadata": {
    "collapsed": true
   },
   "outputs": [],
   "source": []
  },
  {
   "cell_type": "code",
   "execution_count": null,
   "metadata": {
    "collapsed": true
   },
   "outputs": [],
   "source": []
  },
  {
   "cell_type": "code",
   "execution_count": null,
   "metadata": {
    "collapsed": true
   },
   "outputs": [],
   "source": []
  },
  {
   "cell_type": "code",
   "execution_count": null,
   "metadata": {
    "collapsed": true
   },
   "outputs": [],
   "source": []
  },
  {
   "cell_type": "code",
   "execution_count": null,
   "metadata": {
    "collapsed": true
   },
   "outputs": [],
   "source": []
  },
  {
   "cell_type": "code",
   "execution_count": null,
   "metadata": {
    "collapsed": true
   },
   "outputs": [],
   "source": []
  },
  {
   "cell_type": "code",
   "execution_count": null,
   "metadata": {
    "collapsed": true
   },
   "outputs": [],
   "source": []
  },
  {
   "cell_type": "code",
   "execution_count": null,
   "metadata": {
    "collapsed": true
   },
   "outputs": [],
   "source": []
  },
  {
   "cell_type": "code",
   "execution_count": null,
   "metadata": {
    "collapsed": true
   },
   "outputs": [],
   "source": []
  }
 ],
 "metadata": {
  "anaconda-cloud": {},
  "kernelspec": {
   "display_name": "Python [Root]",
   "language": "python",
   "name": "Python [Root]"
  },
  "language_info": {
   "codemirror_mode": {
    "name": "ipython",
    "version": 3
   },
   "file_extension": ".py",
   "mimetype": "text/x-python",
   "name": "python",
   "nbconvert_exporter": "python",
   "pygments_lexer": "ipython3",
   "version": "3.5.2"
  }
 },
 "nbformat": 4,
 "nbformat_minor": 0
}
