{
 "cells": [
  {
   "cell_type": "code",
   "execution_count": 1,
   "metadata": {
    "collapsed": false
   },
   "outputs": [
    {
     "name": "stdout",
     "output_type": "stream",
     "text": [
      "16.0\n",
      "1.7179869184000005\n",
      "0.18446744073709553\n",
      "0.01980704062856609\n",
      "0.002126764793255866\n",
      "0.00022835963083295366\n",
      "2.4519928653854235e-05\n",
      "2.632807291713931e-06\n",
      "2.8269553036454164e-07\n",
      "3.0354201441027036e-08\n"
     ]
    }
   ],
   "source": [
    "# By moving slowly in the direction fo the derivative you'll\n",
    "# get closer and closer to the solution\n",
    "import numpy as np\n",
    "w = 20\n",
    "for i in range(100):\n",
    "    w = w - 0.1*2*w\n",
    "    if i%10 == 0:\n",
    "        print(w)"
   ]
  },
  {
   "cell_type": "code",
   "execution_count": 2,
   "metadata": {
    "collapsed": true
   },
   "outputs": [],
   "source": [
    "import matplotlib.pyplot as plt\n",
    "from scipy.interpolate import griddata\n",
    "%matplotlib inline"
   ]
  },
  {
   "cell_type": "code",
   "execution_count": 18,
   "metadata": {
    "collapsed": false
   },
   "outputs": [
    {
     "name": "stdout",
     "output_type": "stream",
     "text": [
      "0.8 0.6\n",
      "0.08589934592000002 0.2922301309420271\n",
      "0.009223372036854777 0.2233850810585697\n",
      "0.0009903520314283045 0.18814840614036757\n",
      "0.00010633823966279331 0.16574266779628527\n",
      "1.1417981541647683e-05 0.1498652990772018\n",
      "1.2259964326927118e-06 0.13784861140159982\n",
      "1.3164036458569655e-07 0.12834057344717553\n",
      "1.4134776518227082e-08 0.12057212285525987\n",
      "1.517710072051352e-09 0.11406890884989392\n"
     ]
    }
   ],
   "source": [
    "def J(w1, w2):\n",
    "    return w1^2 + w2^4\n",
    "\n",
    "def JprimeW1(w1):\n",
    "    return 2*w1\n",
    "\n",
    "def JprimeW2(w2):\n",
    "    return 4*(w2**3)\n",
    "\n",
    "learning_rate = 0.1\n",
    "\n",
    "w1 = 1\n",
    "w2 = 1\n",
    "num_iter = 100\n",
    "\n",
    "for i in range(num_iter):\n",
    "    w1 -= learning_rate*JprimeW1(w1)\n",
    "    w2 -= learning_rate*JprimeW2(w2)\n",
    "    if (i % (num_iter/10) == 0):\n",
    "        print(w1, w2)"
   ]
  },
  {
   "cell_type": "code",
   "execution_count": 54,
   "metadata": {
    "collapsed": false
   },
   "outputs": [
    {
     "data": {
      "text/plain": [
       "4000"
      ]
     },
     "execution_count": 54,
     "metadata": {},
     "output_type": "execute_result"
    }
   ],
   "source": [
    "0.1*4*(10**3)"
   ]
  }
 ],
 "metadata": {
  "anaconda-cloud": {},
  "kernelspec": {
   "display_name": "Python [Root]",
   "language": "python",
   "name": "Python [Root]"
  },
  "language_info": {
   "codemirror_mode": {
    "name": "ipython",
    "version": 3
   },
   "file_extension": ".py",
   "mimetype": "text/x-python",
   "name": "python",
   "nbconvert_exporter": "python",
   "pygments_lexer": "ipython3",
   "version": "3.5.2"
  }
 },
 "nbformat": 4,
 "nbformat_minor": 0
}
