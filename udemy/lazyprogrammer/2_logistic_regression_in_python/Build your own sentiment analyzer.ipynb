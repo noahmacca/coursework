{
 "cells": [
  {
   "cell_type": "markdown",
   "metadata": {},
   "source": [
    "what is it?\n",
    "- sentiment = how positive or negative some text is\n",
    "- Amazon reviews, Yelp reviews, hotel reviews, tweets,...\n",
    "\n",
    "Our data:\n",
    "https://www.cs.jhu.edu/~mdredze/datasets/sentiment/index2.html"
   ]
  },
  {
   "cell_type": "markdown",
   "metadata": {},
   "source": [
    "## Outline of our sentiment analyzer\n",
    "- We'll just look at the electronics category, but oyu can try the same code on others\n",
    "- We could use 5 star targets to do regression, but let's just do classification since they are already marked \"positive\" and \"negative\"\n",
    "- XML parser (BeautifulSoup)\n",
    "- We'll look at key \"review_text\"\n",
    "- We'll need 2 passes, one to determine vocabulary size and which index corresponds to which word, and one to create data vectors\n",
    "- After that, we can just use any SKLearn classifier as we did previuosly\n",
    "- But we'll use logistic regression so we can interpret the weights"
   ]
  },
  {
   "cell_type": "code",
   "execution_count": 1,
   "metadata": {
    "collapsed": true
   },
   "outputs": [],
   "source": [
    "import pandas as pd"
   ]
  },
  {
   "cell_type": "code",
   "execution_count": null,
   "metadata": {
    "collapsed": true
   },
   "outputs": [],
   "source": [
    "folder = \"./data/sorted_data_acl/electronics/\"\n",
    "file1 = folder + \"positive.review\""
   ]
  }
 ],
 "metadata": {
  "kernelspec": {
   "display_name": "Python [Root]",
   "language": "python",
   "name": "Python [Root]"
  },
  "language_info": {
   "codemirror_mode": {
    "name": "ipython",
    "version": 3
   },
   "file_extension": ".py",
   "mimetype": "text/x-python",
   "name": "python",
   "nbconvert_exporter": "python",
   "pygments_lexer": "ipython3",
   "version": "3.5.2"
  }
 },
 "nbformat": 4,
 "nbformat_minor": 0
}
