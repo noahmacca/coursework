{
 "cells": [
  {
   "cell_type": "code",
   "execution_count": 50,
   "metadata": {
    "collapsed": true
   },
   "outputs": [],
   "source": [
    "import pandas as pd\n",
    "import numpy as np\n",
    "import matplotlib.pyplot as plt\n",
    "from sklearn.utils import shuffle\n",
    "import seaborn as sns\n",
    "\n",
    "%matplotlib inline"
   ]
  },
  {
   "cell_type": "code",
   "execution_count": 20,
   "metadata": {
    "collapsed": true
   },
   "outputs": [],
   "source": [
    "def getBinaryData():\n",
    "    Y = []\n",
    "    X = []\n",
    "    first = True\n",
    "    for line in open('fer2013.csv'):\n",
    "        if first:\n",
    "            first = False\n",
    "        else:\n",
    "            row = line.split(',')\n",
    "            y = int(row[0])\n",
    "            if y == 0 or y == 1:\n",
    "                Y.append(y)\n",
    "                X.append([int(p) for p in row[1].split()])\n",
    "    return np.array(X) / 255.0, np.array(Y)"
   ]
  },
  {
   "cell_type": "code",
   "execution_count": 21,
   "metadata": {
    "collapsed": true
   },
   "outputs": [],
   "source": [
    "X, Y = getBinaryData()"
   ]
  },
  {
   "cell_type": "code",
   "execution_count": 52,
   "metadata": {
    "collapsed": true
   },
   "outputs": [],
   "source": [
    "class LogisticModel(object):\n",
    "    def __init__(self):\n",
    "        pass\n",
    "    \n",
    "    def fit(self, X, Y, learning_rate=10e-7, reg=0, epochs=120000, show_fig=False):\n",
    "        X, Y = shuffle(X, Y)\n",
    "        \n",
    "        #Split X and Y into training and validation sets\n",
    "        Xvalid, Yvalid = X[-1000:], Y[-1000:]\n",
    "        X, Y = X[:-1000], Y[:-1000]\n",
    "        \n",
    "        N, D = X.shape\n",
    "        self.W = np.random.randn(D) / np.sqrt(D)\n",
    "        self.b = 0\n",
    "        \n",
    "        costs = []\n",
    "        best_validation_error = 1\n",
    "        \n",
    "        # loop through the number of epochs\n",
    "        for i in range(epochs):\n",
    "            pY = self.forward(X)\n",
    "            \n",
    "            #gradient descent step with regularization\n",
    "            self.W -= learning_rate*(X.T.dot(pY - Y) + reg*self.W)\n",
    "            self.b -= learning_rate*((pY - Y).sum() + reg*self.b)\n",
    "            \n",
    "            if i % 20 == 0:\n",
    "                pYvalid = self.forward(Xvalid)\n",
    "                c = self.sigmoid_cost(Yvalid, pYvalid)\n",
    "                costs.append(c)\n",
    "                e = self.error_rate(Yvalid, np.round(pYvalid))\n",
    "                print(\"i:\", i, \"cost:\", c, \"error:\", e)\n",
    "                if e < best_validation_error:\n",
    "                    best_validation_error = e\n",
    "                \n",
    "        print(\"best_validation_error:\", best_validation_error)\n",
    "        \n",
    "        if show_fig:\n",
    "            plt.plot(costs)\n",
    "            plt.show()\n",
    "            \n",
    "    def forward(self, X):\n",
    "        return self.sigmoid(X.dot(self.W) + self.b)\n",
    "    \n",
    "    def sigmoid(self, A):\n",
    "        return 1 / (1 + np.exp(-A))\n",
    "    \n",
    "    def sigmoid_cost(self, T, Y):\n",
    "        return -(T*np.log(Y) + (1-T)*np.log(1-Y)).sum()\n",
    "    \n",
    "    def error_rate(self, targets, predictions):\n",
    "        return np.mean(targets != predictions)\n",
    "    \n",
    "    def predict(self, X):\n",
    "        pY = self.forward(X)\n",
    "        return np.round(pY)\n",
    "    \n",
    "    def score(self, X, Y):\n",
    "        prediction = self.predict(X)\n",
    "        return 1 - error_rate(Y, prediction)"
   ]
  },
  {
   "cell_type": "code",
   "execution_count": 35,
   "metadata": {
    "collapsed": false
   },
   "outputs": [
    {
     "name": "stdout",
     "output_type": "stream",
     "text": [
      "[[   0 4953]\n",
      " [   1  547]]\n"
     ]
    }
   ],
   "source": [
    "unique, counts = np.unique(Y, return_counts=True)\n",
    "print(np.asarray((unique, counts)).T)"
   ]
  },
  {
   "cell_type": "code",
   "execution_count": 48,
   "metadata": {
    "collapsed": true
   },
   "outputs": [],
   "source": [
    "# Now we balance the classes\n",
    "X0 = X[Y==0,:]\n",
    "X1 = X[Y==1, :]\n",
    "X1 = np.repeat(X1, 9, axis=0)\n",
    "X = np.vstack([X0, X1])\n",
    "Y = np.array([0]*len(X0) + [1]*len(X1))"
   ]
  },
  {
   "cell_type": "code",
   "execution_count": 58,
   "metadata": {
    "collapsed": false
   },
   "outputs": [
    {
     "name": "stdout",
     "output_type": "stream",
     "text": [
      "i: 0 cost: 779.14729609 error: 0.492\n",
      "i: 20 cost: 685.037332296 error: 0.439\n",
      "i: 40 cost: 684.052556239 error: 0.448\n",
      "i: 60 cost: 683.226936649 error: 0.445\n",
      "i: 80 cost: 682.423078305 error: 0.436\n",
      "i: 100 cost: 681.641952356 error: 0.428\n",
      "i: 120 cost: 680.881759052 error: 0.428\n",
      "i: 140 cost: 680.140809494 error: 0.428\n",
      "i: 160 cost: 679.417640477 error: 0.432\n",
      "i: 180 cost: 678.71098712 error: 0.424\n",
      "i: 200 cost: 678.019753616 error: 0.418\n",
      "i: 220 cost: 677.342988014 error: 0.415\n",
      "i: 240 cost: 676.679860684 error: 0.412\n",
      "i: 260 cost: 676.029645988 error: 0.411\n",
      "i: 280 cost: 675.391706662 error: 0.408\n",
      "i: 300 cost: 674.765480541 error: 0.403\n",
      "i: 320 cost: 674.150469267 error: 0.396\n",
      "i: 340 cost: 673.546228709 error: 0.391\n",
      "i: 360 cost: 672.952360822 error: 0.389\n",
      "i: 380 cost: 672.368506752 error: 0.384\n",
      "i: 400 cost: 671.794340988 error: 0.383\n",
      "i: 420 cost: 671.229566415 error: 0.382\n",
      "i: 440 cost: 670.67391013 error: 0.384\n",
      "i: 460 cost: 670.127119899 error: 0.384\n",
      "i: 480 cost: 669.588961175 error: 0.382\n",
      "i: 500 cost: 669.059214577 error: 0.383\n",
      "i: 520 cost: 668.537673769 error: 0.382\n",
      "i: 540 cost: 668.024143669 error: 0.381\n",
      "i: 560 cost: 667.518438951 error: 0.379\n",
      "i: 580 cost: 667.02038278 error: 0.38\n",
      "i: 600 cost: 666.529805755 error: 0.378\n",
      "i: 620 cost: 666.046545023 error: 0.375\n",
      "i: 640 cost: 665.570443532 error: 0.376\n",
      "i: 660 cost: 665.101349415 error: 0.374\n",
      "i: 680 cost: 664.639115468 error: 0.375\n",
      "i: 700 cost: 664.18359872 error: 0.377\n",
      "i: 720 cost: 663.734660067 error: 0.375\n",
      "i: 740 cost: 663.292163977 error: 0.377\n",
      "i: 760 cost: 662.855978234 error: 0.378\n",
      "i: 780 cost: 662.425973731 error: 0.377\n",
      "i: 800 cost: 662.002024295 error: 0.372\n",
      "i: 820 cost: 661.584006538 error: 0.371\n",
      "i: 840 cost: 661.171799738 error: 0.37\n",
      "i: 860 cost: 660.765285733 error: 0.37\n",
      "i: 880 cost: 660.364348834 error: 0.368\n",
      "i: 900 cost: 659.968875748 error: 0.366\n",
      "i: 920 cost: 659.578755518 error: 0.365\n",
      "i: 940 cost: 659.193879462 error: 0.364\n",
      "i: 960 cost: 658.814141124 error: 0.365\n",
      "i: 980 cost: 658.439436233 error: 0.365\n",
      "best_validation_error: 0.364\n"
     ]
    },
    {
     "data": {
      "image/png": "[encoded data removed]",
      "text/plain": [
       "<matplotlib.figure.Figure at 0x117f42a90>"
      ]
     },
     "metadata": {},
     "output_type": "display_data"
    }
   ],
   "source": [
    "# Now createa  model\n",
    "model = LogisticModel()\n",
    "model.fit(X, Y, show_fig=True, epochs=1000, learning_rate=10e-8)"
   ]
  }
 ],
 "metadata": {
  "anaconda-cloud": {},
  "kernelspec": {
   "display_name": "Python [Root]",
   "language": "python",
   "name": "Python [Root]"
  },
  "language_info": {
   "codemirror_mode": {
    "name": "ipython",
    "version": 3
   },
   "file_extension": ".py",
   "mimetype": "text/x-python",
   "name": "python",
   "nbconvert_exporter": "python",
   "pygments_lexer": "ipython3",
   "version": "3.5.2"
  }
 },
 "nbformat": 4,
 "nbformat_minor": 0
}
