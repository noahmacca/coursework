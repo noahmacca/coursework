{
 "cells": [
  {
   "cell_type": "code",
   "execution_count": 5,
   "metadata": {
    "collapsed": false
   },
   "outputs": [],
   "source": [
    "import numpy as np\n",
    "import matplotlib.pyplot as plt\n",
    "%matplotlib inline\n",
    "\n",
    "N = 4\n",
    "D = 2\n",
    "\n",
    "X = np.array([\n",
    "    [0,0],\n",
    "    [0,1],\n",
    "    [1,0],\n",
    "    [1,1]\n",
    "])\n",
    "T = np.array([0, 1, 1, 0])\n",
    "\n",
    "ones = np.array([[1]*N]).T"
   ]
  },
  {
   "cell_type": "code",
   "execution_count": 6,
   "metadata": {
    "collapsed": false
   },
   "outputs": [
    {
     "data": {
      "image/png": "[encoded data removed]",
      "text/plain": [
       "<matplotlib.figure.Figure at 0x104044f28>"
      ]
     },
     "metadata": {},
     "output_type": "display_data"
    }
   ],
   "source": [
    "plt.scatter(X[:,0], X[:,1], c=T);"
   ]
  },
  {
   "cell_type": "code",
   "execution_count": null,
   "metadata": {
    "collapsed": true
   },
   "outputs": [],
   "source": [
    "# Can't find a line that will give you a perfect classification!\n",
    "# The trick is to add another dimension to our input\n",
    "# This turns it into a 3d prblem from a 2d problme\n",
    "# Then we can draw a plane between the two datasets"
   ]
  },
  {
   "cell_type": "code",
   "execution_count": 7,
   "metadata": {
    "collapsed": true
   },
   "outputs": [],
   "source": [
    "xy = np.matrix(X[:,0] * X[:,1]).T\n",
    "Xb = np.array(np.concatenate((ones, xy, X), axis=1))"
   ]
  },
  {
   "cell_type": "code",
   "execution_count": 24,
   "metadata": {
    "collapsed": false
   },
   "outputs": [],
   "source": [
    "# randomly initialize the weights\n",
    "w = np.random.randn(D + 2)\n",
    "\n",
    "# calculate the model output\n",
    "z = Xb.dot(w)\n",
    "\n",
    "def sigmoid(z):\n",
    "    return 1/(1 + np.exp(-z))\n",
    "\n",
    "Y = sigmoid(z)\n",
    "\n",
    "def cross_entropy(T, Y):\n",
    "    E = 0\n",
    "    for i in range(N):\n",
    "        if T[i] == 1:\n",
    "            E -= np.log(Y[i])\n",
    "        else:\n",
    "            E -= np.log(1-Y[i])\n",
    "    return E"
   ]
  },
  {
   "cell_type": "code",
   "execution_count": 28,
   "metadata": {
    "collapsed": false
   },
   "outputs": [
    {
     "name": "stdout",
     "output_type": "stream",
     "text": [
      "1.80435152575\n",
      "1.79689601647\n",
      "1.78950336118\n",
      "1.78217264826\n",
      "1.77490299268\n",
      "1.76769353472\n",
      "1.76054343893\n",
      "1.75345189304\n",
      "1.74641810693\n",
      "1.7394413117\n",
      "1.73252075871\n",
      "1.7256557188\n",
      "1.71884548137\n",
      "1.71208935367\n",
      "1.70538666003\n",
      "1.69873674114\n",
      "1.69213895343\n",
      "1.68559266837\n",
      "1.6790972719\n",
      "1.67265216385\n",
      "1.66625675741\n",
      "1.65991047858\n",
      "1.65361276568\n",
      "1.64736306889\n",
      "1.64116084981\n",
      "1.63500558101\n",
      "1.62889674566\n",
      "1.62283383709\n",
      "1.61681635848\n",
      "1.61084382249\n",
      "1.60491575089\n",
      "1.59903167432\n",
      "1.5931911319\n",
      "1.58739367102\n",
      "1.58163884701\n",
      "1.57592622291\n",
      "1.57025536921\n",
      "1.56462586359\n",
      "1.55903729074\n",
      "1.5534892421\n",
      "1.54798131569\n",
      "1.54251311588\n",
      "1.5370842532\n",
      "1.53169434419\n",
      "1.52634301122\n",
      "1.52102988229\n",
      "1.51575459091\n",
      "1.51051677594\n",
      "1.50531608145\n",
      "1.50015215654\n",
      "1.49502465529\n",
      "1.48993323655\n",
      "1.48487756386\n",
      "1.47985730533\n",
      "1.47487213353\n",
      "1.46992172537\n",
      "1.46500576201\n",
      "1.46012392875\n",
      "1.45527591493\n",
      "1.45046141388\n",
      "1.44568012276\n",
      "1.44093174256\n",
      "1.43621597793\n",
      "1.43153253719\n",
      "1.42688113218\n",
      "1.42226147823\n",
      "1.41767329408\n",
      "1.41311630182\n",
      "1.40859022679\n",
      "1.40409479756\n",
      "1.39962974586\n",
      "1.3951948065\n",
      "1.39078971733\n",
      "1.38641421919\n",
      "1.38206805583\n",
      "1.37775097389\n",
      "1.37346272285\n",
      "1.36920305494\n",
      "1.36497172514\n",
      "1.36076849113\n",
      "1.35659311319\n",
      "1.35244535425\n",
      "1.34832497978\n",
      "1.34423175775\n",
      "1.34016545863\n",
      "1.33612585533\n",
      "1.33211272315\n",
      "1.32812583979\n",
      "1.32416498524\n",
      "1.32022994182\n",
      "1.31632049411\n",
      "1.3124364289\n",
      "1.30857753522\n",
      "1.30474360425\n",
      "1.30093442929\n",
      "1.2971498058\n",
      "1.29338953126\n",
      "1.28965340527\n",
      "1.2859412294\n",
      "1.28225280725\n",
      "Final w: [-0.45506026 -4.13169749  1.49776385  1.52038991]\n",
      "Final classification rate: 1.0\n"
     ]
    },
    {
     "data": {
      "image/png": "[encoded data removed]",
      "text/plain": [
       "<matplotlib.figure.Figure at 0x110125828>"
      ]
     },
     "metadata": {},
     "output_type": "display_data"
    }
   ],
   "source": [
    "learning_rate = 0.001\n",
    "error = []\n",
    "for i in range(10000):\n",
    "    e = cross_entropy(T, Y)\n",
    "    error.append(e)\n",
    "    if i % 100 == 0:\n",
    "        print(e)\n",
    "        \n",
    "    # gradient descent weight update with regularization\n",
    "    w += learning_rate * (np.dot((T-Y).T, Xb) - 0.01*w)\n",
    "    \n",
    "    # recalculate Y\n",
    "    Y = sigmoid(Xb.dot(w))\n",
    "    \n",
    "plt.plot(error)\n",
    "plt.title(\"Cross-entropy per iteration\")\n",
    "\n",
    "print(\"Final w:\", w)\n",
    "print(\"Final classification rate:\", 1 - np.abs(T - np.round(Y)).sum() / N)"
   ]
  },
  {
   "cell_type": "markdown",
   "metadata": {},
   "source": [
    "- These past two examples bring up interesting examples for machine learning\n",
    "- Can apply logistic regression to some complex problems by manually engineering features\n",
    "- In ML ideally, the machine would be able to learn these things\n",
    "- This is precisely what neural networks do!"
   ]
  }
 ],
 "metadata": {
  "kernelspec": {
   "display_name": "Python [Root]",
   "language": "python",
   "name": "Python [Root]"
  },
  "language_info": {
   "codemirror_mode": {
    "name": "ipython",
    "version": 3
   },
   "file_extension": ".py",
   "mimetype": "text/x-python",
   "name": "python",
   "nbconvert_exporter": "python",
   "pygments_lexer": "ipython3",
   "version": "3.5.2"
  }
 },
 "nbformat": 4,
 "nbformat_minor": 0
}
